{
 "cells": [
  {
   "cell_type": "markdown",
   "metadata": {},
   "source": [
    "# Intro to Text as Data (UMN LATIS/Libraries)\n",
    "\n",
    "## Intro\n",
    "This workshop will cover how to:\n",
    "- Read and write text files in Python\n",
    "- Manipulate ‘strings’ of text\n",
    "- Pre-process and clean text for analysis\n",
    "- Count and plot word frequencies\n",
    "- Conduct sentiment analysis\n",
    "- ~Run basic topic models~\n",
    "\n",
    "### Prereqs\n",
    "Be familiar with Python. Have some previous experience with an introductory Python workshop, for example.\n",
    "\n",
    "## JupyterLab - Get attendees set up\n",
    "We'll share JupyterLab features as we go, but to get started let's create a new blank `workshop.ipynb` file that you can work with throughout the workshop. \n",
    "\n",
    "Note the control icons above the Notebook. You can use these to:\n",
    "- add new cells\n",
    "- run code (which you can also do, using control-shift)\n",
    "- and switch cells from code to markdown"
   ]
  },
  {
   "cell_type": "markdown",
   "metadata": {},
   "source": [
    "### Reading files\n",
    "\n",
    "Let's start to work with text by reading it in from a series of text files.\n",
    "\n",
    "For most text as data projects, your first step is going to be to read in the files containing the data. Common file types for text data are: \n",
    "* `.txt`\n",
    "* `.csv`\n",
    "* `.json`\n",
    "* `.html` \n",
    "* `.xml`\n",
    "\n",
    "Each file format requires specific Python tools or methods to read, but for our case, we'll be working with .txt files.\n",
    "\n",
    "#### Reading in `.txt` files\n",
    "\n",
    "Python has built-in support for reading in `.txt` files.\n",
    "\n",
    "Let's take a look at the first file in our directory (folder) of State of the Union addresses which is located one directory back from the `text_as_data` folder (`../sotu_text`):"
   ]
  },
  {
   "cell_type": "code",
   "execution_count": 1,
   "metadata": {},
   "outputs": [],
   "source": [
    "# create a new variable called file1 and read (\"r\") the first file in the sotu_text folder\n",
    "file1 = open('../sotu_kaggle/Clinton_1995.txt','r') "
   ]
  },
  {
   "cell_type": "markdown",
   "metadata": {},
   "source": [
    "If we try to print out the file, however, it's not yet stored as a Python string, but as an encoded text \"wrapper\" from the io (input/output) Python module."
   ]
  },
  {
   "cell_type": "code",
   "execution_count": 2,
   "metadata": {},
   "outputs": [
    {
     "name": "stdout",
     "output_type": "stream",
     "text": [
      "<_io.TextIOWrapper name='../sotu_kaggle/Clinton_1995.txt' mode='r' encoding='UTF-8'>\n"
     ]
    }
   ],
   "source": [
    "# Printing doesn't print the contents\n",
    "print(file1)"
   ]
  },
  {
   "cell_type": "markdown",
   "metadata": {},
   "source": [
    "To access the text, we can use the .read() method of the `TextIOWrapper` and then use the string index of the text object to show the first 250 characters. Once we save the contents of the file1 text to a new variable we can close the file1 object so that our computer memory doesn't have to keep track of that."
   ]
  },
  {
   "cell_type": "code",
   "execution_count": 3,
   "metadata": {
    "scrolled": true
   },
   "outputs": [
    {
     "name": "stdout",
     "output_type": "stream",
     "text": [
      "Mr. President, Mr. Speaker, members of the 104th Congress, my fellow\n",
      "Americans:\n",
      "\n",
      "Again we are here in the sanctuary of democracy. And once again, our\n",
      "democracy has spoken.\n",
      "\n",
      "So let me begin by congratulating all of you here in the 104th Congress,\n",
      "and \n"
     ]
    }
   ],
   "source": [
    "text = file1.read()\n",
    "print(text[0:250])\n",
    "file1.close()"
   ]
  },
  {
   "cell_type": "markdown",
   "metadata": {},
   "source": [
    "A more efficient way to work with text files in Python is to use a `with` statement, which will automatically close the file for you:"
   ]
  },
  {
   "cell_type": "code",
   "execution_count": 3,
   "metadata": {},
   "outputs": [],
   "source": [
    "with open('../sotu_kaggle/Clinton_1995.txt','r') as file1:\n",
    "    text = file1.read()   "
   ]
  },
  {
   "cell_type": "markdown",
   "metadata": {},
   "source": [
    "### Tokenization\n",
    "\n",
    "Once we've read in the data, a common next step is to split a longer string into words or-—more helpfully-—\"word chunks\" called \"tokens.\" This step is referred to as \"tokenization\". Tokens can be of any length (sentences, words, or parts of words), but usually we want to reduce our text into meaningful word chunks. \n",
    "\n",
    "#### Tokenizing by whitespace\n",
    "An easy way to tokenize a string, though not the most accurate, is to split up a string using whitespace. Let's save each word to a list variable called 'tokens.' `.split()` creates a Python list of the words from the string. If we leave the argument for `split()` blank, it will split on whitespace characters in the string."
   ]
  },
  {
   "cell_type": "code",
   "execution_count": 4,
   "metadata": {},
   "outputs": [],
   "source": [
    "tokens = text.split()"
   ]
  },
  {
   "cell_type": "code",
   "execution_count": 5,
   "metadata": {},
   "outputs": [
    {
     "data": {
      "text/plain": [
       "['Mr.',\n",
       " 'President,',\n",
       " 'Mr.',\n",
       " 'Speaker,',\n",
       " 'members',\n",
       " 'of',\n",
       " 'the',\n",
       " '104th',\n",
       " 'Congress,',\n",
       " 'my']"
      ]
     },
     "execution_count": 5,
     "metadata": {},
     "output_type": "execute_result"
    }
   ],
   "source": [
    "tokens[0:10]"
   ]
  },
  {
   "cell_type": "markdown",
   "metadata": {},
   "source": [
    "### Splitting on other characters\n",
    "\n",
    "Sentence segmentation involves identifying the boundaries of sentences, and provides a different way to tokenize our text.\n",
    "\n",
    "#### Sentence segmentation by splitting on punctuation"
   ]
  },
  {
   "cell_type": "code",
   "execution_count": 6,
   "metadata": {},
   "outputs": [
    {
     "data": {
      "text/plain": [
       "'Mr'"
      ]
     },
     "execution_count": 6,
     "metadata": {},
     "output_type": "execute_result"
    }
   ],
   "source": [
    "# instead of the default whitespace for split(), you can identify the character or characters you'd like to split on\n",
    "sentences = text.split('.')\n",
    "sentences[0]"
   ]
  },
  {
   "cell_type": "markdown",
   "metadata": {},
   "source": [
    "We can check how many items are in any list using the len() function."
   ]
  },
  {
   "cell_type": "code",
   "execution_count": 7,
   "metadata": {},
   "outputs": [
    {
     "data": {
      "text/plain": [
       "452"
      ]
     },
     "execution_count": 7,
     "metadata": {},
     "output_type": "execute_result"
    }
   ],
   "source": [
    "len(sentences)"
   ]
  },
  {
   "cell_type": "code",
   "execution_count": 9,
   "metadata": {},
   "outputs": [
    {
     "data": {
      "text/plain": [
       "'\\n\\nWhat are we to do about it?\\n\\nMore than 60 years ago at the dawn of another new era, President Roosevelt\\ntold our nation new conditions impose new requirements on Government and\\nthose who conduct Government'"
      ]
     },
     "execution_count": 9,
     "metadata": {},
     "output_type": "execute_result"
    }
   ],
   "source": [
    "# note that this method doesn't break out sentences that end with other punctuation, like question marks\n",
    "sentences[40]"
   ]
  },
  {
   "cell_type": "markdown",
   "metadata": {},
   "source": [
    "### Counting words"
   ]
  },
  {
   "cell_type": "markdown",
   "metadata": {},
   "source": [
    "Once we have a list of terms, we can count them up using a Python module called \"Counter\" in the collections package."
   ]
  },
  {
   "cell_type": "code",
   "execution_count": 10,
   "metadata": {},
   "outputs": [],
   "source": [
    "#import the Counter module from the collections package\n",
    "from collections import Counter\n",
    "\n",
    "token_counts = Counter(tokens)\n",
    "\n",
    "#print(token_counts)"
   ]
  },
  {
   "cell_type": "markdown",
   "metadata": {},
   "source": [
    "If you hit tab after ```token_counts.``` you can see Counter methods that are available to examine this data more closely. We can use ```.most_common(5)``` to look at the five most common words in the corpus. (You can change the argument to print out as many of the most common words as you want)"
   ]
  },
  {
   "cell_type": "code",
   "execution_count": 11,
   "metadata": {},
   "outputs": [
    {
     "data": {
      "text/plain": [
       "[('the', 436), ('to', 396), ('and', 293), ('of', 226), ('in', 173)]"
      ]
     },
     "execution_count": 11,
     "metadata": {},
     "output_type": "execute_result"
    }
   ],
   "source": [
    "token_counts.most_common(5)"
   ]
  },
  {
   "cell_type": "markdown",
   "metadata": {},
   "source": [
    "You can also look at specific word counts by calling the term in the same way you would refer to a Python dictionary key:"
   ]
  },
  {
   "cell_type": "code",
   "execution_count": 12,
   "metadata": {},
   "outputs": [
    {
     "data": {
      "text/plain": [
       "5"
      ]
     },
     "execution_count": 12,
     "metadata": {},
     "output_type": "execute_result"
    }
   ],
   "source": [
    "token_counts['President']"
   ]
  },
  {
   "cell_type": "markdown",
   "metadata": {},
   "source": [
    "We can improve this token list for later analysis by using built-in string methods to clean the data a bit. We'll create a new list, called \"unigrams,\" to hold each token. Unigrams refer to single words, while \"bigrams\" are two word pairs, and \"trigrams\" three word pairs. Researchers often refer to these collections of tokens of different lengths as \"ngrams.\"\n",
    "\n",
    "We'll use the built-in string method `.lower()` to convert the text all to lower case. This helps us count up word frequencies regardless of capitalization. \n",
    "\n",
    "The `.replace()` method will replace specific characters in the first argument with the second argument. `'text'.replace('t', '')` for example, would change the string 'text' to 'ex', since it would replace every 't' character with an empty string."
   ]
  },
  {
   "cell_type": "code",
   "execution_count": 13,
   "metadata": {},
   "outputs": [],
   "source": [
    "#create a new empty list\n",
    "unigrams = []\n",
    "\n",
    "# Loop through each token in the tokens list\n",
    "for token in tokens:\n",
    "    token = token.lower() # lowercase tokens\n",
    "    token = token.replace('.', '') # remove periods\n",
    "    token = token.replace('!', '') # remove exclamation points\n",
    "    token = token.replace('?', '') # remove question marks\n",
    "    unigrams.append(token) #append each updated token to the new unigrams list"
   ]
  },
  {
   "cell_type": "markdown",
   "metadata": {},
   "source": [
    "Let's convert this list of unigrams using Counter and see if there were any changes in the most common five words."
   ]
  },
  {
   "cell_type": "code",
   "execution_count": 14,
   "metadata": {},
   "outputs": [
    {
     "name": "stdout",
     "output_type": "stream",
     "text": [
      "Original list: [('the', 436), ('to', 396), ('and', 293), ('of', 226), ('in', 173)]\n",
      "Cleaned up list: [('the', 466), ('to', 402), ('and', 338), ('of', 229), ('we', 200)]\n"
     ]
    }
   ],
   "source": [
    "word_counts = Counter(unigrams)\n",
    "print('Original list:', token_counts.most_common(5))\n",
    "print('Cleaned up list:', word_counts.most_common(5))"
   ]
  },
  {
   "cell_type": "markdown",
   "metadata": {},
   "source": [
    "Why do you think the counts have changed?"
   ]
  },
  {
   "cell_type": "markdown",
   "metadata": {},
   "source": [
    "### Tokenizing with the Natural Language Toolkit (NLTK)* *\n",
    "\n",
    "The steps we took above are pretty time-consuming, and require us to identify each specific character to remove. Most researchers will use the Natural Language Toolkit (NLTK) or Spacy to accomplish many of the steps we showed manually above with fewer steps. \n",
    "\n",
    "We can use word_tokenize tool to do a lot of the tokenizing work for us."
   ]
  },
  {
   "cell_type": "code",
   "execution_count": 1,
   "metadata": {},
   "outputs": [
    {
     "name": "stderr",
     "output_type": "stream",
     "text": [
      "[nltk_data] Downloading package punkt_tab to\n",
      "[nltk_data]     /Users/chennesy/nltk_data...\n",
      "[nltk_data]   Unzipping tokenizers/punkt_tab.zip.\n"
     ]
    }
   ],
   "source": [
    "import nltk\n",
    "nltk.download('punkt_tab')\n",
    "from nltk.tokenize import word_tokenize\n"
   ]
  },
  {
   "cell_type": "markdown",
   "metadata": {},
   "source": [
    "Let's convert our original sotu string, called ```text```, to lowercase, and tokenize it using `word_tokenize()`."
   ]
  },
  {
   "cell_type": "code",
   "execution_count": 15,
   "metadata": {},
   "outputs": [
    {
     "name": "stdout",
     "output_type": "stream",
     "text": [
      "['mr.', 'president', ',', 'mr.', 'speaker', ',', 'members', 'of', 'the', '104th', 'congress', ',', 'my', 'fellow', 'americans', ':', 'again', 'we', 'are', 'here', 'in', 'the', 'sanctuary', 'of', 'democracy']\n"
     ]
    }
   ],
   "source": [
    "word_tokens = word_tokenize(text.lower())\n",
    "print(word_tokens[0:25])"
   ]
  },
  {
   "cell_type": "markdown",
   "metadata": {},
   "source": [
    "#### Removing punctuation\n",
    "\n",
    "In the example above, we have a lot of punctuation marks as tokens in our data. "
   ]
  },
  {
   "cell_type": "markdown",
   "metadata": {},
   "source": [
    "We can manually remove punctuation from strings, which can be useful in certain settings. Let's import the `string` library which includes a quick dictionary of common punctuation marks. "
   ]
  },
  {
   "cell_type": "code",
   "execution_count": 16,
   "metadata": {},
   "outputs": [
    {
     "data": {
      "text/plain": [
       "'!\"#$%&\\'()*+,-./:;<=>?@[\\\\]^_`{|}~'"
      ]
     },
     "execution_count": 16,
     "metadata": {},
     "output_type": "execute_result"
    }
   ],
   "source": [
    "import string\n",
    "string.punctuation"
   ]
  },
  {
   "cell_type": "code",
   "execution_count": 17,
   "metadata": {},
   "outputs": [
    {
     "data": {
      "text/plain": [
       "'Test 1, 2, 3'"
      ]
     },
     "execution_count": 17,
     "metadata": {},
     "output_type": "execute_result"
    }
   ],
   "source": [
    "# strip() will remove punctuation from the beginning or end of the string\n",
    "\"?Test 1, 2, 3!\".strip(string.punctuation)"
   ]
  },
  {
   "cell_type": "markdown",
   "metadata": {},
   "source": [
    "To remove all of the punctuation in a string we can loop through the every character in the string and use the ```.join()``` method to recombine them with an empty string. First let's see how ```.join()``` works on a simpler example:"
   ]
  },
  {
   "cell_type": "code",
   "execution_count": 18,
   "metadata": {},
   "outputs": [
    {
     "data": {
      "text/plain": [
       "'Pxuxtx xaxnx xxx xixnx xbxextxwxexexnx xexvxexrxyx xcxhxaxrxaxcxtxexr'"
      ]
     },
     "execution_count": 18,
     "metadata": {},
     "output_type": "execute_result"
    }
   ],
   "source": [
    "'x'.join('Put an x in between every character')"
   ]
  },
  {
   "cell_type": "code",
   "execution_count": 19,
   "metadata": {},
   "outputs": [],
   "source": [
    "# let's remove all punctuation from our SOTU speech\n",
    "clean_text = ''.join(char.strip(string.punctuation) for char in text)"
   ]
  },
  {
   "cell_type": "markdown",
   "metadata": {},
   "source": [
    "### Tokenize with word_tokenize\n",
    "Now that we removed the punctuation from our text, we can use retokenize the corpus using `clean_text`."
   ]
  },
  {
   "cell_type": "code",
   "execution_count": 20,
   "metadata": {},
   "outputs": [
    {
     "data": {
      "text/plain": [
       "['mr',\n",
       " 'president',\n",
       " 'mr',\n",
       " 'speaker',\n",
       " 'members',\n",
       " 'of',\n",
       " 'the',\n",
       " '104th',\n",
       " 'congress',\n",
       " 'my']"
      ]
     },
     "execution_count": 20,
     "metadata": {},
     "output_type": "execute_result"
    }
   ],
   "source": [
    "tokens = word_tokenize(clean_text.lower())\n",
    "tokens[:10]"
   ]
  },
  {
   "cell_type": "markdown",
   "metadata": {},
   "source": [
    "Now that we have a list of tokens we can count their frequencies in the speech. Let's use a builtin NLTK function called `FreqDist()` to look at our most common words. This is similar to the `Counter` library we worked with earlier, though provides some extended functionality."
   ]
  },
  {
   "cell_type": "code",
   "execution_count": 21,
   "metadata": {},
   "outputs": [],
   "source": [
    "from nltk.probability import FreqDist"
   ]
  },
  {
   "cell_type": "code",
   "execution_count": 22,
   "metadata": {},
   "outputs": [
    {
     "data": {
      "text/plain": [
       "FreqDist({'the': 466, 'to': 402, 'and': 339, 'of': 229, 'we': 200, 'in': 183, 'a': 175, 'our': 139, 'that': 134, 'i': 114, ...})"
      ]
     },
     "execution_count": 22,
     "metadata": {},
     "output_type": "execute_result"
    }
   ],
   "source": [
    "#apply the FreqDist function to our tokens variable\n",
    "fdist = FreqDist(tokens)\n",
    "\n",
    "#fdist is a dictionary of unique words and the number of times they occur\n",
    "fdist"
   ]
  },
  {
   "cell_type": "code",
   "execution_count": 23,
   "metadata": {},
   "outputs": [
    {
     "data": {
      "text/plain": [
       "[('the', 466),\n",
       " ('to', 402),\n",
       " ('and', 339),\n",
       " ('of', 229),\n",
       " ('we', 200),\n",
       " ('in', 183),\n",
       " ('a', 175),\n",
       " ('our', 139),\n",
       " ('that', 134),\n",
       " ('i', 114)]"
      ]
     },
     "execution_count": 23,
     "metadata": {},
     "output_type": "execute_result"
    }
   ],
   "source": [
    "#fdist also includes a handy method to find the most common words \n",
    "fdist.most_common(10)"
   ]
  },
  {
   "cell_type": "markdown",
   "metadata": {},
   "source": [
    "...which, to make things even more complicated, returns a list (see the square brackets continaing comma-separated items) containing tuples (those objects in parentheses, also containing comma-separated items). But we needn't get overly worried about that here. "
   ]
  },
  {
   "cell_type": "markdown",
   "metadata": {},
   "source": [
    "#### Removing stop words\n",
    "\n",
    "You might have noticed that the most common words above aren't terribly exciting. They're words like \"am\", \"i\", \"the\" and \"a\": stop words. These are rarely useful to us in computational text analysis, so it's very common to remove them completely.\n",
    "\n",
    "NLTK includes a stopwords module we can use. Not all stopwords lists are equal though: for your own research you might want to customize a stopwords list, or find one that is best-suited to your domain."
   ]
  },
  {
   "cell_type": "code",
   "execution_count": 25,
   "metadata": {},
   "outputs": [
    {
     "name": "stderr",
     "output_type": "stream",
     "text": [
      "[nltk_data] Downloading package stopwords to\n",
      "[nltk_data]     /Users/chennesy/nltk_data...\n",
      "[nltk_data]   Unzipping corpora/stopwords.zip.\n"
     ]
    },
    {
     "data": {
      "text/plain": [
       "179"
      ]
     },
     "execution_count": 25,
     "metadata": {},
     "output_type": "execute_result"
    }
   ],
   "source": [
    "nltk.download('stopwords')\n",
    "from nltk.corpus import stopwords\n",
    "stop = stopwords.words('english')\n",
    "\n",
    "# how many stopwords are on the list?\n",
    "len(stop)"
   ]
  },
  {
   "cell_type": "code",
   "execution_count": 26,
   "metadata": {},
   "outputs": [
    {
     "data": {
      "text/plain": [
       "['i', 'me', 'my', 'myself', 'we', 'our', 'ours', 'ourselves', 'you', \"you're\"]"
      ]
     },
     "execution_count": 26,
     "metadata": {},
     "output_type": "execute_result"
    }
   ],
   "source": [
    "# what are the first ten word on the stopword list?\n",
    "stop[0:10]"
   ]
  },
  {
   "cell_type": "markdown",
   "metadata": {},
   "source": [
    "Let's create a new list of tokens, removing our stopwords along the way. \n",
    "\n",
    "This loop checks each word in our original tokens list, and if it does *not* appear on the stopword list, it adds it to a new list called tokens_clean."
   ]
  },
  {
   "cell_type": "code",
   "execution_count": 27,
   "metadata": {},
   "outputs": [
    {
     "data": {
      "text/plain": [
       "['mr',\n",
       " 'president',\n",
       " 'mr',\n",
       " 'speaker',\n",
       " 'members',\n",
       " '104th',\n",
       " 'congress',\n",
       " 'fellow',\n",
       " 'americans',\n",
       " 'sanctuary']"
      ]
     },
     "execution_count": 27,
     "metadata": {},
     "output_type": "execute_result"
    }
   ],
   "source": [
    "tokens_clean = [] \n",
    "  \n",
    "for w in tokens: \n",
    "    if w not in stop: \n",
    "        tokens_clean.append(w)\n",
    "tokens_clean[0:10]"
   ]
  },
  {
   "cell_type": "code",
   "execution_count": 28,
   "metadata": {},
   "outputs": [
    {
     "data": {
      "text/plain": [
       "['mr',\n",
       " 'president',\n",
       " 'mr',\n",
       " 'speaker',\n",
       " 'members',\n",
       " 'of',\n",
       " 'the',\n",
       " '104th',\n",
       " 'congress',\n",
       " 'my']"
      ]
     },
     "execution_count": 28,
     "metadata": {},
     "output_type": "execute_result"
    }
   ],
   "source": [
    "tokens[0:10]"
   ]
  },
  {
   "cell_type": "code",
   "execution_count": 29,
   "metadata": {},
   "outputs": [
    {
     "data": {
      "text/plain": [
       "['mr',\n",
       " 'president',\n",
       " 'mr',\n",
       " 'speaker',\n",
       " 'members',\n",
       " '104th',\n",
       " 'congress',\n",
       " 'fellow',\n",
       " 'americans',\n",
       " 'sanctuary']"
      ]
     },
     "execution_count": 29,
     "metadata": {},
     "output_type": "execute_result"
    }
   ],
   "source": [
    "# advanced we can do the same thing quite efficiently with a list comprehension\n",
    "tokens_clean = [w for w in tokens if w not in stop]\n",
    "tokens_clean[0:10]"
   ]
  },
  {
   "cell_type": "code",
   "execution_count": 30,
   "metadata": {},
   "outputs": [
    {
     "data": {
      "text/plain": [
       "[('people', 70),\n",
       " ('new', 41),\n",
       " ('work', 40),\n",
       " ('us', 37),\n",
       " ('government', 35),\n",
       " ('country', 32),\n",
       " ('years', 29),\n",
       " ('last', 28),\n",
       " ('year', 27),\n",
       " ('know', 26)]"
      ]
     },
     "execution_count": 30,
     "metadata": {},
     "output_type": "execute_result"
    }
   ],
   "source": [
    "# now we can re-count the most common words after stop words are removed\n",
    "freq = FreqDist(tokens_clean)\n",
    "freq.most_common(10)"
   ]
  },
  {
   "cell_type": "markdown",
   "metadata": {},
   "source": [
    "Hmmm, still not terribly interesting but getting better..."
   ]
  },
  {
   "cell_type": "markdown",
   "metadata": {},
   "source": [
    "#### Stemming\n",
    "\n",
    "Stemming and lemmatization both refer to remove morphological affixes on words. For example, if we stem the word \"grows\", we get \"grow\". If we stem the word \"running\", we get \"run\". We do this because often we care more about the core content of the word (i.e. that it has something to do with growth or running, rather than the fact that it's a third person present tense verb, or progressive participle).\n",
    "\n",
    "NLTK provides many algorithms for stemming. For English, a great baseline is the [Porter](https://github.com/nltk/nltk/blob/develop/nltk/stem/porter.py) algorithm."
   ]
  },
  {
   "cell_type": "code",
   "execution_count": 31,
   "metadata": {},
   "outputs": [
    {
     "data": {
      "text/plain": [
       "'state'"
      ]
     },
     "execution_count": 31,
     "metadata": {},
     "output_type": "execute_result"
    }
   ],
   "source": [
    "# import the PorterStemmer and then stem the word \"states\" as an example\n",
    "from nltk.stem import PorterStemmer\n",
    "stemmer = PorterStemmer()\n",
    "stemmer.stem('states')"
   ]
  },
  {
   "cell_type": "code",
   "execution_count": 32,
   "metadata": {},
   "outputs": [
    {
     "data": {
      "text/plain": [
       "'govern'"
      ]
     },
     "execution_count": 32,
     "metadata": {},
     "output_type": "execute_result"
    }
   ],
   "source": [
    "stemmer.stem('government')"
   ]
  },
  {
   "cell_type": "code",
   "execution_count": 33,
   "metadata": {},
   "outputs": [
    {
     "data": {
      "text/plain": [
       "'roosevelt'"
      ]
     },
     "execution_count": 33,
     "metadata": {},
     "output_type": "execute_result"
    }
   ],
   "source": [
    "stemmer.stem('roosevelt')"
   ]
  },
  {
   "cell_type": "markdown",
   "metadata": {},
   "source": [
    "In a similar manner as the stopwords loop above, we can create a new list of stemmed tokens:"
   ]
  },
  {
   "cell_type": "code",
   "execution_count": 34,
   "metadata": {},
   "outputs": [],
   "source": [
    "tokens_stemmed = []\n",
    "for t in tokens_clean:\n",
    "    tokens_stemmed.append(stemmer.stem(t))"
   ]
  },
  {
   "cell_type": "code",
   "execution_count": 35,
   "metadata": {},
   "outputs": [],
   "source": [
    "#or as a comprehension:\n",
    "tokens_stemmed = [stemmer.stem(t) for t in tokens_clean]"
   ]
  },
  {
   "cell_type": "code",
   "execution_count": 36,
   "metadata": {},
   "outputs": [
    {
     "data": {
      "text/plain": [
       "['mr',\n",
       " 'presid',\n",
       " 'mr',\n",
       " 'speaker',\n",
       " 'member',\n",
       " '104th',\n",
       " 'congress',\n",
       " 'fellow',\n",
       " 'american',\n",
       " 'sanctuari']"
      ]
     },
     "execution_count": 36,
     "metadata": {},
     "output_type": "execute_result"
    }
   ],
   "source": [
    "tokens_stemmed[0:10]"
   ]
  },
  {
   "cell_type": "markdown",
   "metadata": {},
   "source": [
    "Now that the words are stemmed, are the most common words any different? \n",
    "\n",
    "Here are the stemmed top ten."
   ]
  },
  {
   "cell_type": "code",
   "execution_count": 37,
   "metadata": {},
   "outputs": [
    {
     "name": "stdout",
     "output_type": "stream",
     "text": [
      "('peopl', 70)\n",
      "('work', 66)\n",
      "('year', 56)\n",
      "('new', 41)\n",
      "('govern', 40)\n",
      "('american', 39)\n",
      "('us', 37)\n",
      "('countri', 34)\n",
      "('cut', 33)\n",
      "('let', 31)\n"
     ]
    }
   ],
   "source": [
    "freq_stemmed = FreqDist(tokens_stemmed)\n",
    "for f in freq_stemmed.most_common(10):\n",
    "    print(f)"
   ]
  },
  {
   "cell_type": "markdown",
   "metadata": {},
   "source": [
    "And the unstemmed top ten:"
   ]
  },
  {
   "cell_type": "code",
   "execution_count": 38,
   "metadata": {},
   "outputs": [
    {
     "name": "stdout",
     "output_type": "stream",
     "text": [
      "('people', 70)\n",
      "('new', 41)\n",
      "('work', 40)\n",
      "('us', 37)\n",
      "('government', 35)\n",
      "('country', 32)\n",
      "('years', 29)\n",
      "('last', 28)\n",
      "('year', 27)\n",
      "('know', 26)\n"
     ]
    }
   ],
   "source": [
    "for f in freq.most_common(10):\n",
    "    print(f)"
   ]
  },
  {
   "cell_type": "markdown",
   "metadata": {},
   "source": [
    "Similar, but with some important differences. Notice that \"work\" went from 42 to 69 after stemming.  \n",
    "\n",
    "Why would that be?"
   ]
  },
  {
   "cell_type": "markdown",
   "metadata": {},
   "source": [
    "### Reading in multiple files\n",
    "\n",
    "Often, our text data is split across multiple files in a folder. We can read them all into a single variable using a Python tool called glob."
   ]
  },
  {
   "cell_type": "code",
   "execution_count": 39,
   "metadata": {},
   "outputs": [],
   "source": [
    "import glob"
   ]
  },
  {
   "cell_type": "code",
   "execution_count": 40,
   "metadata": {},
   "outputs": [],
   "source": [
    "# save all of the files that end with .txt in the sotu_text/ folder to a variable called sotu_all\n",
    "sotu_all = glob.glob(\"../sotu_kaggle/*.txt\")"
   ]
  },
  {
   "cell_type": "code",
   "execution_count": 41,
   "metadata": {},
   "outputs": [
    {
     "data": {
      "text/plain": [
       "['../sotu_kaggle/Reagan_1982.txt',\n",
       " '../sotu_kaggle/Roosevelt_1902.txt',\n",
       " '../sotu_kaggle/Wilson_1914.txt',\n",
       " '../sotu_kaggle/Taft_1911.txt',\n",
       " '../sotu_kaggle/Madison_1814.txt',\n",
       " '../sotu_kaggle/Polk_1848.txt',\n",
       " '../sotu_kaggle/Jackson_1836.txt',\n",
       " '../sotu_kaggle/Johnson_1969.txt',\n",
       " '../sotu_kaggle/Hoover_1930.txt',\n",
       " '../sotu_kaggle/Pierce_1854.txt']"
      ]
     },
     "execution_count": 41,
     "metadata": {},
     "output_type": "execute_result"
    }
   ],
   "source": [
    "# this just saves the file-paths to a list though\n",
    "sotu_all[0:10]"
   ]
  },
  {
   "cell_type": "markdown",
   "metadata": {},
   "source": [
    "Those are out of order though. Let's sort the list so that the list index is in the same order as the speeches themselves (sotu_all[0] would equal 001.txt).\n",
    "\n",
    "*Something important to note is that **glob** can pull files differently on different systems (Windows/Mac OS/Linux). If you have a numeric identifier to your files, sorting them is always a good idea for reproducibility of your code, regardless of what system it may be run on*"
   ]
  },
  {
   "cell_type": "code",
   "execution_count": 42,
   "metadata": {},
   "outputs": [],
   "source": [
    "sotu_all.sort()"
   ]
  },
  {
   "cell_type": "code",
   "execution_count": 43,
   "metadata": {},
   "outputs": [
    {
     "data": {
      "text/plain": [
       "['../sotu_kaggle/Adams_1797.txt',\n",
       " '../sotu_kaggle/Adams_1798.txt',\n",
       " '../sotu_kaggle/Adams_1799.txt',\n",
       " '../sotu_kaggle/Adams_1800.txt',\n",
       " '../sotu_kaggle/Adams_1825.txt',\n",
       " '../sotu_kaggle/Adams_1826.txt',\n",
       " '../sotu_kaggle/Adams_1827.txt',\n",
       " '../sotu_kaggle/Adams_1828.txt',\n",
       " '../sotu_kaggle/Arthur_1881.txt',\n",
       " '../sotu_kaggle/Arthur_1882.txt']"
      ]
     },
     "execution_count": 43,
     "metadata": {},
     "output_type": "execute_result"
    }
   ],
   "source": [
    "sotu_all[0:10]"
   ]
  },
  {
   "cell_type": "markdown",
   "metadata": {},
   "source": [
    "Note that they're in order by filename, so are in alphabetical order. But the file names include both the President name and year, so let's save the filenames in a dictionary that we can work with later on.\n",
    "\n",
    "Now that we have a list of all the files we need to cycle through each one and save the text from the file. To do that we'll create a new dictionary variable, speeches. For each file in the `sotu_all` variable we'll first clean the file name to retain the Name_YYYY string to the dict key, and then open and read the file to save as the dict value."
   ]
  },
  {
   "cell_type": "code",
   "execution_count": 61,
   "metadata": {},
   "outputs": [],
   "source": [
    "speeches = {}\n",
    "for speech in sotu_all:\n",
    "    filename = speech.lstrip('../sotu_kaggle/')[:-4]\n",
    "    with open(speech,'r') as sotu:\n",
    "        speeches[filename] = sotu.read()"
   ]
  },
  {
   "cell_type": "markdown",
   "metadata": {},
   "source": [
    "We can't look at an item in a Python dict using an index number:"
   ]
  },
  {
   "cell_type": "code",
   "execution_count": 72,
   "metadata": {},
   "outputs": [
    {
     "ename": "KeyError",
     "evalue": "0",
     "output_type": "error",
     "traceback": [
      "\u001b[0;31m---------------------------------------------------------------------------\u001b[0m",
      "\u001b[0;31mKeyError\u001b[0m                                  Traceback (most recent call last)",
      "Cell \u001b[0;32mIn[72], line 1\u001b[0m\n\u001b[0;32m----> 1\u001b[0m \u001b[43mspeeches\u001b[49m\u001b[43m[\u001b[49m\u001b[38;5;241;43m0\u001b[39;49m\u001b[43m]\u001b[49m\n",
      "\u001b[0;31mKeyError\u001b[0m: 0"
     ]
    }
   ],
   "source": [
    "speeches[0]"
   ]
  },
  {
   "cell_type": "markdown",
   "metadata": {},
   "source": [
    "We have to use a specific key from the dict to examine the value of an item in a Python dictionary. You can views the keys using `.keys()` and values using `.values()`."
   ]
  },
  {
   "cell_type": "code",
   "execution_count": 195,
   "metadata": {},
   "outputs": [
    {
     "data": {
      "text/plain": [
       "dict_keys(['Adams_1797', 'Adams_1798', 'Adams_1799', 'Adams_1800', 'Adams_1825', 'Adams_1826', 'Adams_1827', 'Adams_1828', 'Arthur_1881', 'Arthur_1882', 'Arthur_1883', 'Arthur_1884', 'Buchanan_1857', 'Buchanan_1858', 'Buchanan_1859', 'Buchanan_1860', 'Buren_1837', 'Buren_1838', 'Buren_1839', 'Buren_1840', 'Bush_1989', 'Bush_1990', 'Bush_1991', 'Bush_1992', 'Bush_2001', 'Bush_2002', 'Bush_2003', 'Bush_2004', 'Bush_2005', 'Bush_2006', 'Bush_2007', 'Bush_2008', 'Carter_1978', 'Carter_1979', 'Carter_1980', 'Carter_1981', 'Cleveland_1885', 'Cleveland_1886', 'Cleveland_1887', 'Cleveland_1888', 'Cleveland_1893', 'Cleveland_1894', 'Cleveland_1895', 'Cleveland_1896', 'Clinton_1993', 'Clinton_1994', 'Clinton_1995', 'Clinton_1996', 'Clinton_1997', 'Clinton_1998', 'Clinton_1999', 'Clinton_2000', 'Coolidge_1923', 'Coolidge_1924', 'Coolidge_1925', 'Coolidge_1926', 'Coolidge_1927', 'Coolidge_1928', 'Eisenhower_1954', 'Eisenhower_1955', 'Eisenhower_1956', 'Eisenhower_1957', 'Eisenhower_1958', 'Eisenhower_1959', 'Eisenhower_1960', 'Eisenhower_1961', 'Fillmore_1850', 'Fillmore_1851', 'Fillmore_1852', 'Ford_1975', 'Ford_1976', 'Ford_1977', 'Grant_1869', 'Grant_1870', 'Grant_1871', 'Grant_1872', 'Grant_1873', 'Grant_1874', 'Grant_1875', 'Grant_1876', 'Harding_1921', 'Harding_1922', 'Harrison_1889', 'Harrison_1890', 'Harrison_1891', 'Harrison_1892', 'Hayes_1877', 'Hayes_1878', 'Hayes_1879', 'Hayes_1880', 'Hoover_1929', 'Hoover_1930', 'Hoover_1931', 'Hoover_1932', 'Jackson_1829', 'Jackson_1830', 'Jackson_1831', 'Jackson_1832', 'Jackson_1833', 'Jackson_1834', 'Jackson_1835', 'Jackson_1836', 'Jefferson_1801', 'Jefferson_1802', 'Jefferson_1803', 'Jefferson_1804', 'Jefferson_1805', 'Jefferson_1806', 'Jefferson_1807', 'Jefferson_1808', 'Johnson_1865', 'Johnson_1866', 'Johnson_1867', 'Johnson_1868', 'Johnson_1964', 'Johnson_1965', 'Johnson_1966', 'Johnson_1967', 'Johnson_1968', 'Johnson_1969', 'Kennedy_1962', 'Kennedy_1963', 'Lincoln_1861', 'Lincoln_1862', 'Lincoln_1863', 'Lincoln_1864', 'Madison_1809', 'Madison_1810', 'Madison_1811', 'Madison_1812', 'Madison_1813', 'Madison_1814', 'Madison_1815', 'Madison_1816', 'McKinley_1897', 'McKinley_1898', 'McKinley_1899', 'McKinley_1900', 'Monroe_1817', 'Monroe_1818', 'Monroe_1819', 'Monroe_1820', 'Monroe_1821', 'Monroe_1822', 'Monroe_1823', 'Monroe_1824', 'Nixon_1970', 'Nixon_1971', 'Nixon_1972', 'Nixon_1973', 'Nixon_1974', 'Obama_2009', 'Obama_2010', 'Obama_2011', 'Obama_2012', 'Obama_2013', 'Obama_2014', 'Obama_2015', 'Obama_2016', 'Pierce_1853', 'Pierce_1854', 'Pierce_1855', 'Pierce_1856', 'Polk_1845', 'Polk_1846', 'Polk_1847', 'Polk_1848', 'Reagan_1982', 'Reagan_1983', 'Reagan_1984', 'Reagan_1985', 'Reagan_1986', 'Reagan_1987', 'Reagan_1988', 'Roosevelt_1901', 'Roosevelt_1902', 'Roosevelt_1903', 'Roosevelt_1904', 'Roosevelt_1905', 'Roosevelt_1906', 'Roosevelt_1907', 'Roosevelt_1908', 'Roosevelt_1934', 'Roosevelt_1935', 'Roosevelt_1936', 'Roosevelt_1937', 'Roosevelt_1938', 'Roosevelt_1939', 'Roosevelt_1940', 'Roosevelt_1941', 'Roosevelt_1942', 'Roosevelt_1943', 'Roosevelt_1944', 'Roosevelt_1945', 'Taft_1909', 'Taft_1910', 'Taft_1911', 'Taft_1912', 'Taylor_1849', 'Truman_1946', 'Truman_1947', 'Truman_1948', 'Truman_1949', 'Truman_1950', 'Truman_1951', 'Truman_1952', 'Truman_1953', 'Trump_2017', 'Trump_2018', 'Tyler_1841', 'Tyler_1842', 'Tyler_1843', 'Tyler_1844', 'Washington_1790', 'Washington_1791', 'Washington_1792', 'Washington_1793', 'Washington_1794', 'Washington_1795', 'Washington_1796', 'Wilson_1913', 'Wilson_1914', 'Wilson_1915', 'Wilson_1916', 'Wilson_1917', 'Wilson_1918', 'Wilson_1919', 'Wilson_1920'])"
      ]
     },
     "execution_count": 195,
     "metadata": {},
     "output_type": "execute_result"
    }
   ],
   "source": [
    "speeches.keys()"
   ]
  },
  {
   "cell_type": "code",
   "execution_count": 75,
   "metadata": {},
   "outputs": [
    {
     "data": {
      "text/plain": [
       "'To the Congress of the United States:\\n\\nThe State of the Union is sound. Our economy is recovering from a\\nrecession. A national energy plan is in place and our dependence on foreign\\noil is decreasing. We have been at peace for four uninterrupted years'"
      ]
     },
     "execution_count": 75,
     "metadata": {},
     "output_type": "execute_result"
    }
   ],
   "source": [
    "# now we can refer to each speech from the list using keys\n",
    "speeches['Carter_1981'][0:250]"
   ]
  },
  {
   "cell_type": "code",
   "execution_count": 76,
   "metadata": {},
   "outputs": [
    {
     "data": {
      "text/plain": [
       "228"
      ]
     },
     "execution_count": 76,
     "metadata": {},
     "output_type": "execute_result"
    }
   ],
   "source": [
    "len(speeches)"
   ]
  },
  {
   "cell_type": "markdown",
   "metadata": {},
   "source": [
    "### Creating a Cleaning Function*\n",
    "Now that we have all the text data loaded, we can think about working on the corpus as a whole.\n",
    "\n",
    "Let's create a function that combines all of our cleaning protocols so that we can clean each State of the Union speech with a single piece of code. \n",
    "\n",
    "The function definition opens with the keyword ```def``` followed by the name of the function (clean_speeches) and a parenthesized list of parameter names (speeches). The body of the function — the statements that are executed when it runs — is indented below the definition line. The body concludes with a return keyword followed by the return value."
   ]
  },
  {
   "cell_type": "code",
   "execution_count": 67,
   "metadata": {},
   "outputs": [],
   "source": [
    "def clean_speeches(speeches):\n",
    "    #create an empty dict to hold our cleaned content\n",
    "    cleaned_speeches = {}\n",
    "    #loop through the dict\n",
    "    for key, speech in speeches.items():\n",
    "        speech = ''.join(word.strip(string.punctuation) for word in speech.lower())\n",
    "        speech = [stemmer.stem(w) for w in word_tokenize(speech) if w not in stop]\n",
    "        cleaned_speeches[key] = speech\n",
    "    return cleaned_speeches"
   ]
  },
  {
   "cell_type": "markdown",
   "metadata": {},
   "source": [
    "You can call the function using the name of the function, and the variable you'd like to process as its parameter. We'll process our speeches list:"
   ]
  },
  {
   "cell_type": "code",
   "execution_count": 68,
   "metadata": {},
   "outputs": [],
   "source": [
    "# this cell might take a few minutes to run!\n",
    "cleaned_speeches = clean_speeches(speeches)"
   ]
  },
  {
   "cell_type": "code",
   "execution_count": 69,
   "metadata": {},
   "outputs": [
    {
     "data": {
      "text/plain": [
       "228"
      ]
     },
     "execution_count": 69,
     "metadata": {},
     "output_type": "execute_result"
    }
   ],
   "source": [
    "len(cleaned_speeches)"
   ]
  },
  {
   "cell_type": "markdown",
   "metadata": {},
   "source": [
    "Let's look at the first ten tokens from the cleaned Carter speech."
   ]
  },
  {
   "cell_type": "code",
   "execution_count": 78,
   "metadata": {},
   "outputs": [
    {
     "data": {
      "text/plain": [
       "['congress',\n",
       " 'unit',\n",
       " 'state',\n",
       " 'state',\n",
       " 'union',\n",
       " 'sound',\n",
       " 'economi',\n",
       " 'recov',\n",
       " 'recess',\n",
       " 'nation']"
      ]
     },
     "execution_count": 78,
     "metadata": {},
     "output_type": "execute_result"
    }
   ],
   "source": [
    "cleaned_speeches['Carter_1981'][0:10]"
   ]
  },
  {
   "cell_type": "markdown",
   "metadata": {},
   "source": [
    "### Word frequencies across the corpus\n"
   ]
  },
  {
   "cell_type": "markdown",
   "metadata": {},
   "source": [
    "#### Convert to a dataframe\n",
    "Let's convert the dictionary to a dataframe so we can use the years from the filenames to sort by year. "
   ]
  },
  {
   "cell_type": "code",
   "execution_count": 166,
   "metadata": {},
   "outputs": [
    {
     "data": {
      "text/html": [
       "<div>\n",
       "<style scoped>\n",
       "    .dataframe tbody tr th:only-of-type {\n",
       "        vertical-align: middle;\n",
       "    }\n",
       "\n",
       "    .dataframe tbody tr th {\n",
       "        vertical-align: top;\n",
       "    }\n",
       "\n",
       "    .dataframe thead th {\n",
       "        text-align: right;\n",
       "    }\n",
       "</style>\n",
       "<table border=\"1\" class=\"dataframe\">\n",
       "  <thead>\n",
       "    <tr style=\"text-align: right;\">\n",
       "      <th></th>\n",
       "      <th>name_year</th>\n",
       "      <th>text</th>\n",
       "    </tr>\n",
       "  </thead>\n",
       "  <tbody>\n",
       "    <tr>\n",
       "      <th>0</th>\n",
       "      <td>Adams_1797</td>\n",
       "      <td>[gentlemen, senat, gentlemen, hous, repres, ti...</td>\n",
       "    </tr>\n",
       "    <tr>\n",
       "      <th>1</th>\n",
       "      <td>Adams_1798</td>\n",
       "      <td>[gentlemen, senat, gentlemen, hous, repres, re...</td>\n",
       "    </tr>\n",
       "    <tr>\n",
       "      <th>2</th>\n",
       "      <td>Adams_1799</td>\n",
       "      <td>[gentlemen, senat, gentlemen, hous, repres, pe...</td>\n",
       "    </tr>\n",
       "    <tr>\n",
       "      <th>3</th>\n",
       "      <td>Adams_1800</td>\n",
       "      <td>[gentlemen, senat, gentlemen, hous, repres, im...</td>\n",
       "    </tr>\n",
       "    <tr>\n",
       "      <th>4</th>\n",
       "      <td>Adams_1825</td>\n",
       "      <td>[fellow, citizen, senat, hous, repres, take, g...</td>\n",
       "    </tr>\n",
       "  </tbody>\n",
       "</table>\n",
       "</div>"
      ],
      "text/plain": [
       "    name_year                                               text\n",
       "0  Adams_1797  [gentlemen, senat, gentlemen, hous, repres, ti...\n",
       "1  Adams_1798  [gentlemen, senat, gentlemen, hous, repres, re...\n",
       "2  Adams_1799  [gentlemen, senat, gentlemen, hous, repres, pe...\n",
       "3  Adams_1800  [gentlemen, senat, gentlemen, hous, repres, im...\n",
       "4  Adams_1825  [fellow, citizen, senat, hous, repres, take, g..."
      ]
     },
     "execution_count": 166,
     "metadata": {},
     "output_type": "execute_result"
    }
   ],
   "source": [
    "# convert the dictionary to a df\n",
    "import pandas as pd\n",
    "df = pd.DataFrame(cleaned_speeches.items(), columns=['name_year', 'text'])   \n",
    "df.head()"
   ]
  },
  {
   "cell_type": "code",
   "execution_count": 167,
   "metadata": {},
   "outputs": [
    {
     "data": {
      "text/html": [
       "<div>\n",
       "<style scoped>\n",
       "    .dataframe tbody tr th:only-of-type {\n",
       "        vertical-align: middle;\n",
       "    }\n",
       "\n",
       "    .dataframe tbody tr th {\n",
       "        vertical-align: top;\n",
       "    }\n",
       "\n",
       "    .dataframe thead th {\n",
       "        text-align: right;\n",
       "    }\n",
       "</style>\n",
       "<table border=\"1\" class=\"dataframe\">\n",
       "  <thead>\n",
       "    <tr style=\"text-align: right;\">\n",
       "      <th></th>\n",
       "      <th>text</th>\n",
       "      <th>name</th>\n",
       "      <th>year</th>\n",
       "    </tr>\n",
       "  </thead>\n",
       "  <tbody>\n",
       "    <tr>\n",
       "      <th>0</th>\n",
       "      <td>[gentlemen, senat, gentlemen, hous, repres, ti...</td>\n",
       "      <td>Adams</td>\n",
       "      <td>1797</td>\n",
       "    </tr>\n",
       "    <tr>\n",
       "      <th>1</th>\n",
       "      <td>[gentlemen, senat, gentlemen, hous, repres, re...</td>\n",
       "      <td>Adams</td>\n",
       "      <td>1798</td>\n",
       "    </tr>\n",
       "    <tr>\n",
       "      <th>2</th>\n",
       "      <td>[gentlemen, senat, gentlemen, hous, repres, pe...</td>\n",
       "      <td>Adams</td>\n",
       "      <td>1799</td>\n",
       "    </tr>\n",
       "    <tr>\n",
       "      <th>3</th>\n",
       "      <td>[gentlemen, senat, gentlemen, hous, repres, im...</td>\n",
       "      <td>Adams</td>\n",
       "      <td>1800</td>\n",
       "    </tr>\n",
       "    <tr>\n",
       "      <th>4</th>\n",
       "      <td>[fellow, citizen, senat, hous, repres, take, g...</td>\n",
       "      <td>Adams</td>\n",
       "      <td>1825</td>\n",
       "    </tr>\n",
       "  </tbody>\n",
       "</table>\n",
       "</div>"
      ],
      "text/plain": [
       "                                                text   name  year\n",
       "0  [gentlemen, senat, gentlemen, hous, repres, ti...  Adams  1797\n",
       "1  [gentlemen, senat, gentlemen, hous, repres, re...  Adams  1798\n",
       "2  [gentlemen, senat, gentlemen, hous, repres, pe...  Adams  1799\n",
       "3  [gentlemen, senat, gentlemen, hous, repres, im...  Adams  1800\n",
       "4  [fellow, citizen, senat, hous, repres, take, g...  Adams  1825"
      ]
     },
     "execution_count": 167,
     "metadata": {},
     "output_type": "execute_result"
    }
   ],
   "source": [
    "# split name_date column by delimiter\n",
    "df[['name','year']] = df['name_year'].str.split('_',expand=True)\n",
    "df = df.drop('name_year', axis=1)\n",
    "df.head()"
   ]
  },
  {
   "cell_type": "markdown",
   "metadata": {},
   "source": [
    "#### Add Frequencies"
   ]
  },
  {
   "cell_type": "code",
   "execution_count": 168,
   "metadata": {},
   "outputs": [],
   "source": [
    "freqs = [FreqDist(speech) for speech in df['text']]  "
   ]
  },
  {
   "cell_type": "code",
   "execution_count": 169,
   "metadata": {},
   "outputs": [
    {
     "name": "stdout",
     "output_type": "stream",
     "text": [
      "981\n",
      "4\n",
      "0.004077471967380225\n"
     ]
    }
   ],
   "source": [
    "print(freqs[0].N())\n",
    "print(freqs[0]['war'])\n",
    "print(freqs[0]['war']/freqs[0].N())"
   ]
  },
  {
   "cell_type": "markdown",
   "metadata": {},
   "source": [
    "`FreqDist.N()` gives us the total 'outcomes', in other words the total number of words from each document. We can use this to calculate the relative frequency of a specific term to each document and track that value over time. "
   ]
  },
  {
   "cell_type": "code",
   "execution_count": 170,
   "metadata": {},
   "outputs": [],
   "source": [
    "df['freq_dist'] = freqs"
   ]
  },
  {
   "cell_type": "code",
   "execution_count": 171,
   "metadata": {},
   "outputs": [
    {
     "data": {
      "text/html": [
       "<div>\n",
       "<style scoped>\n",
       "    .dataframe tbody tr th:only-of-type {\n",
       "        vertical-align: middle;\n",
       "    }\n",
       "\n",
       "    .dataframe tbody tr th {\n",
       "        vertical-align: top;\n",
       "    }\n",
       "\n",
       "    .dataframe thead th {\n",
       "        text-align: right;\n",
       "    }\n",
       "</style>\n",
       "<table border=\"1\" class=\"dataframe\">\n",
       "  <thead>\n",
       "    <tr style=\"text-align: right;\">\n",
       "      <th></th>\n",
       "      <th>text</th>\n",
       "      <th>name</th>\n",
       "      <th>year</th>\n",
       "      <th>freq_dist</th>\n",
       "    </tr>\n",
       "  </thead>\n",
       "  <tbody>\n",
       "    <tr>\n",
       "      <th>0</th>\n",
       "      <td>[gentlemen, senat, gentlemen, hous, repres, ti...</td>\n",
       "      <td>Adams</td>\n",
       "      <td>1797</td>\n",
       "      <td>{'gentlemen': 5, 'senat': 2, 'hous': 4, 'repre...</td>\n",
       "    </tr>\n",
       "    <tr>\n",
       "      <th>1</th>\n",
       "      <td>[gentlemen, senat, gentlemen, hous, repres, re...</td>\n",
       "      <td>Adams</td>\n",
       "      <td>1798</td>\n",
       "      <td>{'gentlemen': 6, 'senat': 2, 'hous': 3, 'repre...</td>\n",
       "    </tr>\n",
       "    <tr>\n",
       "      <th>2</th>\n",
       "      <td>[gentlemen, senat, gentlemen, hous, repres, pe...</td>\n",
       "      <td>Adams</td>\n",
       "      <td>1799</td>\n",
       "      <td>{'gentlemen': 7, 'senat': 3, 'hous': 4, 'repre...</td>\n",
       "    </tr>\n",
       "    <tr>\n",
       "      <th>3</th>\n",
       "      <td>[gentlemen, senat, gentlemen, hous, repres, im...</td>\n",
       "      <td>Adams</td>\n",
       "      <td>1800</td>\n",
       "      <td>{'gentlemen': 8, 'senat': 2, 'hous': 3, 'repre...</td>\n",
       "    </tr>\n",
       "    <tr>\n",
       "      <th>4</th>\n",
       "      <td>[fellow, citizen, senat, hous, repres, take, g...</td>\n",
       "      <td>Adams</td>\n",
       "      <td>1825</td>\n",
       "      <td>{'fellow': 8, 'citizen': 11, 'senat': 5, 'hous...</td>\n",
       "    </tr>\n",
       "  </tbody>\n",
       "</table>\n",
       "</div>"
      ],
      "text/plain": [
       "                                                text   name  year  \\\n",
       "0  [gentlemen, senat, gentlemen, hous, repres, ti...  Adams  1797   \n",
       "1  [gentlemen, senat, gentlemen, hous, repres, re...  Adams  1798   \n",
       "2  [gentlemen, senat, gentlemen, hous, repres, pe...  Adams  1799   \n",
       "3  [gentlemen, senat, gentlemen, hous, repres, im...  Adams  1800   \n",
       "4  [fellow, citizen, senat, hous, repres, take, g...  Adams  1825   \n",
       "\n",
       "                                           freq_dist  \n",
       "0  {'gentlemen': 5, 'senat': 2, 'hous': 4, 'repre...  \n",
       "1  {'gentlemen': 6, 'senat': 2, 'hous': 3, 'repre...  \n",
       "2  {'gentlemen': 7, 'senat': 3, 'hous': 4, 'repre...  \n",
       "3  {'gentlemen': 8, 'senat': 2, 'hous': 3, 'repre...  \n",
       "4  {'fellow': 8, 'citizen': 11, 'senat': 5, 'hous...  "
      ]
     },
     "execution_count": 171,
     "metadata": {},
     "output_type": "execute_result"
    }
   ],
   "source": [
    "df.head()"
   ]
  },
  {
   "cell_type": "markdown",
   "metadata": {},
   "source": [
    "Now we can sort our dataframe by year to help us plot concepts over time. "
   ]
  },
  {
   "cell_type": "code",
   "execution_count": 172,
   "metadata": {},
   "outputs": [
    {
     "data": {
      "text/html": [
       "<div>\n",
       "<style scoped>\n",
       "    .dataframe tbody tr th:only-of-type {\n",
       "        vertical-align: middle;\n",
       "    }\n",
       "\n",
       "    .dataframe tbody tr th {\n",
       "        vertical-align: top;\n",
       "    }\n",
       "\n",
       "    .dataframe thead th {\n",
       "        text-align: right;\n",
       "    }\n",
       "</style>\n",
       "<table border=\"1\" class=\"dataframe\">\n",
       "  <thead>\n",
       "    <tr style=\"text-align: right;\">\n",
       "      <th></th>\n",
       "      <th>text</th>\n",
       "      <th>name</th>\n",
       "      <th>freq_dist</th>\n",
       "    </tr>\n",
       "    <tr>\n",
       "      <th>year</th>\n",
       "      <th></th>\n",
       "      <th></th>\n",
       "      <th></th>\n",
       "    </tr>\n",
       "  </thead>\n",
       "  <tbody>\n",
       "    <tr>\n",
       "      <th>1790</th>\n",
       "      <td>[]</td>\n",
       "      <td>Washington</td>\n",
       "      <td>{}</td>\n",
       "    </tr>\n",
       "    <tr>\n",
       "      <th>1791</th>\n",
       "      <td>[fellowcitizen, senat, hous, repres, vain, may...</td>\n",
       "      <td>Washington</td>\n",
       "      <td>{'fellowcitizen': 1, 'senat': 3, 'hous': 3, 'r...</td>\n",
       "    </tr>\n",
       "    <tr>\n",
       "      <th>1792</th>\n",
       "      <td>[fellowcitizen, senat, hous, repres, abat, sat...</td>\n",
       "      <td>Washington</td>\n",
       "      <td>{'fellowcitizen': 1, 'senat': 2, 'hous': 3, 'r...</td>\n",
       "    </tr>\n",
       "    <tr>\n",
       "      <th>1793</th>\n",
       "      <td>[fellowcitizen, senat, hous, repres, sinc, com...</td>\n",
       "      <td>Washington</td>\n",
       "      <td>{'fellowcitizen': 1, 'senat': 2, 'hous': 3, 'r...</td>\n",
       "    </tr>\n",
       "    <tr>\n",
       "      <th>1794</th>\n",
       "      <td>[fellowcitizen, senat, hous, repres, call, min...</td>\n",
       "      <td>Washington</td>\n",
       "      <td>{'fellowcitizen': 1, 'senat': 2, 'hous': 5, 'r...</td>\n",
       "    </tr>\n",
       "    <tr>\n",
       "      <th>...</th>\n",
       "      <td>...</td>\n",
       "      <td>...</td>\n",
       "      <td>...</td>\n",
       "    </tr>\n",
       "    <tr>\n",
       "      <th>2014</th>\n",
       "      <td>[mr, speaker, mr, vice, presid, member, congre...</td>\n",
       "      <td>Obama</td>\n",
       "      <td>{'mr': 2, 'speaker': 2, 'vice': 2, 'presid': 5...</td>\n",
       "    </tr>\n",
       "    <tr>\n",
       "      <th>2015</th>\n",
       "      <td>[mr, speaker, mr, vice, presid, member, congre...</td>\n",
       "      <td>Obama</td>\n",
       "      <td>{'mr': 3, 'speaker': 1, 'vice': 2, 'presid': 5...</td>\n",
       "    </tr>\n",
       "    <tr>\n",
       "      <th>2016</th>\n",
       "      <td>[mr, speaker, mr, vice, presid, member, congre...</td>\n",
       "      <td>Obama</td>\n",
       "      <td>{'mr': 3, 'speaker': 3, 'vice': 2, 'presid': 7...</td>\n",
       "    </tr>\n",
       "    <tr>\n",
       "      <th>2017</th>\n",
       "      <td>[thank, much, mr, speaker, mr, vice, presid, m...</td>\n",
       "      <td>Trump</td>\n",
       "      <td>{'thank': 10, 'much': 8, 'mr': 2, 'speaker': 1...</td>\n",
       "    </tr>\n",
       "    <tr>\n",
       "      <th>2018</th>\n",
       "      <td>[mr, speaker, mr, vice, presid, member, congre...</td>\n",
       "      <td>Trump</td>\n",
       "      <td>{'mr': 3, 'speaker': 1, 'vice': 1, 'presid': 2...</td>\n",
       "    </tr>\n",
       "  </tbody>\n",
       "</table>\n",
       "<p>228 rows × 3 columns</p>\n",
       "</div>"
      ],
      "text/plain": [
       "                                                   text        name  \\\n",
       "year                                                                  \n",
       "1790                                                 []  Washington   \n",
       "1791  [fellowcitizen, senat, hous, repres, vain, may...  Washington   \n",
       "1792  [fellowcitizen, senat, hous, repres, abat, sat...  Washington   \n",
       "1793  [fellowcitizen, senat, hous, repres, sinc, com...  Washington   \n",
       "1794  [fellowcitizen, senat, hous, repres, call, min...  Washington   \n",
       "...                                                 ...         ...   \n",
       "2014  [mr, speaker, mr, vice, presid, member, congre...       Obama   \n",
       "2015  [mr, speaker, mr, vice, presid, member, congre...       Obama   \n",
       "2016  [mr, speaker, mr, vice, presid, member, congre...       Obama   \n",
       "2017  [thank, much, mr, speaker, mr, vice, presid, m...       Trump   \n",
       "2018  [mr, speaker, mr, vice, presid, member, congre...       Trump   \n",
       "\n",
       "                                              freq_dist  \n",
       "year                                                     \n",
       "1790                                                 {}  \n",
       "1791  {'fellowcitizen': 1, 'senat': 3, 'hous': 3, 'r...  \n",
       "1792  {'fellowcitizen': 1, 'senat': 2, 'hous': 3, 'r...  \n",
       "1793  {'fellowcitizen': 1, 'senat': 2, 'hous': 3, 'r...  \n",
       "1794  {'fellowcitizen': 1, 'senat': 2, 'hous': 5, 'r...  \n",
       "...                                                 ...  \n",
       "2014  {'mr': 2, 'speaker': 2, 'vice': 2, 'presid': 5...  \n",
       "2015  {'mr': 3, 'speaker': 1, 'vice': 2, 'presid': 5...  \n",
       "2016  {'mr': 3, 'speaker': 3, 'vice': 2, 'presid': 7...  \n",
       "2017  {'thank': 10, 'much': 8, 'mr': 2, 'speaker': 1...  \n",
       "2018  {'mr': 3, 'speaker': 1, 'vice': 1, 'presid': 2...  \n",
       "\n",
       "[228 rows x 3 columns]"
      ]
     },
     "execution_count": 172,
     "metadata": {},
     "output_type": "execute_result"
    }
   ],
   "source": [
    "df = df.set_index('year')\n",
    "df.sort_index(inplace=True)\n",
    "df"
   ]
  },
  {
   "cell_type": "code",
   "execution_count": 173,
   "metadata": {},
   "outputs": [
    {
     "data": {
      "text/html": [
       "<div>\n",
       "<style scoped>\n",
       "    .dataframe tbody tr th:only-of-type {\n",
       "        vertical-align: middle;\n",
       "    }\n",
       "\n",
       "    .dataframe tbody tr th {\n",
       "        vertical-align: top;\n",
       "    }\n",
       "\n",
       "    .dataframe thead th {\n",
       "        text-align: right;\n",
       "    }\n",
       "</style>\n",
       "<table border=\"1\" class=\"dataframe\">\n",
       "  <thead>\n",
       "    <tr style=\"text-align: right;\">\n",
       "      <th></th>\n",
       "      <th>text</th>\n",
       "      <th>name</th>\n",
       "      <th>freq_dist</th>\n",
       "    </tr>\n",
       "    <tr>\n",
       "      <th>year</th>\n",
       "      <th></th>\n",
       "      <th></th>\n",
       "      <th></th>\n",
       "    </tr>\n",
       "  </thead>\n",
       "  <tbody>\n",
       "    <tr>\n",
       "      <th>1791</th>\n",
       "      <td>[fellowcitizen, senat, hous, repres, vain, may...</td>\n",
       "      <td>Washington</td>\n",
       "      <td>{'fellowcitizen': 1, 'senat': 3, 'hous': 3, 'r...</td>\n",
       "    </tr>\n",
       "    <tr>\n",
       "      <th>1792</th>\n",
       "      <td>[fellowcitizen, senat, hous, repres, abat, sat...</td>\n",
       "      <td>Washington</td>\n",
       "      <td>{'fellowcitizen': 1, 'senat': 2, 'hous': 3, 'r...</td>\n",
       "    </tr>\n",
       "    <tr>\n",
       "      <th>1793</th>\n",
       "      <td>[fellowcitizen, senat, hous, repres, sinc, com...</td>\n",
       "      <td>Washington</td>\n",
       "      <td>{'fellowcitizen': 1, 'senat': 2, 'hous': 3, 'r...</td>\n",
       "    </tr>\n",
       "    <tr>\n",
       "      <th>1794</th>\n",
       "      <td>[fellowcitizen, senat, hous, repres, call, min...</td>\n",
       "      <td>Washington</td>\n",
       "      <td>{'fellowcitizen': 1, 'senat': 2, 'hous': 5, 'r...</td>\n",
       "    </tr>\n",
       "    <tr>\n",
       "      <th>1795</th>\n",
       "      <td>[fellowcitizen, senat, hous, repres, trust, de...</td>\n",
       "      <td>Washington</td>\n",
       "      <td>{'fellowcitizen': 1, 'senat': 4, 'hous': 4, 'r...</td>\n",
       "    </tr>\n",
       "  </tbody>\n",
       "</table>\n",
       "</div>"
      ],
      "text/plain": [
       "                                                   text        name  \\\n",
       "year                                                                  \n",
       "1791  [fellowcitizen, senat, hous, repres, vain, may...  Washington   \n",
       "1792  [fellowcitizen, senat, hous, repres, abat, sat...  Washington   \n",
       "1793  [fellowcitizen, senat, hous, repres, sinc, com...  Washington   \n",
       "1794  [fellowcitizen, senat, hous, repres, call, min...  Washington   \n",
       "1795  [fellowcitizen, senat, hous, repres, trust, de...  Washington   \n",
       "\n",
       "                                              freq_dist  \n",
       "year                                                     \n",
       "1791  {'fellowcitizen': 1, 'senat': 3, 'hous': 3, 'r...  \n",
       "1792  {'fellowcitizen': 1, 'senat': 2, 'hous': 3, 'r...  \n",
       "1793  {'fellowcitizen': 1, 'senat': 2, 'hous': 3, 'r...  \n",
       "1794  {'fellowcitizen': 1, 'senat': 2, 'hous': 5, 'r...  \n",
       "1795  {'fellowcitizen': 1, 'senat': 4, 'hous': 4, 'r...  "
      ]
     },
     "execution_count": 173,
     "metadata": {},
     "output_type": "execute_result"
    }
   ],
   "source": [
    "#Let's drop the empty first row\n",
    "df = df.drop(index='1790')"
   ]
  },
  {
   "cell_type": "markdown",
   "metadata": {},
   "source": [
    "We can look at the most common words by year now. "
   ]
  },
  {
   "cell_type": "code",
   "execution_count": 192,
   "metadata": {},
   "outputs": [
    {
     "name": "stdout",
     "output_type": "stream",
     "text": [
      "1791 Washington\n",
      "[('state', 19), ('unit', 19), ('may', 13), ('import', 10)]\n",
      "\n",
      "1792 Washington\n",
      "[('law', 12), ('nation', 11), ('upon', 11), ('provis', 10)]\n",
      "\n",
      "1793 Washington\n",
      "[('state', 26), ('unit', 22), ('nation', 8), ('may', 8)]\n",
      "\n",
      "1794 Washington\n",
      "[('state', 22), ('unit', 17), ('govern', 15), ('law', 14)]\n",
      "\n",
      "1795 Washington\n",
      "[('indian', 10), ('state', 8), ('countri', 8), ('public', 7)]\n",
      "\n",
      "1796 Washington\n",
      "[('state', 25), ('nation', 18), ('unit', 17), ('may', 12)]\n",
      "\n",
      "1797 Adams\n",
      "[('state', 22), ('unit', 19), ('treati', 11), ('nation', 10)]\n",
      "\n",
      "1798 Adams\n",
      "[('state', 16), ('unit', 15), ('franc', 10), ('govern', 9)]\n",
      "\n",
      "1799 Adams\n",
      "[('state', 12), ('unit', 10), ('govern', 8), ('gentlemen', 7)]\n",
      "\n",
      "1800 Adams\n",
      "[('may', 9), ('gentlemen', 8), ('state', 8), ('public', 7)]\n",
      "\n",
      "1801 Jefferson\n",
      "[('may', 21), ('time', 12), ('state', 11), ('citizen', 10)]\n",
      "\n",
      "1802 Jefferson\n",
      "[('vessel', 11), ('part', 9), ('debt', 9), ('may', 9)]\n",
      "\n",
      "1803 Jefferson\n",
      "[('congress', 13), ('us', 13), ('interest', 12), ('countri', 10)]\n",
      "\n",
      "1804 Jefferson\n",
      "[('countri', 10), ('year', 10), ('govern', 9), ('us', 9)]\n",
      "\n",
      "1805 Jefferson\n",
      "[('may', 16), ('time', 14), ('us', 13), ('countri', 12)]\n",
      "\n",
      "1806 Jefferson\n",
      "[('may', 17), ('state', 15), ('public', 13), ('time', 12)]\n",
      "\n",
      "1807 Jefferson\n",
      "[('shall', 14), ('peac', 12), ('may', 12), ('us', 10)]\n",
      "\n",
      "1808 Jefferson\n",
      "[('state', 13), ('last', 10), ('unit', 9), ('law', 9)]\n",
      "\n",
      "1809 Madison\n",
      "[('state', 13), ('unit', 10), ('may', 9), ('minist', 8)]\n",
      "\n",
      "1810 Madison\n",
      "[('state', 14), ('unit', 13), ('govern', 13), ('would', 11)]\n",
      "\n",
      "1811 Madison\n",
      "[('state', 16), ('unit', 15), ('govern', 11), ('nation', 10)]\n",
      "\n",
      "1812 Madison\n",
      "[('war', 20), ('state', 14), ('command', 13), ('nation', 12)]\n",
      "\n",
      "1813 Madison\n",
      "[('war', 29), ('state', 20), ('british', 18), ('unit', 16)]\n",
      "\n",
      "1814 Madison\n",
      "[('enemi', 14), ('war', 10), ('american', 10), ('great', 9)]\n",
      "\n",
      "1815 Madison\n",
      "[('public', 19), ('nation', 18), ('establish', 15), ('state', 14)]\n",
      "\n",
      "1816 Madison\n",
      "[('state', 21), ('nation', 19), ('govern', 15), ('public', 15)]\n",
      "\n",
      "1817 Monroe\n",
      "[('state', 39), ('may', 25), ('public', 22), ('govern', 18)]\n",
      "\n",
      "1818 Monroe\n",
      "[('state', 41), ('govern', 28), ('spain', 26), ('unit', 24)]\n",
      "\n",
      "1819 Monroe\n",
      "[('state', 43), ('govern', 33), ('unit', 31), ('spain', 31)]\n",
      "\n",
      "1820 Monroe\n",
      "[('great', 23), ('state', 22), ('govern', 18), ('made', 16)]\n",
      "\n",
      "1821 Monroe\n",
      "[('state', 38), ('unit', 34), ('power', 31), ('law', 27)]\n",
      "\n",
      "1822 Monroe\n",
      "[('state', 29), ('great', 26), ('unit', 20), ('act', 17)]\n",
      "\n",
      "1823 Monroe\n",
      "[('state', 44), ('govern', 32), ('unit', 24), ('power', 22)]\n",
      "\n",
      "1824 Monroe\n",
      "[('state', 51), ('govern', 48), ('great', 34), ('everi', 32)]\n",
      "\n",
      "1825 Adams\n",
      "[('upon', 44), ('nation', 42), ('congress', 37), ('may', 35)]\n",
      "\n",
      "1826 Adams\n",
      "[('state', 53), ('year', 48), ('unit', 46), ('upon', 40)]\n",
      "\n",
      "1827 Adams\n",
      "[('state', 44), ('upon', 37), ('nation', 36), ('unit', 30)]\n",
      "\n",
      "1828 Adams\n",
      "[('state', 49), ('upon', 38), ('year', 32), ('great', 30)]\n",
      "\n",
      "1829 Jackson\n",
      "[('state', 68), ('govern', 66), ('may', 50), ('would', 40)]\n",
      "\n",
      "1830 Jackson\n",
      "[('state', 111), ('govern', 81), ('upon', 67), ('gener', 55)]\n",
      "\n",
      "1831 Jackson\n",
      "[('state', 59), ('govern', 31), ('may', 30), ('citizen', 24)]\n",
      "\n",
      "1832 Jackson\n",
      "[('state', 50), ('govern', 42), ('may', 36), ('public', 32)]\n",
      "\n",
      "1833 Jackson\n",
      "[('state', 69), ('govern', 48), ('unit', 44), ('duti', 32)]\n",
      "\n",
      "1834 Jackson\n",
      "[('state', 91), ('govern', 87), ('upon', 67), ('unit', 54)]\n",
      "\n",
      "1835 Jackson\n",
      "[('govern', 75), ('state', 65), ('congress', 50), ('unit', 45)]\n",
      "\n",
      "1836 Jackson\n",
      "[('state', 86), ('govern', 70), ('bank', 67), ('would', 51)]\n",
      "\n",
      "1837 Buren\n",
      "[('govern', 81), ('state', 80), ('public', 56), ('upon', 49)]\n",
      "\n",
      "1838 Buren\n",
      "[('state', 103), ('govern', 68), ('unit', 60), ('upon', 47)]\n",
      "\n",
      "1839 Buren\n",
      "[('bank', 78), ('public', 71), ('state', 67), ('govern', 63)]\n",
      "\n",
      "1840 Buren\n",
      "[('govern', 76), ('public', 44), ('state', 41), ('upon', 33)]\n",
      "\n",
      "1841 Tyler\n",
      "[('govern', 65), ('state', 59), ('may', 40), ('unit', 27)]\n",
      "\n",
      "1842 Tyler\n",
      "[('govern', 60), ('would', 55), ('state', 53), ('unit', 29)]\n",
      "\n",
      "1843 Tyler\n",
      "[('govern', 58), ('state', 52), ('countri', 37), ('unit', 30)]\n",
      "\n",
      "1844 Tyler\n",
      "[('state', 75), ('govern', 52), ('would', 42), ('upon', 39)]\n",
      "\n",
      "1845 Polk\n",
      "[('state', 126), ('govern', 94), ('unit', 77), ('duti', 70)]\n",
      "\n",
      "1846 Polk\n",
      "[('mexico', 157), ('state', 152), ('govern', 103), ('unit', 102)]\n",
      "\n",
      "1847 Polk\n",
      "[('mexico', 107), ('state', 99), ('war', 95), ('govern', 75)]\n",
      "\n",
      "1848 Polk\n",
      "[('state', 136), ('govern', 106), ('constitut', 96), ('upon', 86)]\n",
      "\n",
      "1849 Taylor\n",
      "[('state', 56), ('congress', 38), ('govern', 36), ('unit', 28)]\n",
      "\n",
      "1850 Fillmore\n",
      "[('govern', 54), ('state', 46), ('may', 44), ('duti', 43)]\n",
      "\n",
      "1851 Fillmore\n",
      "[('state', 97), ('year', 58), ('govern', 54), ('unit', 52)]\n",
      "\n",
      "1852 Fillmore\n",
      "[('state', 52), ('govern', 47), ('countri', 36), ('subject', 35)]\n",
      "\n",
      "1853 Pierce\n",
      "[('state', 75), ('govern', 40), ('upon', 38), ('unit', 36)]\n",
      "\n",
      "1854 Pierce\n",
      "[('state', 65), ('unit', 44), ('govern', 41), ('would', 39)]\n",
      "\n",
      "1855 Pierce\n",
      "[('state', 172), ('govern', 72), ('unit', 66), ('right', 56)]\n",
      "\n",
      "1856 Pierce\n",
      "[('state', 133), ('unit', 59), ('govern', 51), ('constitut', 37)]\n",
      "\n",
      "1857 Buchanan\n",
      "[('state', 101), ('govern', 63), ('would', 54), ('bank', 54)]\n",
      "\n",
      "1858 Buchanan\n",
      "[('state', 140), ('govern', 108), ('would', 74), ('unit', 70)]\n",
      "\n",
      "1859 Buchanan\n",
      "[('state', 81), ('congress', 67), ('would', 63), ('govern', 57)]\n",
      "\n",
      "1860 Buchanan\n",
      "[('state', 164), ('constitut', 97), ('govern', 97), ('would', 62)]\n",
      "\n",
      "1861 Lincoln\n",
      "[('state', 41), ('labor', 31), ('congress', 29), ('govern', 25)]\n",
      "\n",
      "1862 Lincoln\n",
      "[('state', 69), ('would', 57), ('nation', 34), ('peopl', 34)]\n",
      "\n",
      "1863 Lincoln\n",
      "[('state', 54), ('unit', 27), ('govern', 24), ('upon', 24)]\n",
      "\n",
      "1864 Lincoln\n",
      "[('state', 41), ('year', 27), ('govern', 24), ('nation', 24)]\n",
      "\n",
      "1865 Johnson\n",
      "[('state', 128), ('govern', 66), ('unit', 44), ('constitut', 38)]\n",
      "\n",
      "1866 Johnson\n",
      "[('state', 87), ('govern', 44), ('congress', 37), ('unit', 34)]\n",
      "\n",
      "1867 Johnson\n",
      "[('state', 80), ('govern', 66), ('constitut', 57), ('may', 45)]\n",
      "\n",
      "1868 Johnson\n",
      "[('state', 66), ('year', 56), ('govern', 54), ('nation', 45)]\n",
      "\n",
      "1869 Grant\n",
      "[('state', 57), ('unit', 41), ('govern', 34), ('year', 30)]\n",
      "\n",
      "1870 Grant\n",
      "[('state', 85), ('unit', 57), ('govern', 40), ('nation', 31)]\n",
      "\n",
      "1871 Grant\n",
      "[('state', 48), ('unit', 35), ('govern', 34), ('law', 30)]\n",
      "\n",
      "1872 Grant\n",
      "[('govern', 35), ('state', 31), ('unit', 29), ('treati', 20)]\n",
      "\n",
      "1873 Grant\n",
      "[('state', 67), ('congress', 60), ('year', 48), ('unit', 46)]\n",
      "\n",
      "1874 Grant\n",
      "[('state', 69), ('congress', 48), ('govern', 42), ('unit', 30)]\n",
      "\n",
      "1875 Grant\n",
      "[('state', 87), ('unit', 59), ('govern', 59), ('year', 48)]\n",
      "\n",
      "1876 Grant\n",
      "[('state', 58), ('unit', 47), ('govern', 34), ('act', 25)]\n",
      "\n",
      "1877 Hayes\n",
      "[('state', 41), ('govern', 37), ('public', 35), ('countri', 34)]\n",
      "\n",
      "1878 Hayes\n",
      "[('state', 43), ('year', 42), ('govern', 33), ('congress', 32)]\n",
      "\n",
      "1879 Hayes\n",
      "[('state', 67), ('congress', 63), ('year', 56), ('unit', 50)]\n",
      "\n",
      "1880 Hayes\n",
      "[('govern', 57), ('state', 40), ('countri', 35), ('unit', 29)]\n",
      "\n",
      "1881 Arthur\n",
      "[('govern', 38), ('state', 31), ('unit', 19), ('relat', 16)]\n",
      "\n",
      "1882 Arthur\n",
      "[('govern', 23), ('state', 20), ('unit', 15), ('countri', 14)]\n",
      "\n",
      "1883 Arthur\n",
      "[('govern', 36), ('treati', 29), ('state', 20), ('countri', 18)]\n",
      "\n",
      "1884 Arthur\n",
      "[('govern', 49), ('state', 44), ('countri', 34), ('may', 32)]\n",
      "\n",
      "1885 Cleveland\n",
      "[('govern', 126), ('state', 95), ('upon', 74), ('unit', 71)]\n",
      "\n",
      "1886 Cleveland\n",
      "[('govern', 91), ('year', 77), ('state', 62), ('law', 51)]\n",
      "\n",
      "1887 Cleveland\n",
      "[('manufactur', 34), ('upon', 33), ('peopl', 30), ('tariff', 30)]\n",
      "\n",
      "1888 Cleveland\n",
      "[('govern', 64), ('peopl', 40), ('state', 35), ('year', 33)]\n",
      "\n",
      "1889 Harrison\n",
      "[('state', 68), ('govern', 57), ('law', 56), ('upon', 52)]\n",
      "\n",
      "1890 Harrison\n",
      "[('state', 60), ('law', 55), ('year', 48), ('upon', 48)]\n",
      "\n",
      "1891 Harrison\n",
      "[('state', 119), ('govern', 96), ('upon', 83), ('year', 79)]\n",
      "\n",
      "1892 Harrison\n",
      "[('year', 83), ('increas', 71), ('state', 70), ('upon', 63)]\n",
      "\n",
      "1893 Cleveland\n",
      "[('year', 98), ('govern', 64), ('state', 55), ('upon', 55)]\n",
      "\n",
      "1894 Cleveland\n",
      "[('year', 121), ('govern', 80), ('state', 67), ('upon', 49)]\n",
      "\n",
      "1895 Cleveland\n",
      "[('gold', 107), ('govern', 84), ('state', 79), ('note', 64)]\n",
      "\n",
      "1896 Cleveland\n",
      "[('year', 91), ('govern', 73), ('state', 60), ('may', 44)]\n",
      "\n",
      "1897 McKinley\n",
      "[('govern', 118), ('state', 71), ('nation', 50), ('unit', 49)]\n",
      "\n",
      "1898 McKinley\n",
      "[('state', 142), ('govern', 121), ('unit', 100), ('war', 58)]\n",
      "\n",
      "1899 McKinley\n",
      "[('state', 123), ('govern', 85), ('unit', 81), ('year', 61)]\n",
      "\n",
      "1900 McKinley\n",
      "[('govern', 136), ('state', 88), ('island', 70), ('unit', 64)]\n",
      "\n",
      "1901 Roosevelt\n",
      "[('nation', 88), ('state', 65), ('great', 61), ('law', 61)]\n",
      "\n",
      "1902 Roosevelt\n",
      "[('would', 36), ('congress', 35), ('nation', 33), ('countri', 33)]\n",
      "\n",
      "1903 Roosevelt\n",
      "[('state', 100), ('govern', 69), ('unit', 69), ('year', 58)]\n",
      "\n",
      "1904 Roosevelt\n",
      "[('nation', 68), ('state', 68), ('govern', 63), ('law', 60)]\n",
      "\n",
      "1905 Roosevelt\n",
      "[('law', 102), ('nation', 102), ('govern', 95), ('state', 95)]\n",
      "\n",
      "1906 Roosevelt\n",
      "[('nation', 105), ('govern', 96), ('law', 82), ('state', 82)]\n",
      "\n",
      "1907 Roosevelt\n",
      "[('law', 113), ('nation', 108), ('govern', 102), ('upon', 100)]\n",
      "\n",
      "1908 Roosevelt\n",
      "[('nation', 71), ('govern', 66), ('state', 61), ('great', 57)]\n",
      "\n",
      "1909 Taft\n",
      "[('govern', 94), ('state', 91), ('depart', 62), ('unit', 55)]\n",
      "\n",
      "1910 Taft\n",
      "[('govern', 69), ('state', 56), ('unit', 45), ('american', 36)]\n",
      "\n",
      "1911 Taft\n",
      "[('govern', 111), ('state', 106), ('american', 81), ('law', 68)]\n",
      "\n",
      "1912 Taft\n",
      "[('govern', 159), ('state', 139), ('unit', 107), ('nation', 100)]\n",
      "\n",
      "1913 Wilson\n",
      "[('upon', 20), ('countri', 18), ('govern', 17), ('peopl', 15)]\n",
      "\n",
      "1914 Wilson\n",
      "[('great', 27), ('upon', 23), ('us', 21), ('peopl', 20)]\n",
      "\n",
      "1915 Wilson\n",
      "[('nation', 38), ('would', 34), ('one', 32), ('year', 31)]\n",
      "\n",
      "1916 Wilson\n",
      "[('upon', 14), ('necessari', 12), ('action', 12), ('shall', 11)]\n",
      "\n",
      "1917 Wilson\n",
      "[('war', 31), ('peopl', 31), ('must', 28), ('peac', 20)]\n",
      "\n",
      "1918 Wilson\n",
      "[('men', 27), ('war', 24), ('upon', 21), ('great', 20)]\n",
      "\n",
      "1919 Wilson\n",
      "[('must', 23), ('industri', 22), ('govern', 21), ('condit', 18)]\n",
      "\n",
      "1920 Wilson\n",
      "[('govern', 21), ('upon', 19), ('faith', 16), ('congress', 14)]\n",
      "\n",
      "1921 Harding\n",
      "[('nation', 25), ('govern', 23), ('would', 22), ('american', 19)]\n",
      "\n",
      "1922 Harding\n",
      "[('nation', 28), ('world', 24), ('public', 24), ('american', 23)]\n",
      "\n",
      "1923 Coolidge\n",
      "[('govern', 51), ('must', 37), ('nation', 33), ('law', 29)]\n",
      "\n",
      "1924 Coolidge\n",
      "[('govern', 38), ('countri', 36), ('nation', 32), ('congress', 24)]\n",
      "\n",
      "1925 Coolidge\n",
      "[('made', 55), ('govern', 51), ('countri', 46), ('congress', 43)]\n",
      "\n",
      "1926 Coolidge\n",
      "[('govern', 53), ('nation', 51), ('countri', 40), ('year', 36)]\n",
      "\n",
      "1927 Coolidge\n",
      "[('govern', 50), ('would', 45), ('state', 35), ('nation', 34)]\n",
      "\n",
      "1928 Coolidge\n",
      "[('govern', 51), ('year', 43), ('increas', 40), ('state', 33)]\n",
      "\n",
      "1929 Hoover\n",
      "[('govern', 57), ('state', 49), ('year', 47), ('congress', 42)]\n",
      "\n",
      "1930 Hoover\n",
      "[('year', 25), ('govern', 23), ('congress', 21), ('construct', 21)]\n",
      "\n",
      "1931 Hoover\n",
      "[('bank', 43), ('upon', 35), ('year', 27), ('govern', 26)]\n",
      "\n",
      "1932 Hoover\n",
      "[('govern', 29), ('nation', 27), ('bank', 24), ('econom', 23)]\n",
      "\n",
      "1934 Roosevelt\n",
      "[('nation', 19), ('peopl', 13), ('industri', 13), ('mani', 9)]\n",
      "\n",
      "1935 Roosevelt\n",
      "[('nation', 30), ('work', 25), ('govern', 20), ('relief', 17)]\n",
      "\n",
      "1936 Roosevelt\n",
      "[('nation', 35), ('world', 24), ('peopl', 21), ('peac', 17)]\n",
      "\n",
      "1937 Roosevelt\n",
      "[('govern', 22), ('nation', 21), ('democraci', 19), ('problem', 15)]\n",
      "\n",
      "1938 Roosevelt\n",
      "[('nation', 42), ('govern', 40), ('busi', 22), ('industri', 21)]\n",
      "\n",
      "1939 Roosevelt\n",
      "[('nation', 38), ('govern', 27), ('must', 17), ('us', 16)]\n",
      "\n",
      "1940 Roosevelt\n",
      "[('nation', 37), ('world', 28), ('must', 16), ('war', 15)]\n",
      "\n",
      "1941 Roosevelt\n",
      "[('nation', 36), ('war', 19), ('world', 19), ('american', 16)]\n",
      "\n",
      "1942 Roosevelt\n",
      "[('war', 31), ('nation', 19), ('peopl', 18), ('must', 18)]\n",
      "\n",
      "1943 Roosevelt\n",
      "[('war', 46), ('nation', 28), ('year', 24), ('product', 21)]\n",
      "\n",
      "1944 Roosevelt\n",
      "[('war', 46), ('nation', 43), ('right', 20), ('servic', 16)]\n",
      "\n",
      "1945 Roosevelt\n",
      "[('war', 74), ('must', 42), ('nation', 38), ('forc', 33)]\n",
      "\n",
      "1946 Truman\n",
      "[('year', 227), ('dollar', 208), ('war', 194), ('govern', 148)]\n",
      "\n",
      "1947 Truman\n",
      "[('nation', 48), ('congress', 27), ('must', 27), ('labor', 25)]\n",
      "\n",
      "1948 Truman\n",
      "[('nation', 40), ('must', 34), ('world', 31), ('peopl', 25)]\n",
      "\n",
      "1949 Truman\n",
      "[('govern', 24), ('must', 23), ('nation', 20), ('peopl', 18)]\n",
      "\n",
      "1950 Truman\n",
      "[('nation', 37), ('year', 29), ('world', 27), ('increas', 25)]\n",
      "\n",
      "1951 Truman\n",
      "[('nation', 36), ('world', 31), ('free', 30), ('need', 22)]\n",
      "\n",
      "1952 Truman\n",
      "[('year', 35), ('world', 34), ('must', 29), ('nation', 29)]\n",
      "\n",
      "1953 Truman\n",
      "[('world', 97), ('free', 77), ('nation', 67), ('war', 48)]\n",
      "\n",
      "1954 Eisenhower\n",
      "[('govern', 41), ('program', 33), ('state', 27), ('nation', 27)]\n",
      "\n",
      "1955 Eisenhower\n",
      "[('nation', 48), ('must', 46), ('year', 43), ('program', 43)]\n",
      "\n",
      "1956 Eisenhower\n",
      "[('nation', 52), ('program', 50), ('year', 48), ('must', 41)]\n",
      "\n",
      "1957 Eisenhower\n",
      "[('nation', 37), ('world', 22), ('secur', 19), ('congress', 18)]\n",
      "\n",
      "1958 Eisenhower\n",
      "[('world', 30), ('peac', 28), ('must', 28), ('militari', 27)]\n",
      "\n",
      "1959 Eisenhower\n",
      "[('nation', 34), ('must', 29), ('world', 26), ('year', 24)]\n",
      "\n",
      "1960 Eisenhower\n",
      "[('nation', 53), ('world', 34), ('year', 29), ('must', 28)]\n",
      "\n",
      "1961 Eisenhower\n",
      "[('nation', 42), ('program', 40), ('new', 37), ('year', 34)]\n",
      "\n",
      "1962 Kennedy\n",
      "[('new', 42), ('nation', 42), ('year', 23), ('world', 21)]\n",
      "\n",
      "1963 Kennedy\n",
      "[('nation', 40), ('year', 30), ('world', 24), ('tax', 21)]\n",
      "\n",
      "1964 Johnson\n",
      "[('must', 43), ('everi', 18), ('nation', 17), ('american', 15)]\n",
      "\n",
      "1965 Johnson\n",
      "[('nation', 39), ('american', 24), ('new', 23), ('year', 21)]\n",
      "\n",
      "1966 Johnson\n",
      "[('vietnam', 32), ('peopl', 32), ('year', 32), ('nation', 29)]\n",
      "\n",
      "1967 Johnson\n",
      "[('nation', 40), ('year', 39), ('must', 35), ('american', 31)]\n",
      "\n",
      "1968 Johnson\n",
      "[('year', 41), ('congress', 29), ('billion', 27), ('nation', 26)]\n",
      "\n",
      "1969 Johnson\n",
      "[('year', 44), ('congress', 29), ('nation', 19), ('think', 19)]\n",
      "\n",
      "1970 Nixon\n",
      "[('new', 33), ('america', 31), ('nation', 28), ('year', 25)]\n",
      "\n",
      "1971 Nixon\n",
      "[('govern', 54), ('peopl', 42), ('congress', 34), ('us', 32)]\n",
      "\n",
      "1972 Nixon\n",
      "[('year', 32), ('nation', 30), ('new', 25), ('congress', 23)]\n",
      "\n",
      "1973 Nixon\n",
      "[('govern', 14), ('american', 13), ('state', 10), ('year', 10)]\n",
      "\n",
      "1974 Nixon\n",
      "[('year', 68), ('america', 35), ('american', 33), ('peac', 29)]\n",
      "\n",
      "1975 Ford\n",
      "[('tax', 27), ('year', 26), ('world', 25), ('energi', 25)]\n",
      "\n",
      "1976 Ford\n",
      "[('year', 35), ('feder', 35), ('american', 32), ('must', 24)]\n",
      "\n",
      "1977 Ford\n",
      "[('nation', 26), ('year', 25), ('presid', 23), ('energi', 21)]\n",
      "\n",
      "1978 Carter\n",
      "[('must', 32), ('year', 27), ('peopl', 26), ('world', 24)]\n",
      "\n",
      "1979 Carter\n",
      "[('world', 31), ('must', 31), ('american', 29), ('nation', 28)]\n",
      "\n",
      "1980 Carter\n",
      "[('nation', 33), ('soviet', 32), ('world', 27), ('peac', 22)]\n",
      "\n",
      "1981 Carter\n",
      "[('nation', 212), ('year', 190), ('program', 171), ('administr', 151)]\n",
      "\n",
      "1982 Reagan\n",
      "[('program', 40), ('govern', 33), ('american', 26), ('year', 25)]\n",
      "\n",
      "1983 Reagan\n",
      "[('must', 35), ('american', 33), ('us', 32), ('year', 32)]\n",
      "\n",
      "1984 Reagan\n",
      "[('america', 31), ('peopl', 27), ('peac', 26), ('us', 23)]\n",
      "\n",
      "1985 Reagan\n",
      "[('year', 34), ('us', 27), ('freedom', 20), ('must', 19)]\n",
      "\n",
      "1986 Reagan\n",
      "[('america', 30), ('must', 19), ('nation', 18), ('famili', 18)]\n",
      "\n",
      "1987 Reagan\n",
      "[('america', 27), ('congress', 24), ('peopl', 19), ('let', 19)]\n",
      "\n",
      "1988 Reagan\n",
      "[('let', 34), ('year', 33), ('us', 31), ('america', 30)]\n",
      "\n",
      "1989 Bush\n",
      "[('must', 49), ('america', 32), ('nation', 22), ('new', 22)]\n",
      "\n",
      "1990 Bush\n",
      "[('everi', 25), ('america', 25), ('world', 24), ('american', 23)]\n",
      "\n",
      "1991 Bush\n",
      "[('world', 29), ('american', 23), ('nation', 22), ('america', 22)]\n",
      "\n",
      "1992 Bush\n",
      "[('must', 29), ('peopl', 26), ('plan', 25), ('know', 23)]\n",
      "\n",
      "1993 Clinton\n",
      "[('peopl', 45), ('american', 42), ('year', 40), ('must', 35)]\n",
      "\n",
      "1994 Clinton\n",
      "[('peopl', 67), ('year', 51), ('work', 49), ('health', 42)]\n",
      "\n",
      "1995 Clinton\n",
      "[('peopl', 70), ('work', 66), ('year', 56), ('new', 41)]\n",
      "\n",
      "1996 Clinton\n",
      "[('work', 59), ('challeng', 51), ('american', 49), ('peopl', 43)]\n",
      "\n",
      "1997 Clinton\n",
      "[('must', 80), ('america', 48), ('year', 45), ('american', 37)]\n",
      "\n",
      "1998 Clinton\n",
      "[('year', 58), ('america', 45), ('new', 45), ('american', 37)]\n",
      "\n",
      "1999 Clinton\n",
      "[('year', 57), ('american', 48), ('must', 48), ('work', 41)]\n",
      "\n",
      "2000 Clinton\n",
      "[('year', 54), ('new', 51), ('must', 47), ('american', 44)]\n",
      "\n",
      "2001 Bush\n",
      "[('must', 38), ('tax', 30), ('year', 28), ('budget', 27)]\n",
      "\n",
      "2002 Bush\n",
      "[('america', 33), ('american', 23), ('terrorist', 20), ('secur', 20)]\n",
      "\n",
      "2003 Bush\n",
      "[('peopl', 33), ('american', 31), ('weapon', 28), ('year', 26)]\n",
      "\n",
      "2004 Bush\n",
      "[('america', 38), ('american', 27), ('peopl', 21), ('help', 21)]\n",
      "\n",
      "2005 Bush\n",
      "[('secur', 32), ('must', 29), ('make', 26), ('year', 21)]\n",
      "\n",
      "2006 Bush\n",
      "[('america', 43), ('american', 28), ('nation', 27), ('world', 27)]\n",
      "\n",
      "2007 Bush\n",
      "[('us', 29), ('america', 28), ('american', 21), ('iraq', 21)]\n",
      "\n",
      "2008 Bush\n",
      "[('year', 35), ('america', 34), ('peopl', 32), ('american', 30)]\n",
      "\n",
      "2009 Obama\n",
      "[('american', 38), ('year', 23), ('know', 22), ('economi', 22)]\n",
      "\n",
      "2010 Obama\n",
      "[('american', 46), ('year', 46), ('peopl', 33), ('work', 30)]\n",
      "\n",
      "2011 Obama\n",
      "[('year', 40), ('new', 36), ('us', 33), ('peopl', 33)]\n",
      "\n",
      "2012 Obama\n",
      "[('american', 53), ('job', 42), ('year', 37), ('america', 33)]\n",
      "\n",
      "2013 Obama\n",
      "[('job', 43), ('year', 39), ('american', 31), ('work', 31)]\n",
      "\n",
      "2014 Obama\n",
      "[('american', 48), ('work', 43), ('help', 39), ('job', 37)]\n",
      "\n",
      "2015 Obama\n",
      "[('new', 41), ('year', 40), ('america', 38), ('american', 37)]\n",
      "\n",
      "2016 Obama\n",
      "[('year', 35), ('us', 33), ('american', 31), ('that', 30)]\n",
      "\n",
      "2017 Trump\n",
      "[('american', 47), ('america', 29), ('nation', 29), ('countri', 26)]\n",
      "\n",
      "2018 Trump\n",
      "[('american', 53), ('america', 27), ('year', 26), ('peopl', 26)]\n",
      "\n"
     ]
    }
   ],
   "source": [
    "for i, row in df.iterrows():\n",
    "    print(i, row['name'])\n",
    "    print(row['freq_dist'].most_common(4))\n",
    "    print()"
   ]
  },
  {
   "cell_type": "markdown",
   "metadata": {},
   "source": [
    "Let's edit the loop above to look at the token 'war' across the full corpus and plot its frequency in each speech. We'll create a Python dictionary where the key is the index of the cleaned_speeches and the value is the ratio of 'war' within the total number of words in each speech. "
   ]
  },
  {
   "cell_type": "code",
   "execution_count": 174,
   "metadata": {},
   "outputs": [
    {
     "data": {
      "text/html": [
       "<div>\n",
       "<style scoped>\n",
       "    .dataframe tbody tr th:only-of-type {\n",
       "        vertical-align: middle;\n",
       "    }\n",
       "\n",
       "    .dataframe tbody tr th {\n",
       "        vertical-align: top;\n",
       "    }\n",
       "\n",
       "    .dataframe thead th {\n",
       "        text-align: right;\n",
       "    }\n",
       "</style>\n",
       "<table border=\"1\" class=\"dataframe\">\n",
       "  <thead>\n",
       "    <tr style=\"text-align: right;\">\n",
       "      <th></th>\n",
       "      <th>text</th>\n",
       "      <th>name</th>\n",
       "      <th>freq_dist</th>\n",
       "      <th>word_count</th>\n",
       "      <th>total_words</th>\n",
       "      <th>ratio</th>\n",
       "    </tr>\n",
       "    <tr>\n",
       "      <th>year</th>\n",
       "      <th></th>\n",
       "      <th></th>\n",
       "      <th></th>\n",
       "      <th></th>\n",
       "      <th></th>\n",
       "      <th></th>\n",
       "    </tr>\n",
       "  </thead>\n",
       "  <tbody>\n",
       "    <tr>\n",
       "      <th>1791</th>\n",
       "      <td>[fellowcitizen, senat, hous, repres, vain, may...</td>\n",
       "      <td>Washington</td>\n",
       "      <td>{'fellowcitizen': 1, 'senat': 3, 'hous': 3, 'r...</td>\n",
       "      <td>1</td>\n",
       "      <td>1072</td>\n",
       "      <td>0.000933</td>\n",
       "    </tr>\n",
       "    <tr>\n",
       "      <th>1792</th>\n",
       "      <td>[fellowcitizen, senat, hous, repres, abat, sat...</td>\n",
       "      <td>Washington</td>\n",
       "      <td>{'fellowcitizen': 1, 'senat': 2, 'hous': 3, 'r...</td>\n",
       "      <td>2</td>\n",
       "      <td>969</td>\n",
       "      <td>0.002064</td>\n",
       "    </tr>\n",
       "    <tr>\n",
       "      <th>1793</th>\n",
       "      <td>[fellowcitizen, senat, hous, repres, sinc, com...</td>\n",
       "      <td>Washington</td>\n",
       "      <td>{'fellowcitizen': 1, 'senat': 2, 'hous': 3, 'r...</td>\n",
       "      <td>4</td>\n",
       "      <td>903</td>\n",
       "      <td>0.004430</td>\n",
       "    </tr>\n",
       "    <tr>\n",
       "      <th>1794</th>\n",
       "      <td>[fellowcitizen, senat, hous, repres, call, min...</td>\n",
       "      <td>Washington</td>\n",
       "      <td>{'fellowcitizen': 1, 'senat': 2, 'hous': 5, 'r...</td>\n",
       "      <td>1</td>\n",
       "      <td>1344</td>\n",
       "      <td>0.000744</td>\n",
       "    </tr>\n",
       "    <tr>\n",
       "      <th>1795</th>\n",
       "      <td>[fellowcitizen, senat, hous, repres, trust, de...</td>\n",
       "      <td>Washington</td>\n",
       "      <td>{'fellowcitizen': 1, 'senat': 4, 'hous': 4, 'r...</td>\n",
       "      <td>4</td>\n",
       "      <td>939</td>\n",
       "      <td>0.004260</td>\n",
       "    </tr>\n",
       "  </tbody>\n",
       "</table>\n",
       "</div>"
      ],
      "text/plain": [
       "                                                   text        name  \\\n",
       "year                                                                  \n",
       "1791  [fellowcitizen, senat, hous, repres, vain, may...  Washington   \n",
       "1792  [fellowcitizen, senat, hous, repres, abat, sat...  Washington   \n",
       "1793  [fellowcitizen, senat, hous, repres, sinc, com...  Washington   \n",
       "1794  [fellowcitizen, senat, hous, repres, call, min...  Washington   \n",
       "1795  [fellowcitizen, senat, hous, repres, trust, de...  Washington   \n",
       "\n",
       "                                              freq_dist  word_count  \\\n",
       "year                                                                  \n",
       "1791  {'fellowcitizen': 1, 'senat': 3, 'hous': 3, 'r...           1   \n",
       "1792  {'fellowcitizen': 1, 'senat': 2, 'hous': 3, 'r...           2   \n",
       "1793  {'fellowcitizen': 1, 'senat': 2, 'hous': 3, 'r...           4   \n",
       "1794  {'fellowcitizen': 1, 'senat': 2, 'hous': 5, 'r...           1   \n",
       "1795  {'fellowcitizen': 1, 'senat': 4, 'hous': 4, 'r...           4   \n",
       "\n",
       "      total_words     ratio  \n",
       "year                         \n",
       "1791         1072  0.000933  \n",
       "1792          969  0.002064  \n",
       "1793          903  0.004430  \n",
       "1794         1344  0.000744  \n",
       "1795          939  0.004260  "
      ]
     },
     "execution_count": 174,
     "metadata": {},
     "output_type": "execute_result"
    }
   ],
   "source": [
    "word = 'war'\n",
    "df['word_count'] = [freq_dist[word] for freq_dist in df['freq_dist']]\n",
    "df['total_words'] = [len(words) for words in df['text']]\n",
    "df['ratio'] = df['word_count'] / df['total_words']\n",
    "df.head()"
   ]
  },
  {
   "cell_type": "code",
   "execution_count": 175,
   "metadata": {},
   "outputs": [
    {
     "data": {
      "image/png": "[encoded data removed]",
      "text/plain": [
       "<Figure size 1000x600 with 1 Axes>"
      ]
     },
     "metadata": {},
     "output_type": "display_data"
    }
   ],
   "source": [
    "import matplotlib.pyplot as plt\n",
    "ax = df['word_count'].plot(kind='bar', figsize=(10, 6), title=f'Frequency of the word \"{word}\" in each speech')\n",
    "ax.set_xlabel('Year')\n",
    "ax.set_ylabel('Frequency')\n",
    "ax.set_xticks(range(0, len(df.index), 10))\n",
    "ax.set_xticklabels(df.index[::10], rotation=45)\n",
    "plt.show()"
   ]
  },
  {
   "cell_type": "markdown",
   "metadata": {},
   "source": [
    "### Plotly\n",
    "Let's use an interactive plotting library, Plotly, to build a plot that will allow us to hover over specific points to find more information. This will allow us to pinpoint the spikes in the plot that show the highest frequency of 'war' mentions."
   ]
  },
  {
   "cell_type": "code",
   "execution_count": 176,
   "metadata": {},
   "outputs": [],
   "source": [
    "#conda install plotly\n",
    "import plotly.express as px"
   ]
  },
  {
   "cell_type": "code",
   "execution_count": 177,
   "metadata": {},
   "outputs": [
    {
     "data": {
      "application/vnd.plotly.v1+json": {
       "config": {
        "plotlyServerURL": "https://plot.ly"
       },
       "data": [
        {
         "hovertemplate": "x=%{x}<br>y=%{y}<extra></extra>",
         "legendgroup": "",
         "line": {
          "color": "#636efa",
          "dash": "solid"
         },
         "marker": {
          "symbol": "circle"
         },
         "mode": "lines",
         "name": "",
         "orientation": "v",
         "showlegend": false,
         "type": "scatter",
         "x": [
          "1791",
          "1792",
          "1793",
          "1794",
          "1795",
          "1796",
          "1797",
          "1798",
          "1799",
          "1800",
          "1801",
          "1802",
          "1803",
          "1804",
          "1805",
          "1806",
          "1807",
          "1808",
          "1809",
          "1810",
          "1811",
          "1812",
          "1813",
          "1814",
          "1815",
          "1816",
          "1817",
          "1818",
          "1819",
          "1820",
          "1821",
          "1822",
          "1823",
          "1824",
          "1825",
          "1826",
          "1827",
          "1828",
          "1829",
          "1830",
          "1831",
          "1832",
          "1833",
          "1834",
          "1835",
          "1836",
          "1837",
          "1838",
          "1839",
          "1840",
          "1841",
          "1842",
          "1843",
          "1844",
          "1845",
          "1846",
          "1847",
          "1848",
          "1849",
          "1850",
          "1851",
          "1852",
          "1853",
          "1854",
          "1855",
          "1856",
          "1857",
          "1858",
          "1859",
          "1860",
          "1861",
          "1862",
          "1863",
          "1864",
          "1865",
          "1866",
          "1867",
          "1868",
          "1869",
          "1870",
          "1871",
          "1872",
          "1873",
          "1874",
          "1875",
          "1876",
          "1877",
          "1878",
          "1879",
          "1880",
          "1881",
          "1882",
          "1883",
          "1884",
          "1885",
          "1886",
          "1887",
          "1888",
          "1889",
          "1890",
          "1891",
          "1892",
          "1893",
          "1894",
          "1895",
          "1896",
          "1897",
          "1898",
          "1899",
          "1900",
          "1901",
          "1902",
          "1903",
          "1904",
          "1905",
          "1906",
          "1907",
          "1908",
          "1909",
          "1910",
          "1911",
          "1912",
          "1913",
          "1914",
          "1915",
          "1916",
          "1917",
          "1918",
          "1919",
          "1920",
          "1921",
          "1922",
          "1923",
          "1924",
          "1925",
          "1926",
          "1927",
          "1928",
          "1929",
          "1930",
          "1931",
          "1932",
          "1934",
          "1935",
          "1936",
          "1937",
          "1938",
          "1939",
          "1940",
          "1941",
          "1942",
          "1943",
          "1944",
          "1945",
          "1946",
          "1947",
          "1948",
          "1949",
          "1950",
          "1951",
          "1952",
          "1953",
          "1954",
          "1955",
          "1956",
          "1957",
          "1958",
          "1959",
          "1960",
          "1961",
          "1962",
          "1963",
          "1964",
          "1965",
          "1966",
          "1967",
          "1968",
          "1969",
          "1970",
          "1971",
          "1972",
          "1973",
          "1974",
          "1975",
          "1976",
          "1977",
          "1978",
          "1979",
          "1980",
          "1981",
          "1982",
          "1983",
          "1984",
          "1985",
          "1986",
          "1987",
          "1988",
          "1989",
          "1990",
          "1991",
          "1992",
          "1993",
          "1994",
          "1995",
          "1996",
          "1997",
          "1998",
          "1999",
          "2000",
          "2001",
          "2002",
          "2003",
          "2004",
          "2005",
          "2006",
          "2007",
          "2008",
          "2009",
          "2010",
          "2011",
          "2012",
          "2013",
          "2014",
          "2015",
          "2016",
          "2017",
          "2018"
         ],
         "xaxis": "x",
         "y": [
          0.0009328358208955224,
          0.0020639834881320948,
          0.004429678848283499,
          0.000744047619047619,
          0.004259850905218318,
          0.0087527352297593,
          0.004077471967380225,
          0.004816955684007707,
          0.004267425320056899,
          0.001564945226917058,
          0.005329780146568954,
          0.0028735632183908046,
          0.0036596523330283625,
          0.007276507276507277,
          0.004373177842565598,
          0.004421518054532056,
          0.0017528483786152498,
          0.001610305958132045,
          0.003676470588235294,
          0.004332755632582322,
          0.002785515320334262,
          0.013422818791946308,
          0.0190664036817883,
          0.009823182711198428,
          0.0066050198150594455,
          0.005750798722044728,
          0.0029498525073746312,
          0.0049800796812749,
          0.002385496183206107,
          0.0056461731493099125,
          0.00037965072133637056,
          0.007380073800738007,
          0.0047814207650273225,
          0.00814931650893796,
          0.003334127173136461,
          0.004728789986091794,
          0.0030534351145038168,
          0.004342790966994789,
          0.002443494196701283,
          0.0004284490145672665,
          0.0015064778547755348,
          0.0035941387890517005,
          0.0021810250817884407,
          0.0014365522745411015,
          0.0006064281382656155,
          0.0019298245614035089,
          0.0018542555164101613,
          0.002026902524414962,
          0.0014349489795918368,
          0.0009334889148191366,
          0.0015641293013555788,
          0.0024975024975024975,
          0.004812834224598931,
          0.004100227790432802,
          0.002352018816150529,
          0.007998145357598237,
          0.012289780077619664,
          0.0070262246412667,
          0.0036322995250069852,
          0.0015360983102918587,
          0.0011139401654996818,
          0.0012828736369467607,
          0.0023717119448037945,
          0.0035935316430425234,
          0.004127041090974341,
          0.001800720288115246,
          0.003028009084027252,
          0.0024068913098555865,
          0.0034779728386883074,
          0.0032728354656352274,
          0.002394492666866208,
          0.0048721071863581,
          0.005324459234608985,
          0.0077181208053691275,
          0.004165702383707475,
          0.004829545454545454,
          0.00535405872193437,
          0.007208650380456548,
          0.003514463368477967,
          0.0032856137057028865,
          0.0012924071082390954,
          0.0005422993492407809,
          0.0026401299756295695,
          0.0013568521031207597,
          0.002372479240806643,
          0.0030627871362940277,
          0.002531004808909137,
          0.0010235414534288639,
          0.001411183630269889,
          0.0015513496742165685,
          0.0010368066355624676,
          0.001984126984126984,
          0.0010482180293501049,
          0.0017797552836484984,
          0.0014435966178593523,
          0.001611170784103115,
          0,
          0.0020143240823634737,
          0.0019298809906722419,
          0.0003532944709415298,
          0.0015310028068384791,
          0.0017759360663016132,
          0.0020572875454977053,
          0.003335804299481097,
          0.0008125677139761647,
          0.001277791975466394,
          0.0047027208599261005,
          0.005547584887613582,
          0.001939487975174554,
          0.0015372002459520394,
          0.003920737522517749,
          0.0034393809114359416,
          0.003488996242619431,
          0.0015362798392814937,
          0.002741319156005981,
          0.0028121979084278054,
          0.0029436183862933053,
          0.001487778958554729,
          0.001319067858713176,
          0.002880184331797235,
          0.001270863339828857,
          0.0023839796567069293,
          0,
          0.0024752475247524753,
          0.0029697624190064796,
          0.0009930486593843098,
          0.017643710870802503,
          0.009607686148919135,
          0.006013745704467354,
          0.00842911877394636,
          0.004681310767014764,
          0.00508819538670285,
          0.0029958058717795086,
          0.0032135553607946245,
          0.003595760787282362,
          0.00376984126984127,
          0.003168854685377999,
          0.002889477486154587,
          0.0025112107623318385,
          0.0004219409282700422,
          0.0009983361064891847,
          0.0022055580061755625,
          0.0008920606601248885,
          0,
          0.00596529284164859,
          0.002871500358937545,
          0.0004310344827586207,
          0.0031479538300104933,
          0.009541984732824428,
          0.011677934849416103,
          0.018224573780129337,
          0.021033379058070414,
          0.025040827436037017,
          0.017844224740776463,
          0.012770719504970048,
          0.006351222610352493,
          0.005229734777736272,
          0,
          0.0015723270440251573,
          0.004050632911392405,
          0.004530011325028313,
          0.009937888198757764,
          0.0012254901960784314,
          0.0007331378299120235,
          0.0017765933821896514,
          0.0018340210912425492,
          0.003427265803503427,
          0.002284843869002285,
          0.0023209549071618036,
          0.0016519823788546256,
          0.002027222704894295,
          0.002851033499643621,
          0.004270896888346553,
          0.0018373909049150207,
          0.00532319391634981,
          0.004740658114891244,
          0.002385685884691849,
          0.001530612244897959,
          0.007386888273314866,
          0.0018323408153916628,
          0.004672897196261682,
          0.0012033694344163659,
          0.0032310177705977385,
          0.0008869179600886918,
          0.0022497187851518562,
          0.003762541806020067,
          0.002589555459646094,
          0.002336448598130841,
          0.0022688598979013048,
          0.0013375173620042184,
          0,
          0.00034002040122407346,
          0.0022189349112426036,
          0.0020973154362416107,
          0.0005221932114882506,
          0.0010126582278481013,
          0.0026748184944593045,
          0.001979414093428345,
          0,
          0.0045871559633027525,
          0.002089427496865859,
          0,
          0.0005173305742369374,
          0.0013224597751818382,
          0.0018343014368694588,
          0.002497918401332223,
          0.0007682458386683739,
          0.0014800197335964479,
          0.0009537434430138292,
          0.000423908435777872,
          0.005706134094151213,
          0.0037593984962406013,
          0.004246284501061571,
          0.0018368846436443791,
          0.0007000350017500875,
          0.003414134516899966,
          0.0009759271307742355,
          0.0017059024223814397,
          0.0019162332329592116,
          0.0011163829193413341,
          0.0015936254980079682,
          0.0008505812305075135,
          0.0018893387314439945,
          0.0013842746400885937,
          0.002793296089385475,
          0.0022675736961451248,
          0.000719165767709457
         ],
         "yaxis": "y"
        }
       ],
       "layout": {
        "autosize": true,
        "legend": {
         "tracegroupgap": 0
        },
        "margin": {
         "t": 60
        },
        "template": {
         "data": {
          "bar": [
           {
            "error_x": {
             "color": "#2a3f5f"
            },
            "error_y": {
             "color": "#2a3f5f"
            },
            "marker": {
             "line": {
              "color": "#E5ECF6",
              "width": 0.5
             },
             "pattern": {
              "fillmode": "overlay",
              "size": 10,
              "solidity": 0.2
             }
            },
            "type": "bar"
           }
          ],
          "barpolar": [
           {
            "marker": {
             "line": {
              "color": "#E5ECF6",
              "width": 0.5
             },
             "pattern": {
              "fillmode": "overlay",
              "size": 10,
              "solidity": 0.2
             }
            },
            "type": "barpolar"
           }
          ],
          "carpet": [
           {
            "aaxis": {
             "endlinecolor": "#2a3f5f",
             "gridcolor": "white",
             "linecolor": "white",
             "minorgridcolor": "white",
             "startlinecolor": "#2a3f5f"
            },
            "baxis": {
             "endlinecolor": "#2a3f5f",
             "gridcolor": "white",
             "linecolor": "white",
             "minorgridcolor": "white",
             "startlinecolor": "#2a3f5f"
            },
            "type": "carpet"
           }
          ],
          "choropleth": [
           {
            "colorbar": {
             "outlinewidth": 0,
             "ticks": ""
            },
            "type": "choropleth"
           }
          ],
          "contour": [
           {
            "colorbar": {
             "outlinewidth": 0,
             "ticks": ""
            },
            "colorscale": [
             [
              0,
              "#0d0887"
             ],
             [
              0.1111111111111111,
              "#46039f"
             ],
             [
              0.2222222222222222,
              "#7201a8"
             ],
             [
              0.3333333333333333,
              "#9c179e"
             ],
             [
              0.4444444444444444,
              "#bd3786"
             ],
             [
              0.5555555555555556,
              "#d8576b"
             ],
             [
              0.6666666666666666,
              "#ed7953"
             ],
             [
              0.7777777777777778,
              "#fb9f3a"
             ],
             [
              0.8888888888888888,
              "#fdca26"
             ],
             [
              1,
              "#f0f921"
             ]
            ],
            "type": "contour"
           }
          ],
          "contourcarpet": [
           {
            "colorbar": {
             "outlinewidth": 0,
             "ticks": ""
            },
            "type": "contourcarpet"
           }
          ],
          "heatmap": [
           {
            "colorbar": {
             "outlinewidth": 0,
             "ticks": ""
            },
            "colorscale": [
             [
              0,
              "#0d0887"
             ],
             [
              0.1111111111111111,
              "#46039f"
             ],
             [
              0.2222222222222222,
              "#7201a8"
             ],
             [
              0.3333333333333333,
              "#9c179e"
             ],
             [
              0.4444444444444444,
              "#bd3786"
             ],
             [
              0.5555555555555556,
              "#d8576b"
             ],
             [
              0.6666666666666666,
              "#ed7953"
             ],
             [
              0.7777777777777778,
              "#fb9f3a"
             ],
             [
              0.8888888888888888,
              "#fdca26"
             ],
             [
              1,
              "#f0f921"
             ]
            ],
            "type": "heatmap"
           }
          ],
          "heatmapgl": [
           {
            "colorbar": {
             "outlinewidth": 0,
             "ticks": ""
            },
            "colorscale": [
             [
              0,
              "#0d0887"
             ],
             [
              0.1111111111111111,
              "#46039f"
             ],
             [
              0.2222222222222222,
              "#7201a8"
             ],
             [
              0.3333333333333333,
              "#9c179e"
             ],
             [
              0.4444444444444444,
              "#bd3786"
             ],
             [
              0.5555555555555556,
              "#d8576b"
             ],
             [
              0.6666666666666666,
              "#ed7953"
             ],
             [
              0.7777777777777778,
              "#fb9f3a"
             ],
             [
              0.8888888888888888,
              "#fdca26"
             ],
             [
              1,
              "#f0f921"
             ]
            ],
            "type": "heatmapgl"
           }
          ],
          "histogram": [
           {
            "marker": {
             "pattern": {
              "fillmode": "overlay",
              "size": 10,
              "solidity": 0.2
             }
            },
            "type": "histogram"
           }
          ],
          "histogram2d": [
           {
            "colorbar": {
             "outlinewidth": 0,
             "ticks": ""
            },
            "colorscale": [
             [
              0,
              "#0d0887"
             ],
             [
              0.1111111111111111,
              "#46039f"
             ],
             [
              0.2222222222222222,
              "#7201a8"
             ],
             [
              0.3333333333333333,
              "#9c179e"
             ],
             [
              0.4444444444444444,
              "#bd3786"
             ],
             [
              0.5555555555555556,
              "#d8576b"
             ],
             [
              0.6666666666666666,
              "#ed7953"
             ],
             [
              0.7777777777777778,
              "#fb9f3a"
             ],
             [
              0.8888888888888888,
              "#fdca26"
             ],
             [
              1,
              "#f0f921"
             ]
            ],
            "type": "histogram2d"
           }
          ],
          "histogram2dcontour": [
           {
            "colorbar": {
             "outlinewidth": 0,
             "ticks": ""
            },
            "colorscale": [
             [
              0,
              "#0d0887"
             ],
             [
              0.1111111111111111,
              "#46039f"
             ],
             [
              0.2222222222222222,
              "#7201a8"
             ],
             [
              0.3333333333333333,
              "#9c179e"
             ],
             [
              0.4444444444444444,
              "#bd3786"
             ],
             [
              0.5555555555555556,
              "#d8576b"
             ],
             [
              0.6666666666666666,
              "#ed7953"
             ],
             [
              0.7777777777777778,
              "#fb9f3a"
             ],
             [
              0.8888888888888888,
              "#fdca26"
             ],
             [
              1,
              "#f0f921"
             ]
            ],
            "type": "histogram2dcontour"
           }
          ],
          "mesh3d": [
           {
            "colorbar": {
             "outlinewidth": 0,
             "ticks": ""
            },
            "type": "mesh3d"
           }
          ],
          "parcoords": [
           {
            "line": {
             "colorbar": {
              "outlinewidth": 0,
              "ticks": ""
             }
            },
            "type": "parcoords"
           }
          ],
          "pie": [
           {
            "automargin": true,
            "type": "pie"
           }
          ],
          "scatter": [
           {
            "fillpattern": {
             "fillmode": "overlay",
             "size": 10,
             "solidity": 0.2
            },
            "type": "scatter"
           }
          ],
          "scatter3d": [
           {
            "line": {
             "colorbar": {
              "outlinewidth": 0,
              "ticks": ""
             }
            },
            "marker": {
             "colorbar": {
              "outlinewidth": 0,
              "ticks": ""
             }
            },
            "type": "scatter3d"
           }
          ],
          "scattercarpet": [
           {
            "marker": {
             "colorbar": {
              "outlinewidth": 0,
              "ticks": ""
             }
            },
            "type": "scattercarpet"
           }
          ],
          "scattergeo": [
           {
            "marker": {
             "colorbar": {
              "outlinewidth": 0,
              "ticks": ""
             }
            },
            "type": "scattergeo"
           }
          ],
          "scattergl": [
           {
            "marker": {
             "colorbar": {
              "outlinewidth": 0,
              "ticks": ""
             }
            },
            "type": "scattergl"
           }
          ],
          "scattermapbox": [
           {
            "marker": {
             "colorbar": {
              "outlinewidth": 0,
              "ticks": ""
             }
            },
            "type": "scattermapbox"
           }
          ],
          "scatterpolar": [
           {
            "marker": {
             "colorbar": {
              "outlinewidth": 0,
              "ticks": ""
             }
            },
            "type": "scatterpolar"
           }
          ],
          "scatterpolargl": [
           {
            "marker": {
             "colorbar": {
              "outlinewidth": 0,
              "ticks": ""
             }
            },
            "type": "scatterpolargl"
           }
          ],
          "scatterternary": [
           {
            "marker": {
             "colorbar": {
              "outlinewidth": 0,
              "ticks": ""
             }
            },
            "type": "scatterternary"
           }
          ],
          "surface": [
           {
            "colorbar": {
             "outlinewidth": 0,
             "ticks": ""
            },
            "colorscale": [
             [
              0,
              "#0d0887"
             ],
             [
              0.1111111111111111,
              "#46039f"
             ],
             [
              0.2222222222222222,
              "#7201a8"
             ],
             [
              0.3333333333333333,
              "#9c179e"
             ],
             [
              0.4444444444444444,
              "#bd3786"
             ],
             [
              0.5555555555555556,
              "#d8576b"
             ],
             [
              0.6666666666666666,
              "#ed7953"
             ],
             [
              0.7777777777777778,
              "#fb9f3a"
             ],
             [
              0.8888888888888888,
              "#fdca26"
             ],
             [
              1,
              "#f0f921"
             ]
            ],
            "type": "surface"
           }
          ],
          "table": [
           {
            "cells": {
             "fill": {
              "color": "#EBF0F8"
             },
             "line": {
              "color": "white"
             }
            },
            "header": {
             "fill": {
              "color": "#C8D4E3"
             },
             "line": {
              "color": "white"
             }
            },
            "type": "table"
           }
          ]
         },
         "layout": {
          "annotationdefaults": {
           "arrowcolor": "#2a3f5f",
           "arrowhead": 0,
           "arrowwidth": 1
          },
          "autotypenumbers": "strict",
          "coloraxis": {
           "colorbar": {
            "outlinewidth": 0,
            "ticks": ""
           }
          },
          "colorscale": {
           "diverging": [
            [
             0,
             "#8e0152"
            ],
            [
             0.1,
             "#c51b7d"
            ],
            [
             0.2,
             "#de77ae"
            ],
            [
             0.3,
             "#f1b6da"
            ],
            [
             0.4,
             "#fde0ef"
            ],
            [
             0.5,
             "#f7f7f7"
            ],
            [
             0.6,
             "#e6f5d0"
            ],
            [
             0.7,
             "#b8e186"
            ],
            [
             0.8,
             "#7fbc41"
            ],
            [
             0.9,
             "#4d9221"
            ],
            [
             1,
             "#276419"
            ]
           ],
           "sequential": [
            [
             0,
             "#0d0887"
            ],
            [
             0.1111111111111111,
             "#46039f"
            ],
            [
             0.2222222222222222,
             "#7201a8"
            ],
            [
             0.3333333333333333,
             "#9c179e"
            ],
            [
             0.4444444444444444,
             "#bd3786"
            ],
            [
             0.5555555555555556,
             "#d8576b"
            ],
            [
             0.6666666666666666,
             "#ed7953"
            ],
            [
             0.7777777777777778,
             "#fb9f3a"
            ],
            [
             0.8888888888888888,
             "#fdca26"
            ],
            [
             1,
             "#f0f921"
            ]
           ],
           "sequentialminus": [
            [
             0,
             "#0d0887"
            ],
            [
             0.1111111111111111,
             "#46039f"
            ],
            [
             0.2222222222222222,
             "#7201a8"
            ],
            [
             0.3333333333333333,
             "#9c179e"
            ],
            [
             0.4444444444444444,
             "#bd3786"
            ],
            [
             0.5555555555555556,
             "#d8576b"
            ],
            [
             0.6666666666666666,
             "#ed7953"
            ],
            [
             0.7777777777777778,
             "#fb9f3a"
            ],
            [
             0.8888888888888888,
             "#fdca26"
            ],
            [
             1,
             "#f0f921"
            ]
           ]
          },
          "colorway": [
           "#636efa",
           "#EF553B",
           "#00cc96",
           "#ab63fa",
           "#FFA15A",
           "#19d3f3",
           "#FF6692",
           "#B6E880",
           "#FF97FF",
           "#FECB52"
          ],
          "font": {
           "color": "#2a3f5f"
          },
          "geo": {
           "bgcolor": "white",
           "lakecolor": "white",
           "landcolor": "#E5ECF6",
           "showlakes": true,
           "showland": true,
           "subunitcolor": "white"
          },
          "hoverlabel": {
           "align": "left"
          },
          "hovermode": "closest",
          "mapbox": {
           "style": "light"
          },
          "paper_bgcolor": "white",
          "plot_bgcolor": "#E5ECF6",
          "polar": {
           "angularaxis": {
            "gridcolor": "white",
            "linecolor": "white",
            "ticks": ""
           },
           "bgcolor": "#E5ECF6",
           "radialaxis": {
            "gridcolor": "white",
            "linecolor": "white",
            "ticks": ""
           }
          },
          "scene": {
           "xaxis": {
            "backgroundcolor": "#E5ECF6",
            "gridcolor": "white",
            "gridwidth": 2,
            "linecolor": "white",
            "showbackground": true,
            "ticks": "",
            "zerolinecolor": "white"
           },
           "yaxis": {
            "backgroundcolor": "#E5ECF6",
            "gridcolor": "white",
            "gridwidth": 2,
            "linecolor": "white",
            "showbackground": true,
            "ticks": "",
            "zerolinecolor": "white"
           },
           "zaxis": {
            "backgroundcolor": "#E5ECF6",
            "gridcolor": "white",
            "gridwidth": 2,
            "linecolor": "white",
            "showbackground": true,
            "ticks": "",
            "zerolinecolor": "white"
           }
          },
          "shapedefaults": {
           "line": {
            "color": "#2a3f5f"
           }
          },
          "ternary": {
           "aaxis": {
            "gridcolor": "white",
            "linecolor": "white",
            "ticks": ""
           },
           "baxis": {
            "gridcolor": "white",
            "linecolor": "white",
            "ticks": ""
           },
           "bgcolor": "#E5ECF6",
           "caxis": {
            "gridcolor": "white",
            "linecolor": "white",
            "ticks": ""
           }
          },
          "title": {
           "x": 0.05
          },
          "xaxis": {
           "automargin": true,
           "gridcolor": "white",
           "linecolor": "white",
           "ticks": "",
           "title": {
            "standoff": 15
           },
           "zerolinecolor": "white",
           "zerolinewidth": 2
          },
          "yaxis": {
           "automargin": true,
           "gridcolor": "white",
           "linecolor": "white",
           "ticks": "",
           "title": {
            "standoff": 15
           },
           "zerolinecolor": "white",
           "zerolinewidth": 2
          }
         }
        },
        "xaxis": {
         "anchor": "y",
         "autorange": true,
         "domain": [
          0,
          1
         ],
         "range": [
          0,
          226
         ],
         "title": {
          "text": "Speech"
         },
         "type": "category"
        },
        "yaxis": {
         "anchor": "x",
         "autorange": true,
         "domain": [
          0,
          1
         ],
         "range": [
          -0.0013911570797798345,
          0.026431984515816853
         ],
         "title": {
          "text": "Relative frequency of 'war'"
         },
         "type": "linear"
        }
       }
      },
      "image/png": "[encoded data removed]",
      "text/html": [
       "<div>                            <div id=\"55ce3862-2337-4ef3-befb-5f303f31b3cc\" class=\"plotly-graph-div\" style=\"height:525px; width:100%;\"></div>            <script type=\"text/javascript\">                require([\"plotly\"], function(Plotly) {                    window.PLOTLYENV=window.PLOTLYENV || {};                                    if (document.getElementById(\"55ce3862-2337-4ef3-befb-5f303f31b3cc\")) {                    Plotly.newPlot(                        \"55ce3862-2337-4ef3-befb-5f303f31b3cc\",                        [{\"hovertemplate\":\"x=%{x}\\u003cbr\\u003ey=%{y}\\u003cextra\\u003e\\u003c\\u002fextra\\u003e\",\"legendgroup\":\"\",\"line\":{\"color\":\"#636efa\",\"dash\":\"solid\"},\"marker\":{\"symbol\":\"circle\"},\"mode\":\"lines\",\"name\":\"\",\"orientation\":\"v\",\"showlegend\":false,\"x\":[\"1791\",\"1792\",\"1793\",\"1794\",\"1795\",\"1796\",\"1797\",\"1798\",\"1799\",\"1800\",\"1801\",\"1802\",\"1803\",\"1804\",\"1805\",\"1806\",\"1807\",\"1808\",\"1809\",\"1810\",\"1811\",\"1812\",\"1813\",\"1814\",\"1815\",\"1816\",\"1817\",\"1818\",\"1819\",\"1820\",\"1821\",\"1822\",\"1823\",\"1824\",\"1825\",\"1826\",\"1827\",\"1828\",\"1829\",\"1830\",\"1831\",\"1832\",\"1833\",\"1834\",\"1835\",\"1836\",\"1837\",\"1838\",\"1839\",\"1840\",\"1841\",\"1842\",\"1843\",\"1844\",\"1845\",\"1846\",\"1847\",\"1848\",\"1849\",\"1850\",\"1851\",\"1852\",\"1853\",\"1854\",\"1855\",\"1856\",\"1857\",\"1858\",\"1859\",\"1860\",\"1861\",\"1862\",\"1863\",\"1864\",\"1865\",\"1866\",\"1867\",\"1868\",\"1869\",\"1870\",\"1871\",\"1872\",\"1873\",\"1874\",\"1875\",\"1876\",\"1877\",\"1878\",\"1879\",\"1880\",\"1881\",\"1882\",\"1883\",\"1884\",\"1885\",\"1886\",\"1887\",\"1888\",\"1889\",\"1890\",\"1891\",\"1892\",\"1893\",\"1894\",\"1895\",\"1896\",\"1897\",\"1898\",\"1899\",\"1900\",\"1901\",\"1902\",\"1903\",\"1904\",\"1905\",\"1906\",\"1907\",\"1908\",\"1909\",\"1910\",\"1911\",\"1912\",\"1913\",\"1914\",\"1915\",\"1916\",\"1917\",\"1918\",\"1919\",\"1920\",\"1921\",\"1922\",\"1923\",\"1924\",\"1925\",\"1926\",\"1927\",\"1928\",\"1929\",\"1930\",\"1931\",\"1932\",\"1934\",\"1935\",\"1936\",\"1937\",\"1938\",\"1939\",\"1940\",\"1941\",\"1942\",\"1943\",\"1944\",\"1945\",\"1946\",\"1947\",\"1948\",\"1949\",\"1950\",\"1951\",\"1952\",\"1953\",\"1954\",\"1955\",\"1956\",\"1957\",\"1958\",\"1959\",\"1960\",\"1961\",\"1962\",\"1963\",\"1964\",\"1965\",\"1966\",\"1967\",\"1968\",\"1969\",\"1970\",\"1971\",\"1972\",\"1973\",\"1974\",\"1975\",\"1976\",\"1977\",\"1978\",\"1979\",\"1980\",\"1981\",\"1982\",\"1983\",\"1984\",\"1985\",\"1986\",\"1987\",\"1988\",\"1989\",\"1990\",\"1991\",\"1992\",\"1993\",\"1994\",\"1995\",\"1996\",\"1997\",\"1998\",\"1999\",\"2000\",\"2001\",\"2002\",\"2003\",\"2004\",\"2005\",\"2006\",\"2007\",\"2008\",\"2009\",\"2010\",\"2011\",\"2012\",\"2013\",\"2014\",\"2015\",\"2016\",\"2017\",\"2018\"],\"xaxis\":\"x\",\"y\":[0.0009328358208955224,0.0020639834881320948,0.004429678848283499,0.000744047619047619,0.004259850905218318,0.0087527352297593,0.004077471967380225,0.004816955684007707,0.004267425320056899,0.001564945226917058,0.005329780146568954,0.0028735632183908046,0.0036596523330283625,0.007276507276507277,0.004373177842565598,0.004421518054532056,0.0017528483786152498,0.001610305958132045,0.003676470588235294,0.004332755632582322,0.002785515320334262,0.013422818791946308,0.0190664036817883,0.009823182711198428,0.0066050198150594455,0.005750798722044728,0.0029498525073746312,0.0049800796812749,0.002385496183206107,0.0056461731493099125,0.00037965072133637056,0.007380073800738007,0.0047814207650273225,0.00814931650893796,0.003334127173136461,0.004728789986091794,0.0030534351145038168,0.004342790966994789,0.002443494196701283,0.0004284490145672665,0.0015064778547755348,0.0035941387890517005,0.0021810250817884407,0.0014365522745411015,0.0006064281382656155,0.0019298245614035089,0.0018542555164101613,0.002026902524414962,0.0014349489795918368,0.0009334889148191366,0.0015641293013555788,0.0024975024975024975,0.004812834224598931,0.004100227790432802,0.002352018816150529,0.007998145357598237,0.012289780077619664,0.0070262246412667,0.0036322995250069852,0.0015360983102918587,0.0011139401654996818,0.0012828736369467607,0.0023717119448037945,0.0035935316430425234,0.004127041090974341,0.001800720288115246,0.003028009084027252,0.0024068913098555865,0.0034779728386883074,0.0032728354656352274,0.002394492666866208,0.0048721071863581,0.005324459234608985,0.0077181208053691275,0.004165702383707475,0.004829545454545454,0.00535405872193437,0.007208650380456548,0.003514463368477967,0.0032856137057028865,0.0012924071082390954,0.0005422993492407809,0.0026401299756295695,0.0013568521031207597,0.002372479240806643,0.0030627871362940277,0.002531004808909137,0.0010235414534288639,0.001411183630269889,0.0015513496742165685,0.0010368066355624676,0.001984126984126984,0.0010482180293501049,0.0017797552836484984,0.0014435966178593523,0.001611170784103115,0.0,0.0020143240823634737,0.0019298809906722419,0.0003532944709415298,0.0015310028068384791,0.0017759360663016132,0.0020572875454977053,0.003335804299481097,0.0008125677139761647,0.001277791975466394,0.0047027208599261005,0.005547584887613582,0.001939487975174554,0.0015372002459520394,0.003920737522517749,0.0034393809114359416,0.003488996242619431,0.0015362798392814937,0.002741319156005981,0.0028121979084278054,0.0029436183862933053,0.001487778958554729,0.001319067858713176,0.002880184331797235,0.001270863339828857,0.0023839796567069293,0.0,0.0024752475247524753,0.0029697624190064796,0.0009930486593843098,0.017643710870802503,0.009607686148919135,0.006013745704467354,0.00842911877394636,0.004681310767014764,0.00508819538670285,0.0029958058717795086,0.0032135553607946245,0.003595760787282362,0.00376984126984127,0.003168854685377999,0.002889477486154587,0.0025112107623318385,0.0004219409282700422,0.0009983361064891847,0.0022055580061755625,0.0008920606601248885,0.0,0.00596529284164859,0.002871500358937545,0.0004310344827586207,0.0031479538300104933,0.009541984732824428,0.011677934849416103,0.018224573780129337,0.021033379058070414,0.025040827436037017,0.017844224740776463,0.012770719504970048,0.006351222610352493,0.005229734777736272,0.0,0.0015723270440251573,0.004050632911392405,0.004530011325028313,0.009937888198757764,0.0012254901960784314,0.0007331378299120235,0.0017765933821896514,0.0018340210912425492,0.003427265803503427,0.002284843869002285,0.0023209549071618036,0.0016519823788546256,0.002027222704894295,0.002851033499643621,0.004270896888346553,0.0018373909049150207,0.00532319391634981,0.004740658114891244,0.002385685884691849,0.001530612244897959,0.007386888273314866,0.0018323408153916628,0.004672897196261682,0.0012033694344163659,0.0032310177705977385,0.0008869179600886918,0.0022497187851518562,0.003762541806020067,0.002589555459646094,0.002336448598130841,0.0022688598979013048,0.0013375173620042184,0.0,0.00034002040122407346,0.0022189349112426036,0.0020973154362416107,0.0005221932114882506,0.0010126582278481013,0.0026748184944593045,0.001979414093428345,0.0,0.0045871559633027525,0.002089427496865859,0.0,0.0005173305742369374,0.0013224597751818382,0.0018343014368694588,0.002497918401332223,0.0007682458386683739,0.0014800197335964479,0.0009537434430138292,0.000423908435777872,0.005706134094151213,0.0037593984962406013,0.004246284501061571,0.0018368846436443791,0.0007000350017500875,0.003414134516899966,0.0009759271307742355,0.0017059024223814397,0.0019162332329592116,0.0011163829193413341,0.0015936254980079682,0.0008505812305075135,0.0018893387314439945,0.0013842746400885937,0.002793296089385475,0.0022675736961451248,0.000719165767709457],\"yaxis\":\"y\",\"type\":\"scatter\"}],                        {\"template\":{\"data\":{\"histogram2dcontour\":[{\"type\":\"histogram2dcontour\",\"colorbar\":{\"outlinewidth\":0,\"ticks\":\"\"},\"colorscale\":[[0.0,\"#0d0887\"],[0.1111111111111111,\"#46039f\"],[0.2222222222222222,\"#7201a8\"],[0.3333333333333333,\"#9c179e\"],[0.4444444444444444,\"#bd3786\"],[0.5555555555555556,\"#d8576b\"],[0.6666666666666666,\"#ed7953\"],[0.7777777777777778,\"#fb9f3a\"],[0.8888888888888888,\"#fdca26\"],[1.0,\"#f0f921\"]]}],\"choropleth\":[{\"type\":\"choropleth\",\"colorbar\":{\"outlinewidth\":0,\"ticks\":\"\"}}],\"histogram2d\":[{\"type\":\"histogram2d\",\"colorbar\":{\"outlinewidth\":0,\"ticks\":\"\"},\"colorscale\":[[0.0,\"#0d0887\"],[0.1111111111111111,\"#46039f\"],[0.2222222222222222,\"#7201a8\"],[0.3333333333333333,\"#9c179e\"],[0.4444444444444444,\"#bd3786\"],[0.5555555555555556,\"#d8576b\"],[0.6666666666666666,\"#ed7953\"],[0.7777777777777778,\"#fb9f3a\"],[0.8888888888888888,\"#fdca26\"],[1.0,\"#f0f921\"]]}],\"heatmap\":[{\"type\":\"heatmap\",\"colorbar\":{\"outlinewidth\":0,\"ticks\":\"\"},\"colorscale\":[[0.0,\"#0d0887\"],[0.1111111111111111,\"#46039f\"],[0.2222222222222222,\"#7201a8\"],[0.3333333333333333,\"#9c179e\"],[0.4444444444444444,\"#bd3786\"],[0.5555555555555556,\"#d8576b\"],[0.6666666666666666,\"#ed7953\"],[0.7777777777777778,\"#fb9f3a\"],[0.8888888888888888,\"#fdca26\"],[1.0,\"#f0f921\"]]}],\"heatmapgl\":[{\"type\":\"heatmapgl\",\"colorbar\":{\"outlinewidth\":0,\"ticks\":\"\"},\"colorscale\":[[0.0,\"#0d0887\"],[0.1111111111111111,\"#46039f\"],[0.2222222222222222,\"#7201a8\"],[0.3333333333333333,\"#9c179e\"],[0.4444444444444444,\"#bd3786\"],[0.5555555555555556,\"#d8576b\"],[0.6666666666666666,\"#ed7953\"],[0.7777777777777778,\"#fb9f3a\"],[0.8888888888888888,\"#fdca26\"],[1.0,\"#f0f921\"]]}],\"contourcarpet\":[{\"type\":\"contourcarpet\",\"colorbar\":{\"outlinewidth\":0,\"ticks\":\"\"}}],\"contour\":[{\"type\":\"contour\",\"colorbar\":{\"outlinewidth\":0,\"ticks\":\"\"},\"colorscale\":[[0.0,\"#0d0887\"],[0.1111111111111111,\"#46039f\"],[0.2222222222222222,\"#7201a8\"],[0.3333333333333333,\"#9c179e\"],[0.4444444444444444,\"#bd3786\"],[0.5555555555555556,\"#d8576b\"],[0.6666666666666666,\"#ed7953\"],[0.7777777777777778,\"#fb9f3a\"],[0.8888888888888888,\"#fdca26\"],[1.0,\"#f0f921\"]]}],\"surface\":[{\"type\":\"surface\",\"colorbar\":{\"outlinewidth\":0,\"ticks\":\"\"},\"colorscale\":[[0.0,\"#0d0887\"],[0.1111111111111111,\"#46039f\"],[0.2222222222222222,\"#7201a8\"],[0.3333333333333333,\"#9c179e\"],[0.4444444444444444,\"#bd3786\"],[0.5555555555555556,\"#d8576b\"],[0.6666666666666666,\"#ed7953\"],[0.7777777777777778,\"#fb9f3a\"],[0.8888888888888888,\"#fdca26\"],[1.0,\"#f0f921\"]]}],\"mesh3d\":[{\"type\":\"mesh3d\",\"colorbar\":{\"outlinewidth\":0,\"ticks\":\"\"}}],\"scatter\":[{\"fillpattern\":{\"fillmode\":\"overlay\",\"size\":10,\"solidity\":0.2},\"type\":\"scatter\"}],\"parcoords\":[{\"type\":\"parcoords\",\"line\":{\"colorbar\":{\"outlinewidth\":0,\"ticks\":\"\"}}}],\"scatterpolargl\":[{\"type\":\"scatterpolargl\",\"marker\":{\"colorbar\":{\"outlinewidth\":0,\"ticks\":\"\"}}}],\"bar\":[{\"error_x\":{\"color\":\"#2a3f5f\"},\"error_y\":{\"color\":\"#2a3f5f\"},\"marker\":{\"line\":{\"color\":\"#E5ECF6\",\"width\":0.5},\"pattern\":{\"fillmode\":\"overlay\",\"size\":10,\"solidity\":0.2}},\"type\":\"bar\"}],\"scattergeo\":[{\"type\":\"scattergeo\",\"marker\":{\"colorbar\":{\"outlinewidth\":0,\"ticks\":\"\"}}}],\"scatterpolar\":[{\"type\":\"scatterpolar\",\"marker\":{\"colorbar\":{\"outlinewidth\":0,\"ticks\":\"\"}}}],\"histogram\":[{\"marker\":{\"pattern\":{\"fillmode\":\"overlay\",\"size\":10,\"solidity\":0.2}},\"type\":\"histogram\"}],\"scattergl\":[{\"type\":\"scattergl\",\"marker\":{\"colorbar\":{\"outlinewidth\":0,\"ticks\":\"\"}}}],\"scatter3d\":[{\"type\":\"scatter3d\",\"line\":{\"colorbar\":{\"outlinewidth\":0,\"ticks\":\"\"}},\"marker\":{\"colorbar\":{\"outlinewidth\":0,\"ticks\":\"\"}}}],\"scattermapbox\":[{\"type\":\"scattermapbox\",\"marker\":{\"colorbar\":{\"outlinewidth\":0,\"ticks\":\"\"}}}],\"scatterternary\":[{\"type\":\"scatterternary\",\"marker\":{\"colorbar\":{\"outlinewidth\":0,\"ticks\":\"\"}}}],\"scattercarpet\":[{\"type\":\"scattercarpet\",\"marker\":{\"colorbar\":{\"outlinewidth\":0,\"ticks\":\"\"}}}],\"carpet\":[{\"aaxis\":{\"endlinecolor\":\"#2a3f5f\",\"gridcolor\":\"white\",\"linecolor\":\"white\",\"minorgridcolor\":\"white\",\"startlinecolor\":\"#2a3f5f\"},\"baxis\":{\"endlinecolor\":\"#2a3f5f\",\"gridcolor\":\"white\",\"linecolor\":\"white\",\"minorgridcolor\":\"white\",\"startlinecolor\":\"#2a3f5f\"},\"type\":\"carpet\"}],\"table\":[{\"cells\":{\"fill\":{\"color\":\"#EBF0F8\"},\"line\":{\"color\":\"white\"}},\"header\":{\"fill\":{\"color\":\"#C8D4E3\"},\"line\":{\"color\":\"white\"}},\"type\":\"table\"}],\"barpolar\":[{\"marker\":{\"line\":{\"color\":\"#E5ECF6\",\"width\":0.5},\"pattern\":{\"fillmode\":\"overlay\",\"size\":10,\"solidity\":0.2}},\"type\":\"barpolar\"}],\"pie\":[{\"automargin\":true,\"type\":\"pie\"}]},\"layout\":{\"autotypenumbers\":\"strict\",\"colorway\":[\"#636efa\",\"#EF553B\",\"#00cc96\",\"#ab63fa\",\"#FFA15A\",\"#19d3f3\",\"#FF6692\",\"#B6E880\",\"#FF97FF\",\"#FECB52\"],\"font\":{\"color\":\"#2a3f5f\"},\"hovermode\":\"closest\",\"hoverlabel\":{\"align\":\"left\"},\"paper_bgcolor\":\"white\",\"plot_bgcolor\":\"#E5ECF6\",\"polar\":{\"bgcolor\":\"#E5ECF6\",\"angularaxis\":{\"gridcolor\":\"white\",\"linecolor\":\"white\",\"ticks\":\"\"},\"radialaxis\":{\"gridcolor\":\"white\",\"linecolor\":\"white\",\"ticks\":\"\"}},\"ternary\":{\"bgcolor\":\"#E5ECF6\",\"aaxis\":{\"gridcolor\":\"white\",\"linecolor\":\"white\",\"ticks\":\"\"},\"baxis\":{\"gridcolor\":\"white\",\"linecolor\":\"white\",\"ticks\":\"\"},\"caxis\":{\"gridcolor\":\"white\",\"linecolor\":\"white\",\"ticks\":\"\"}},\"coloraxis\":{\"colorbar\":{\"outlinewidth\":0,\"ticks\":\"\"}},\"colorscale\":{\"sequential\":[[0.0,\"#0d0887\"],[0.1111111111111111,\"#46039f\"],[0.2222222222222222,\"#7201a8\"],[0.3333333333333333,\"#9c179e\"],[0.4444444444444444,\"#bd3786\"],[0.5555555555555556,\"#d8576b\"],[0.6666666666666666,\"#ed7953\"],[0.7777777777777778,\"#fb9f3a\"],[0.8888888888888888,\"#fdca26\"],[1.0,\"#f0f921\"]],\"sequentialminus\":[[0.0,\"#0d0887\"],[0.1111111111111111,\"#46039f\"],[0.2222222222222222,\"#7201a8\"],[0.3333333333333333,\"#9c179e\"],[0.4444444444444444,\"#bd3786\"],[0.5555555555555556,\"#d8576b\"],[0.6666666666666666,\"#ed7953\"],[0.7777777777777778,\"#fb9f3a\"],[0.8888888888888888,\"#fdca26\"],[1.0,\"#f0f921\"]],\"diverging\":[[0,\"#8e0152\"],[0.1,\"#c51b7d\"],[0.2,\"#de77ae\"],[0.3,\"#f1b6da\"],[0.4,\"#fde0ef\"],[0.5,\"#f7f7f7\"],[0.6,\"#e6f5d0\"],[0.7,\"#b8e186\"],[0.8,\"#7fbc41\"],[0.9,\"#4d9221\"],[1,\"#276419\"]]},\"xaxis\":{\"gridcolor\":\"white\",\"linecolor\":\"white\",\"ticks\":\"\",\"title\":{\"standoff\":15},\"zerolinecolor\":\"white\",\"automargin\":true,\"zerolinewidth\":2},\"yaxis\":{\"gridcolor\":\"white\",\"linecolor\":\"white\",\"ticks\":\"\",\"title\":{\"standoff\":15},\"zerolinecolor\":\"white\",\"automargin\":true,\"zerolinewidth\":2},\"scene\":{\"xaxis\":{\"backgroundcolor\":\"#E5ECF6\",\"gridcolor\":\"white\",\"linecolor\":\"white\",\"showbackground\":true,\"ticks\":\"\",\"zerolinecolor\":\"white\",\"gridwidth\":2},\"yaxis\":{\"backgroundcolor\":\"#E5ECF6\",\"gridcolor\":\"white\",\"linecolor\":\"white\",\"showbackground\":true,\"ticks\":\"\",\"zerolinecolor\":\"white\",\"gridwidth\":2},\"zaxis\":{\"backgroundcolor\":\"#E5ECF6\",\"gridcolor\":\"white\",\"linecolor\":\"white\",\"showbackground\":true,\"ticks\":\"\",\"zerolinecolor\":\"white\",\"gridwidth\":2}},\"shapedefaults\":{\"line\":{\"color\":\"#2a3f5f\"}},\"annotationdefaults\":{\"arrowcolor\":\"#2a3f5f\",\"arrowhead\":0,\"arrowwidth\":1},\"geo\":{\"bgcolor\":\"white\",\"landcolor\":\"#E5ECF6\",\"subunitcolor\":\"white\",\"showland\":true,\"showlakes\":true,\"lakecolor\":\"white\"},\"title\":{\"x\":0.05},\"mapbox\":{\"style\":\"light\"}}},\"xaxis\":{\"anchor\":\"y\",\"domain\":[0.0,1.0],\"title\":{\"text\":\"Speech\"}},\"yaxis\":{\"anchor\":\"x\",\"domain\":[0.0,1.0],\"title\":{\"text\":\"Relative frequency of 'war'\"}},\"legend\":{\"tracegroupgap\":0},\"margin\":{\"t\":60}},                        {\"responsive\": true}                    ).then(function(){\n",
       "                            \n",
       "var gd = document.getElementById('55ce3862-2337-4ef3-befb-5f303f31b3cc');\n",
       "var x = new MutationObserver(function (mutations, observer) {{\n",
       "        var display = window.getComputedStyle(gd).display;\n",
       "        if (!display || display === 'none') {{\n",
       "            console.log([gd, 'removed!']);\n",
       "            Plotly.purge(gd);\n",
       "            observer.disconnect();\n",
       "        }}\n",
       "}});\n",
       "\n",
       "// Listen for the removal of the full notebook cells\n",
       "var notebookContainer = gd.closest('#notebook-container');\n",
       "if (notebookContainer) {{\n",
       "    x.observe(notebookContainer, {childList: true});\n",
       "}}\n",
       "\n",
       "// Listen for the clearing of the current output cell\n",
       "var outputEl = gd.closest('.output');\n",
       "if (outputEl) {{\n",
       "    x.observe(outputEl, {childList: true});\n",
       "}}\n",
       "\n",
       "                        })                };                });            </script>        </div>"
      ]
     },
     "metadata": {},
     "output_type": "display_data"
    }
   ],
   "source": [
    "fig = px.line(x=df.index, y=df['ratio'])\n",
    "fig.update_layout(xaxis_title=\"Speech\",\n",
    "    yaxis_title=\"Relative frequency of 'war'\")\n",
    "fig.show()"
   ]
  },
  {
   "cell_type": "code",
   "execution_count": 178,
   "metadata": {},
   "outputs": [
    {
     "name": "stdout",
     "output_type": "stream",
     "text": [
      "Roosevelt\n",
      "[('war', 46), ('nation', 43), ('right', 20), ('servic', 16), ('congress', 13), ('peopl', 12), ('american', 12), ('men', 12), ('make', 10), ('peac', 10), ('time', 10), ('live', 10), ('polit', 9), ('one', 9), ('secur', 9), ('govern', 9), ('us', 8), ('shall', 8), ('mean', 8), ('standard', 8), ('must', 8), ('group', 8), ('home', 8), ('year', 7), ('world', 7)]\n"
     ]
    }
   ],
   "source": [
    "print(df.loc['1944']['name'])\n",
    "print(df.loc['1944']['freq_dist'].most_common(25))\n"
   ]
  },
  {
   "cell_type": "markdown",
   "metadata": {},
   "source": [
    "Alternately we could look at the plain word counts of 'war' from each speech. While the results are similar, it removes some spikes from speeches in 1813 and 1917, which shows that 'war' was a frequent topic relative to the length of those speeches. "
   ]
  },
  {
   "cell_type": "code",
   "execution_count": 181,
   "metadata": {},
   "outputs": [
    {
     "data": {
      "application/vnd.plotly.v1+json": {
       "config": {
        "plotlyServerURL": "https://plot.ly"
       },
       "data": [
        {
         "hovertemplate": "x=%{x}<br>y=%{y}<extra></extra>",
         "legendgroup": "",
         "line": {
          "color": "#636efa",
          "dash": "solid"
         },
         "marker": {
          "symbol": "circle"
         },
         "mode": "lines",
         "name": "",
         "orientation": "v",
         "showlegend": false,
         "type": "scatter",
         "x": [
          "1791",
          "1792",
          "1793",
          "1794",
          "1795",
          "1796",
          "1797",
          "1798",
          "1799",
          "1800",
          "1801",
          "1802",
          "1803",
          "1804",
          "1805",
          "1806",
          "1807",
          "1808",
          "1809",
          "1810",
          "1811",
          "1812",
          "1813",
          "1814",
          "1815",
          "1816",
          "1817",
          "1818",
          "1819",
          "1820",
          "1821",
          "1822",
          "1823",
          "1824",
          "1825",
          "1826",
          "1827",
          "1828",
          "1829",
          "1830",
          "1831",
          "1832",
          "1833",
          "1834",
          "1835",
          "1836",
          "1837",
          "1838",
          "1839",
          "1840",
          "1841",
          "1842",
          "1843",
          "1844",
          "1845",
          "1846",
          "1847",
          "1848",
          "1849",
          "1850",
          "1851",
          "1852",
          "1853",
          "1854",
          "1855",
          "1856",
          "1857",
          "1858",
          "1859",
          "1860",
          "1861",
          "1862",
          "1863",
          "1864",
          "1865",
          "1866",
          "1867",
          "1868",
          "1869",
          "1870",
          "1871",
          "1872",
          "1873",
          "1874",
          "1875",
          "1876",
          "1877",
          "1878",
          "1879",
          "1880",
          "1881",
          "1882",
          "1883",
          "1884",
          "1885",
          "1886",
          "1887",
          "1888",
          "1889",
          "1890",
          "1891",
          "1892",
          "1893",
          "1894",
          "1895",
          "1896",
          "1897",
          "1898",
          "1899",
          "1900",
          "1901",
          "1902",
          "1903",
          "1904",
          "1905",
          "1906",
          "1907",
          "1908",
          "1909",
          "1910",
          "1911",
          "1912",
          "1913",
          "1914",
          "1915",
          "1916",
          "1917",
          "1918",
          "1919",
          "1920",
          "1921",
          "1922",
          "1923",
          "1924",
          "1925",
          "1926",
          "1927",
          "1928",
          "1929",
          "1930",
          "1931",
          "1932",
          "1934",
          "1935",
          "1936",
          "1937",
          "1938",
          "1939",
          "1940",
          "1941",
          "1942",
          "1943",
          "1944",
          "1945",
          "1946",
          "1947",
          "1948",
          "1949",
          "1950",
          "1951",
          "1952",
          "1953",
          "1954",
          "1955",
          "1956",
          "1957",
          "1958",
          "1959",
          "1960",
          "1961",
          "1962",
          "1963",
          "1964",
          "1965",
          "1966",
          "1967",
          "1968",
          "1969",
          "1970",
          "1971",
          "1972",
          "1973",
          "1974",
          "1975",
          "1976",
          "1977",
          "1978",
          "1979",
          "1980",
          "1981",
          "1982",
          "1983",
          "1984",
          "1985",
          "1986",
          "1987",
          "1988",
          "1989",
          "1990",
          "1991",
          "1992",
          "1993",
          "1994",
          "1995",
          "1996",
          "1997",
          "1998",
          "1999",
          "2000",
          "2001",
          "2002",
          "2003",
          "2004",
          "2005",
          "2006",
          "2007",
          "2008",
          "2009",
          "2010",
          "2011",
          "2012",
          "2013",
          "2014",
          "2015",
          "2016",
          "2017",
          "2018"
         ],
         "xaxis": "x",
         "y": [
          1,
          2,
          4,
          1,
          4,
          12,
          4,
          5,
          3,
          1,
          8,
          3,
          4,
          7,
          6,
          6,
          2,
          2,
          3,
          5,
          3,
          20,
          29,
          10,
          10,
          9,
          6,
          10,
          5,
          9,
          1,
          16,
          14,
          31,
          14,
          17,
          10,
          15,
          12,
          3,
          5,
          13,
          8,
          9,
          3,
          11,
          10,
          11,
          9,
          4,
          6,
          10,
          18,
          18,
          18,
          69,
          95,
          71,
          13,
          6,
          7,
          6,
          11,
          18,
          23,
          9,
          20,
          19,
          21,
          22,
          8,
          20,
          16,
          23,
          18,
          17,
          31,
          36,
          13,
          14,
          4,
          1,
          13,
          6,
          14,
          10,
          10,
          4,
          8,
          5,
          2,
          3,
          2,
          8,
          14,
          12,
          0,
          9,
          12,
          2,
          12,
          12,
          13,
          27,
          6,
          10,
          28,
          58,
          15,
          15,
          37,
          16,
          26,
          13,
          33,
          32,
          39,
          14,
          9,
          10,
          15,
          30,
          0,
          5,
          11,
          1,
          31,
          24,
          14,
          11,
          13,
          15,
          10,
          11,
          19,
          19,
          14,
          12,
          14,
          1,
          3,
          5,
          1,
          0,
          11,
          4,
          1,
          6,
          15,
          19,
          31,
          46,
          46,
          74,
          194,
          20,
          14,
          0,
          4,
          8,
          12,
          48,
          4,
          3,
          8,
          4,
          9,
          6,
          7,
          6,
          7,
          8,
          7,
          4,
          14,
          17,
          6,
          3,
          16,
          4,
          9,
          1,
          8,
          2,
          6,
          9,
          6,
          4,
          4,
          26,
          0,
          1,
          6,
          5,
          1,
          2,
          7,
          5,
          0,
          9,
          5,
          0,
          2,
          6,
          6,
          9,
          3,
          6,
          4,
          1,
          12,
          11,
          12,
          5,
          2,
          10,
          3,
          5,
          7,
          4,
          6,
          3,
          7,
          5,
          8,
          6,
          2
         ],
         "yaxis": "y"
        }
       ],
       "layout": {
        "autosize": true,
        "legend": {
         "tracegroupgap": 0
        },
        "margin": {
         "t": 60
        },
        "template": {
         "data": {
          "bar": [
           {
            "error_x": {
             "color": "#2a3f5f"
            },
            "error_y": {
             "color": "#2a3f5f"
            },
            "marker": {
             "line": {
              "color": "#E5ECF6",
              "width": 0.5
             },
             "pattern": {
              "fillmode": "overlay",
              "size": 10,
              "solidity": 0.2
             }
            },
            "type": "bar"
           }
          ],
          "barpolar": [
           {
            "marker": {
             "line": {
              "color": "#E5ECF6",
              "width": 0.5
             },
             "pattern": {
              "fillmode": "overlay",
              "size": 10,
              "solidity": 0.2
             }
            },
            "type": "barpolar"
           }
          ],
          "carpet": [
           {
            "aaxis": {
             "endlinecolor": "#2a3f5f",
             "gridcolor": "white",
             "linecolor": "white",
             "minorgridcolor": "white",
             "startlinecolor": "#2a3f5f"
            },
            "baxis": {
             "endlinecolor": "#2a3f5f",
             "gridcolor": "white",
             "linecolor": "white",
             "minorgridcolor": "white",
             "startlinecolor": "#2a3f5f"
            },
            "type": "carpet"
           }
          ],
          "choropleth": [
           {
            "colorbar": {
             "outlinewidth": 0,
             "ticks": ""
            },
            "type": "choropleth"
           }
          ],
          "contour": [
           {
            "colorbar": {
             "outlinewidth": 0,
             "ticks": ""
            },
            "colorscale": [
             [
              0,
              "#0d0887"
             ],
             [
              0.1111111111111111,
              "#46039f"
             ],
             [
              0.2222222222222222,
              "#7201a8"
             ],
             [
              0.3333333333333333,
              "#9c179e"
             ],
             [
              0.4444444444444444,
              "#bd3786"
             ],
             [
              0.5555555555555556,
              "#d8576b"
             ],
             [
              0.6666666666666666,
              "#ed7953"
             ],
             [
              0.7777777777777778,
              "#fb9f3a"
             ],
             [
              0.8888888888888888,
              "#fdca26"
             ],
             [
              1,
              "#f0f921"
             ]
            ],
            "type": "contour"
           }
          ],
          "contourcarpet": [
           {
            "colorbar": {
             "outlinewidth": 0,
             "ticks": ""
            },
            "type": "contourcarpet"
           }
          ],
          "heatmap": [
           {
            "colorbar": {
             "outlinewidth": 0,
             "ticks": ""
            },
            "colorscale": [
             [
              0,
              "#0d0887"
             ],
             [
              0.1111111111111111,
              "#46039f"
             ],
             [
              0.2222222222222222,
              "#7201a8"
             ],
             [
              0.3333333333333333,
              "#9c179e"
             ],
             [
              0.4444444444444444,
              "#bd3786"
             ],
             [
              0.5555555555555556,
              "#d8576b"
             ],
             [
              0.6666666666666666,
              "#ed7953"
             ],
             [
              0.7777777777777778,
              "#fb9f3a"
             ],
             [
              0.8888888888888888,
              "#fdca26"
             ],
             [
              1,
              "#f0f921"
             ]
            ],
            "type": "heatmap"
           }
          ],
          "heatmapgl": [
           {
            "colorbar": {
             "outlinewidth": 0,
             "ticks": ""
            },
            "colorscale": [
             [
              0,
              "#0d0887"
             ],
             [
              0.1111111111111111,
              "#46039f"
             ],
             [
              0.2222222222222222,
              "#7201a8"
             ],
             [
              0.3333333333333333,
              "#9c179e"
             ],
             [
              0.4444444444444444,
              "#bd3786"
             ],
             [
              0.5555555555555556,
              "#d8576b"
             ],
             [
              0.6666666666666666,
              "#ed7953"
             ],
             [
              0.7777777777777778,
              "#fb9f3a"
             ],
             [
              0.8888888888888888,
              "#fdca26"
             ],
             [
              1,
              "#f0f921"
             ]
            ],
            "type": "heatmapgl"
           }
          ],
          "histogram": [
           {
            "marker": {
             "pattern": {
              "fillmode": "overlay",
              "size": 10,
              "solidity": 0.2
             }
            },
            "type": "histogram"
           }
          ],
          "histogram2d": [
           {
            "colorbar": {
             "outlinewidth": 0,
             "ticks": ""
            },
            "colorscale": [
             [
              0,
              "#0d0887"
             ],
             [
              0.1111111111111111,
              "#46039f"
             ],
             [
              0.2222222222222222,
              "#7201a8"
             ],
             [
              0.3333333333333333,
              "#9c179e"
             ],
             [
              0.4444444444444444,
              "#bd3786"
             ],
             [
              0.5555555555555556,
              "#d8576b"
             ],
             [
              0.6666666666666666,
              "#ed7953"
             ],
             [
              0.7777777777777778,
              "#fb9f3a"
             ],
             [
              0.8888888888888888,
              "#fdca26"
             ],
             [
              1,
              "#f0f921"
             ]
            ],
            "type": "histogram2d"
           }
          ],
          "histogram2dcontour": [
           {
            "colorbar": {
             "outlinewidth": 0,
             "ticks": ""
            },
            "colorscale": [
             [
              0,
              "#0d0887"
             ],
             [
              0.1111111111111111,
              "#46039f"
             ],
             [
              0.2222222222222222,
              "#7201a8"
             ],
             [
              0.3333333333333333,
              "#9c179e"
             ],
             [
              0.4444444444444444,
              "#bd3786"
             ],
             [
              0.5555555555555556,
              "#d8576b"
             ],
             [
              0.6666666666666666,
              "#ed7953"
             ],
             [
              0.7777777777777778,
              "#fb9f3a"
             ],
             [
              0.8888888888888888,
              "#fdca26"
             ],
             [
              1,
              "#f0f921"
             ]
            ],
            "type": "histogram2dcontour"
           }
          ],
          "mesh3d": [
           {
            "colorbar": {
             "outlinewidth": 0,
             "ticks": ""
            },
            "type": "mesh3d"
           }
          ],
          "parcoords": [
           {
            "line": {
             "colorbar": {
              "outlinewidth": 0,
              "ticks": ""
             }
            },
            "type": "parcoords"
           }
          ],
          "pie": [
           {
            "automargin": true,
            "type": "pie"
           }
          ],
          "scatter": [
           {
            "fillpattern": {
             "fillmode": "overlay",
             "size": 10,
             "solidity": 0.2
            },
            "type": "scatter"
           }
          ],
          "scatter3d": [
           {
            "line": {
             "colorbar": {
              "outlinewidth": 0,
              "ticks": ""
             }
            },
            "marker": {
             "colorbar": {
              "outlinewidth": 0,
              "ticks": ""
             }
            },
            "type": "scatter3d"
           }
          ],
          "scattercarpet": [
           {
            "marker": {
             "colorbar": {
              "outlinewidth": 0,
              "ticks": ""
             }
            },
            "type": "scattercarpet"
           }
          ],
          "scattergeo": [
           {
            "marker": {
             "colorbar": {
              "outlinewidth": 0,
              "ticks": ""
             }
            },
            "type": "scattergeo"
           }
          ],
          "scattergl": [
           {
            "marker": {
             "colorbar": {
              "outlinewidth": 0,
              "ticks": ""
             }
            },
            "type": "scattergl"
           }
          ],
          "scattermapbox": [
           {
            "marker": {
             "colorbar": {
              "outlinewidth": 0,
              "ticks": ""
             }
            },
            "type": "scattermapbox"
           }
          ],
          "scatterpolar": [
           {
            "marker": {
             "colorbar": {
              "outlinewidth": 0,
              "ticks": ""
             }
            },
            "type": "scatterpolar"
           }
          ],
          "scatterpolargl": [
           {
            "marker": {
             "colorbar": {
              "outlinewidth": 0,
              "ticks": ""
             }
            },
            "type": "scatterpolargl"
           }
          ],
          "scatterternary": [
           {
            "marker": {
             "colorbar": {
              "outlinewidth": 0,
              "ticks": ""
             }
            },
            "type": "scatterternary"
           }
          ],
          "surface": [
           {
            "colorbar": {
             "outlinewidth": 0,
             "ticks": ""
            },
            "colorscale": [
             [
              0,
              "#0d0887"
             ],
             [
              0.1111111111111111,
              "#46039f"
             ],
             [
              0.2222222222222222,
              "#7201a8"
             ],
             [
              0.3333333333333333,
              "#9c179e"
             ],
             [
              0.4444444444444444,
              "#bd3786"
             ],
             [
              0.5555555555555556,
              "#d8576b"
             ],
             [
              0.6666666666666666,
              "#ed7953"
             ],
             [
              0.7777777777777778,
              "#fb9f3a"
             ],
             [
              0.8888888888888888,
              "#fdca26"
             ],
             [
              1,
              "#f0f921"
             ]
            ],
            "type": "surface"
           }
          ],
          "table": [
           {
            "cells": {
             "fill": {
              "color": "#EBF0F8"
             },
             "line": {
              "color": "white"
             }
            },
            "header": {
             "fill": {
              "color": "#C8D4E3"
             },
             "line": {
              "color": "white"
             }
            },
            "type": "table"
           }
          ]
         },
         "layout": {
          "annotationdefaults": {
           "arrowcolor": "#2a3f5f",
           "arrowhead": 0,
           "arrowwidth": 1
          },
          "autotypenumbers": "strict",
          "coloraxis": {
           "colorbar": {
            "outlinewidth": 0,
            "ticks": ""
           }
          },
          "colorscale": {
           "diverging": [
            [
             0,
             "#8e0152"
            ],
            [
             0.1,
             "#c51b7d"
            ],
            [
             0.2,
             "#de77ae"
            ],
            [
             0.3,
             "#f1b6da"
            ],
            [
             0.4,
             "#fde0ef"
            ],
            [
             0.5,
             "#f7f7f7"
            ],
            [
             0.6,
             "#e6f5d0"
            ],
            [
             0.7,
             "#b8e186"
            ],
            [
             0.8,
             "#7fbc41"
            ],
            [
             0.9,
             "#4d9221"
            ],
            [
             1,
             "#276419"
            ]
           ],
           "sequential": [
            [
             0,
             "#0d0887"
            ],
            [
             0.1111111111111111,
             "#46039f"
            ],
            [
             0.2222222222222222,
             "#7201a8"
            ],
            [
             0.3333333333333333,
             "#9c179e"
            ],
            [
             0.4444444444444444,
             "#bd3786"
            ],
            [
             0.5555555555555556,
             "#d8576b"
            ],
            [
             0.6666666666666666,
             "#ed7953"
            ],
            [
             0.7777777777777778,
             "#fb9f3a"
            ],
            [
             0.8888888888888888,
             "#fdca26"
            ],
            [
             1,
             "#f0f921"
            ]
           ],
           "sequentialminus": [
            [
             0,
             "#0d0887"
            ],
            [
             0.1111111111111111,
             "#46039f"
            ],
            [
             0.2222222222222222,
             "#7201a8"
            ],
            [
             0.3333333333333333,
             "#9c179e"
            ],
            [
             0.4444444444444444,
             "#bd3786"
            ],
            [
             0.5555555555555556,
             "#d8576b"
            ],
            [
             0.6666666666666666,
             "#ed7953"
            ],
            [
             0.7777777777777778,
             "#fb9f3a"
            ],
            [
             0.8888888888888888,
             "#fdca26"
            ],
            [
             1,
             "#f0f921"
            ]
           ]
          },
          "colorway": [
           "#636efa",
           "#EF553B",
           "#00cc96",
           "#ab63fa",
           "#FFA15A",
           "#19d3f3",
           "#FF6692",
           "#B6E880",
           "#FF97FF",
           "#FECB52"
          ],
          "font": {
           "color": "#2a3f5f"
          },
          "geo": {
           "bgcolor": "white",
           "lakecolor": "white",
           "landcolor": "#E5ECF6",
           "showlakes": true,
           "showland": true,
           "subunitcolor": "white"
          },
          "hoverlabel": {
           "align": "left"
          },
          "hovermode": "closest",
          "mapbox": {
           "style": "light"
          },
          "paper_bgcolor": "white",
          "plot_bgcolor": "#E5ECF6",
          "polar": {
           "angularaxis": {
            "gridcolor": "white",
            "linecolor": "white",
            "ticks": ""
           },
           "bgcolor": "#E5ECF6",
           "radialaxis": {
            "gridcolor": "white",
            "linecolor": "white",
            "ticks": ""
           }
          },
          "scene": {
           "xaxis": {
            "backgroundcolor": "#E5ECF6",
            "gridcolor": "white",
            "gridwidth": 2,
            "linecolor": "white",
            "showbackground": true,
            "ticks": "",
            "zerolinecolor": "white"
           },
           "yaxis": {
            "backgroundcolor": "#E5ECF6",
            "gridcolor": "white",
            "gridwidth": 2,
            "linecolor": "white",
            "showbackground": true,
            "ticks": "",
            "zerolinecolor": "white"
           },
           "zaxis": {
            "backgroundcolor": "#E5ECF6",
            "gridcolor": "white",
            "gridwidth": 2,
            "linecolor": "white",
            "showbackground": true,
            "ticks": "",
            "zerolinecolor": "white"
           }
          },
          "shapedefaults": {
           "line": {
            "color": "#2a3f5f"
           }
          },
          "ternary": {
           "aaxis": {
            "gridcolor": "white",
            "linecolor": "white",
            "ticks": ""
           },
           "baxis": {
            "gridcolor": "white",
            "linecolor": "white",
            "ticks": ""
           },
           "bgcolor": "#E5ECF6",
           "caxis": {
            "gridcolor": "white",
            "linecolor": "white",
            "ticks": ""
           }
          },
          "title": {
           "x": 0.05
          },
          "xaxis": {
           "automargin": true,
           "gridcolor": "white",
           "linecolor": "white",
           "ticks": "",
           "title": {
            "standoff": 15
           },
           "zerolinecolor": "white",
           "zerolinewidth": 2
          },
          "yaxis": {
           "automargin": true,
           "gridcolor": "white",
           "linecolor": "white",
           "ticks": "",
           "title": {
            "standoff": 15
           },
           "zerolinecolor": "white",
           "zerolinewidth": 2
          }
         }
        },
        "xaxis": {
         "anchor": "y",
         "autorange": true,
         "domain": [
          0,
          1
         ],
         "range": [
          0,
          226
         ],
         "title": {
          "text": "Speech"
         },
         "type": "category"
        },
        "yaxis": {
         "anchor": "x",
         "autorange": true,
         "domain": [
          0,
          1
         ],
         "range": [
          -10.777777777777777,
          204.77777777777777
         ],
         "title": {
          "text": "N of 'war'"
         },
         "type": "linear"
        }
       }
      },
      "image/png": "[encoded data removed]",
      "text/html": [
       "<div>                            <div id=\"6eb5e9c5-39a4-4133-a89c-1da9ea69044a\" class=\"plotly-graph-div\" style=\"height:525px; width:100%;\"></div>            <script type=\"text/javascript\">                require([\"plotly\"], function(Plotly) {                    window.PLOTLYENV=window.PLOTLYENV || {};                                    if (document.getElementById(\"6eb5e9c5-39a4-4133-a89c-1da9ea69044a\")) {                    Plotly.newPlot(                        \"6eb5e9c5-39a4-4133-a89c-1da9ea69044a\",                        [{\"hovertemplate\":\"x=%{x}\\u003cbr\\u003ey=%{y}\\u003cextra\\u003e\\u003c\\u002fextra\\u003e\",\"legendgroup\":\"\",\"line\":{\"color\":\"#636efa\",\"dash\":\"solid\"},\"marker\":{\"symbol\":\"circle\"},\"mode\":\"lines\",\"name\":\"\",\"orientation\":\"v\",\"showlegend\":false,\"x\":[\"1791\",\"1792\",\"1793\",\"1794\",\"1795\",\"1796\",\"1797\",\"1798\",\"1799\",\"1800\",\"1801\",\"1802\",\"1803\",\"1804\",\"1805\",\"1806\",\"1807\",\"1808\",\"1809\",\"1810\",\"1811\",\"1812\",\"1813\",\"1814\",\"1815\",\"1816\",\"1817\",\"1818\",\"1819\",\"1820\",\"1821\",\"1822\",\"1823\",\"1824\",\"1825\",\"1826\",\"1827\",\"1828\",\"1829\",\"1830\",\"1831\",\"1832\",\"1833\",\"1834\",\"1835\",\"1836\",\"1837\",\"1838\",\"1839\",\"1840\",\"1841\",\"1842\",\"1843\",\"1844\",\"1845\",\"1846\",\"1847\",\"1848\",\"1849\",\"1850\",\"1851\",\"1852\",\"1853\",\"1854\",\"1855\",\"1856\",\"1857\",\"1858\",\"1859\",\"1860\",\"1861\",\"1862\",\"1863\",\"1864\",\"1865\",\"1866\",\"1867\",\"1868\",\"1869\",\"1870\",\"1871\",\"1872\",\"1873\",\"1874\",\"1875\",\"1876\",\"1877\",\"1878\",\"1879\",\"1880\",\"1881\",\"1882\",\"1883\",\"1884\",\"1885\",\"1886\",\"1887\",\"1888\",\"1889\",\"1890\",\"1891\",\"1892\",\"1893\",\"1894\",\"1895\",\"1896\",\"1897\",\"1898\",\"1899\",\"1900\",\"1901\",\"1902\",\"1903\",\"1904\",\"1905\",\"1906\",\"1907\",\"1908\",\"1909\",\"1910\",\"1911\",\"1912\",\"1913\",\"1914\",\"1915\",\"1916\",\"1917\",\"1918\",\"1919\",\"1920\",\"1921\",\"1922\",\"1923\",\"1924\",\"1925\",\"1926\",\"1927\",\"1928\",\"1929\",\"1930\",\"1931\",\"1932\",\"1934\",\"1935\",\"1936\",\"1937\",\"1938\",\"1939\",\"1940\",\"1941\",\"1942\",\"1943\",\"1944\",\"1945\",\"1946\",\"1947\",\"1948\",\"1949\",\"1950\",\"1951\",\"1952\",\"1953\",\"1954\",\"1955\",\"1956\",\"1957\",\"1958\",\"1959\",\"1960\",\"1961\",\"1962\",\"1963\",\"1964\",\"1965\",\"1966\",\"1967\",\"1968\",\"1969\",\"1970\",\"1971\",\"1972\",\"1973\",\"1974\",\"1975\",\"1976\",\"1977\",\"1978\",\"1979\",\"1980\",\"1981\",\"1982\",\"1983\",\"1984\",\"1985\",\"1986\",\"1987\",\"1988\",\"1989\",\"1990\",\"1991\",\"1992\",\"1993\",\"1994\",\"1995\",\"1996\",\"1997\",\"1998\",\"1999\",\"2000\",\"2001\",\"2002\",\"2003\",\"2004\",\"2005\",\"2006\",\"2007\",\"2008\",\"2009\",\"2010\",\"2011\",\"2012\",\"2013\",\"2014\",\"2015\",\"2016\",\"2017\",\"2018\"],\"xaxis\":\"x\",\"y\":[1,2,4,1,4,12,4,5,3,1,8,3,4,7,6,6,2,2,3,5,3,20,29,10,10,9,6,10,5,9,1,16,14,31,14,17,10,15,12,3,5,13,8,9,3,11,10,11,9,4,6,10,18,18,18,69,95,71,13,6,7,6,11,18,23,9,20,19,21,22,8,20,16,23,18,17,31,36,13,14,4,1,13,6,14,10,10,4,8,5,2,3,2,8,14,12,0,9,12,2,12,12,13,27,6,10,28,58,15,15,37,16,26,13,33,32,39,14,9,10,15,30,0,5,11,1,31,24,14,11,13,15,10,11,19,19,14,12,14,1,3,5,1,0,11,4,1,6,15,19,31,46,46,74,194,20,14,0,4,8,12,48,4,3,8,4,9,6,7,6,7,8,7,4,14,17,6,3,16,4,9,1,8,2,6,9,6,4,4,26,0,1,6,5,1,2,7,5,0,9,5,0,2,6,6,9,3,6,4,1,12,11,12,5,2,10,3,5,7,4,6,3,7,5,8,6,2],\"yaxis\":\"y\",\"type\":\"scatter\"}],                        {\"template\":{\"data\":{\"histogram2dcontour\":[{\"type\":\"histogram2dcontour\",\"colorbar\":{\"outlinewidth\":0,\"ticks\":\"\"},\"colorscale\":[[0.0,\"#0d0887\"],[0.1111111111111111,\"#46039f\"],[0.2222222222222222,\"#7201a8\"],[0.3333333333333333,\"#9c179e\"],[0.4444444444444444,\"#bd3786\"],[0.5555555555555556,\"#d8576b\"],[0.6666666666666666,\"#ed7953\"],[0.7777777777777778,\"#fb9f3a\"],[0.8888888888888888,\"#fdca26\"],[1.0,\"#f0f921\"]]}],\"choropleth\":[{\"type\":\"choropleth\",\"colorbar\":{\"outlinewidth\":0,\"ticks\":\"\"}}],\"histogram2d\":[{\"type\":\"histogram2d\",\"colorbar\":{\"outlinewidth\":0,\"ticks\":\"\"},\"colorscale\":[[0.0,\"#0d0887\"],[0.1111111111111111,\"#46039f\"],[0.2222222222222222,\"#7201a8\"],[0.3333333333333333,\"#9c179e\"],[0.4444444444444444,\"#bd3786\"],[0.5555555555555556,\"#d8576b\"],[0.6666666666666666,\"#ed7953\"],[0.7777777777777778,\"#fb9f3a\"],[0.8888888888888888,\"#fdca26\"],[1.0,\"#f0f921\"]]}],\"heatmap\":[{\"type\":\"heatmap\",\"colorbar\":{\"outlinewidth\":0,\"ticks\":\"\"},\"colorscale\":[[0.0,\"#0d0887\"],[0.1111111111111111,\"#46039f\"],[0.2222222222222222,\"#7201a8\"],[0.3333333333333333,\"#9c179e\"],[0.4444444444444444,\"#bd3786\"],[0.5555555555555556,\"#d8576b\"],[0.6666666666666666,\"#ed7953\"],[0.7777777777777778,\"#fb9f3a\"],[0.8888888888888888,\"#fdca26\"],[1.0,\"#f0f921\"]]}],\"heatmapgl\":[{\"type\":\"heatmapgl\",\"colorbar\":{\"outlinewidth\":0,\"ticks\":\"\"},\"colorscale\":[[0.0,\"#0d0887\"],[0.1111111111111111,\"#46039f\"],[0.2222222222222222,\"#7201a8\"],[0.3333333333333333,\"#9c179e\"],[0.4444444444444444,\"#bd3786\"],[0.5555555555555556,\"#d8576b\"],[0.6666666666666666,\"#ed7953\"],[0.7777777777777778,\"#fb9f3a\"],[0.8888888888888888,\"#fdca26\"],[1.0,\"#f0f921\"]]}],\"contourcarpet\":[{\"type\":\"contourcarpet\",\"colorbar\":{\"outlinewidth\":0,\"ticks\":\"\"}}],\"contour\":[{\"type\":\"contour\",\"colorbar\":{\"outlinewidth\":0,\"ticks\":\"\"},\"colorscale\":[[0.0,\"#0d0887\"],[0.1111111111111111,\"#46039f\"],[0.2222222222222222,\"#7201a8\"],[0.3333333333333333,\"#9c179e\"],[0.4444444444444444,\"#bd3786\"],[0.5555555555555556,\"#d8576b\"],[0.6666666666666666,\"#ed7953\"],[0.7777777777777778,\"#fb9f3a\"],[0.8888888888888888,\"#fdca26\"],[1.0,\"#f0f921\"]]}],\"surface\":[{\"type\":\"surface\",\"colorbar\":{\"outlinewidth\":0,\"ticks\":\"\"},\"colorscale\":[[0.0,\"#0d0887\"],[0.1111111111111111,\"#46039f\"],[0.2222222222222222,\"#7201a8\"],[0.3333333333333333,\"#9c179e\"],[0.4444444444444444,\"#bd3786\"],[0.5555555555555556,\"#d8576b\"],[0.6666666666666666,\"#ed7953\"],[0.7777777777777778,\"#fb9f3a\"],[0.8888888888888888,\"#fdca26\"],[1.0,\"#f0f921\"]]}],\"mesh3d\":[{\"type\":\"mesh3d\",\"colorbar\":{\"outlinewidth\":0,\"ticks\":\"\"}}],\"scatter\":[{\"fillpattern\":{\"fillmode\":\"overlay\",\"size\":10,\"solidity\":0.2},\"type\":\"scatter\"}],\"parcoords\":[{\"type\":\"parcoords\",\"line\":{\"colorbar\":{\"outlinewidth\":0,\"ticks\":\"\"}}}],\"scatterpolargl\":[{\"type\":\"scatterpolargl\",\"marker\":{\"colorbar\":{\"outlinewidth\":0,\"ticks\":\"\"}}}],\"bar\":[{\"error_x\":{\"color\":\"#2a3f5f\"},\"error_y\":{\"color\":\"#2a3f5f\"},\"marker\":{\"line\":{\"color\":\"#E5ECF6\",\"width\":0.5},\"pattern\":{\"fillmode\":\"overlay\",\"size\":10,\"solidity\":0.2}},\"type\":\"bar\"}],\"scattergeo\":[{\"type\":\"scattergeo\",\"marker\":{\"colorbar\":{\"outlinewidth\":0,\"ticks\":\"\"}}}],\"scatterpolar\":[{\"type\":\"scatterpolar\",\"marker\":{\"colorbar\":{\"outlinewidth\":0,\"ticks\":\"\"}}}],\"histogram\":[{\"marker\":{\"pattern\":{\"fillmode\":\"overlay\",\"size\":10,\"solidity\":0.2}},\"type\":\"histogram\"}],\"scattergl\":[{\"type\":\"scattergl\",\"marker\":{\"colorbar\":{\"outlinewidth\":0,\"ticks\":\"\"}}}],\"scatter3d\":[{\"type\":\"scatter3d\",\"line\":{\"colorbar\":{\"outlinewidth\":0,\"ticks\":\"\"}},\"marker\":{\"colorbar\":{\"outlinewidth\":0,\"ticks\":\"\"}}}],\"scattermapbox\":[{\"type\":\"scattermapbox\",\"marker\":{\"colorbar\":{\"outlinewidth\":0,\"ticks\":\"\"}}}],\"scatterternary\":[{\"type\":\"scatterternary\",\"marker\":{\"colorbar\":{\"outlinewidth\":0,\"ticks\":\"\"}}}],\"scattercarpet\":[{\"type\":\"scattercarpet\",\"marker\":{\"colorbar\":{\"outlinewidth\":0,\"ticks\":\"\"}}}],\"carpet\":[{\"aaxis\":{\"endlinecolor\":\"#2a3f5f\",\"gridcolor\":\"white\",\"linecolor\":\"white\",\"minorgridcolor\":\"white\",\"startlinecolor\":\"#2a3f5f\"},\"baxis\":{\"endlinecolor\":\"#2a3f5f\",\"gridcolor\":\"white\",\"linecolor\":\"white\",\"minorgridcolor\":\"white\",\"startlinecolor\":\"#2a3f5f\"},\"type\":\"carpet\"}],\"table\":[{\"cells\":{\"fill\":{\"color\":\"#EBF0F8\"},\"line\":{\"color\":\"white\"}},\"header\":{\"fill\":{\"color\":\"#C8D4E3\"},\"line\":{\"color\":\"white\"}},\"type\":\"table\"}],\"barpolar\":[{\"marker\":{\"line\":{\"color\":\"#E5ECF6\",\"width\":0.5},\"pattern\":{\"fillmode\":\"overlay\",\"size\":10,\"solidity\":0.2}},\"type\":\"barpolar\"}],\"pie\":[{\"automargin\":true,\"type\":\"pie\"}]},\"layout\":{\"autotypenumbers\":\"strict\",\"colorway\":[\"#636efa\",\"#EF553B\",\"#00cc96\",\"#ab63fa\",\"#FFA15A\",\"#19d3f3\",\"#FF6692\",\"#B6E880\",\"#FF97FF\",\"#FECB52\"],\"font\":{\"color\":\"#2a3f5f\"},\"hovermode\":\"closest\",\"hoverlabel\":{\"align\":\"left\"},\"paper_bgcolor\":\"white\",\"plot_bgcolor\":\"#E5ECF6\",\"polar\":{\"bgcolor\":\"#E5ECF6\",\"angularaxis\":{\"gridcolor\":\"white\",\"linecolor\":\"white\",\"ticks\":\"\"},\"radialaxis\":{\"gridcolor\":\"white\",\"linecolor\":\"white\",\"ticks\":\"\"}},\"ternary\":{\"bgcolor\":\"#E5ECF6\",\"aaxis\":{\"gridcolor\":\"white\",\"linecolor\":\"white\",\"ticks\":\"\"},\"baxis\":{\"gridcolor\":\"white\",\"linecolor\":\"white\",\"ticks\":\"\"},\"caxis\":{\"gridcolor\":\"white\",\"linecolor\":\"white\",\"ticks\":\"\"}},\"coloraxis\":{\"colorbar\":{\"outlinewidth\":0,\"ticks\":\"\"}},\"colorscale\":{\"sequential\":[[0.0,\"#0d0887\"],[0.1111111111111111,\"#46039f\"],[0.2222222222222222,\"#7201a8\"],[0.3333333333333333,\"#9c179e\"],[0.4444444444444444,\"#bd3786\"],[0.5555555555555556,\"#d8576b\"],[0.6666666666666666,\"#ed7953\"],[0.7777777777777778,\"#fb9f3a\"],[0.8888888888888888,\"#fdca26\"],[1.0,\"#f0f921\"]],\"sequentialminus\":[[0.0,\"#0d0887\"],[0.1111111111111111,\"#46039f\"],[0.2222222222222222,\"#7201a8\"],[0.3333333333333333,\"#9c179e\"],[0.4444444444444444,\"#bd3786\"],[0.5555555555555556,\"#d8576b\"],[0.6666666666666666,\"#ed7953\"],[0.7777777777777778,\"#fb9f3a\"],[0.8888888888888888,\"#fdca26\"],[1.0,\"#f0f921\"]],\"diverging\":[[0,\"#8e0152\"],[0.1,\"#c51b7d\"],[0.2,\"#de77ae\"],[0.3,\"#f1b6da\"],[0.4,\"#fde0ef\"],[0.5,\"#f7f7f7\"],[0.6,\"#e6f5d0\"],[0.7,\"#b8e186\"],[0.8,\"#7fbc41\"],[0.9,\"#4d9221\"],[1,\"#276419\"]]},\"xaxis\":{\"gridcolor\":\"white\",\"linecolor\":\"white\",\"ticks\":\"\",\"title\":{\"standoff\":15},\"zerolinecolor\":\"white\",\"automargin\":true,\"zerolinewidth\":2},\"yaxis\":{\"gridcolor\":\"white\",\"linecolor\":\"white\",\"ticks\":\"\",\"title\":{\"standoff\":15},\"zerolinecolor\":\"white\",\"automargin\":true,\"zerolinewidth\":2},\"scene\":{\"xaxis\":{\"backgroundcolor\":\"#E5ECF6\",\"gridcolor\":\"white\",\"linecolor\":\"white\",\"showbackground\":true,\"ticks\":\"\",\"zerolinecolor\":\"white\",\"gridwidth\":2},\"yaxis\":{\"backgroundcolor\":\"#E5ECF6\",\"gridcolor\":\"white\",\"linecolor\":\"white\",\"showbackground\":true,\"ticks\":\"\",\"zerolinecolor\":\"white\",\"gridwidth\":2},\"zaxis\":{\"backgroundcolor\":\"#E5ECF6\",\"gridcolor\":\"white\",\"linecolor\":\"white\",\"showbackground\":true,\"ticks\":\"\",\"zerolinecolor\":\"white\",\"gridwidth\":2}},\"shapedefaults\":{\"line\":{\"color\":\"#2a3f5f\"}},\"annotationdefaults\":{\"arrowcolor\":\"#2a3f5f\",\"arrowhead\":0,\"arrowwidth\":1},\"geo\":{\"bgcolor\":\"white\",\"landcolor\":\"#E5ECF6\",\"subunitcolor\":\"white\",\"showland\":true,\"showlakes\":true,\"lakecolor\":\"white\"},\"title\":{\"x\":0.05},\"mapbox\":{\"style\":\"light\"}}},\"xaxis\":{\"anchor\":\"y\",\"domain\":[0.0,1.0],\"title\":{\"text\":\"Speech\"}},\"yaxis\":{\"anchor\":\"x\",\"domain\":[0.0,1.0],\"title\":{\"text\":\"N of 'war'\"}},\"legend\":{\"tracegroupgap\":0},\"margin\":{\"t\":60}},                        {\"responsive\": true}                    ).then(function(){\n",
       "                            \n",
       "var gd = document.getElementById('6eb5e9c5-39a4-4133-a89c-1da9ea69044a');\n",
       "var x = new MutationObserver(function (mutations, observer) {{\n",
       "        var display = window.getComputedStyle(gd).display;\n",
       "        if (!display || display === 'none') {{\n",
       "            console.log([gd, 'removed!']);\n",
       "            Plotly.purge(gd);\n",
       "            observer.disconnect();\n",
       "        }}\n",
       "}});\n",
       "\n",
       "// Listen for the removal of the full notebook cells\n",
       "var notebookContainer = gd.closest('#notebook-container');\n",
       "if (notebookContainer) {{\n",
       "    x.observe(notebookContainer, {childList: true});\n",
       "}}\n",
       "\n",
       "// Listen for the clearing of the current output cell\n",
       "var outputEl = gd.closest('.output');\n",
       "if (outputEl) {{\n",
       "    x.observe(outputEl, {childList: true});\n",
       "}}\n",
       "\n",
       "                        })                };                });            </script>        </div>"
      ]
     },
     "metadata": {},
     "output_type": "display_data"
    }
   ],
   "source": [
    "fig = px.line(x=df.index, y=df['word_count'])\n",
    "fig.update_layout(xaxis_title=\"Speech\",\n",
    "    yaxis_title=\"N of 'war'\")\n",
    "fig.show()"
   ]
  },
  {
   "cell_type": "code",
   "execution_count": 193,
   "metadata": {},
   "outputs": [
    {
     "name": "stdout",
     "output_type": "stream",
     "text": [
      "Madison\n",
      "[('war', 29), ('state', 20), ('british', 18), ('unit', 16), ('enemi', 16), ('nation', 13), ('power', 11), ('american', 11), ('command', 11), ('govern', 10)]\n",
      "Wilson\n",
      "[('war', 31), ('peopl', 31), ('must', 28), ('peac', 20), ('shall', 19), ('world', 19), ('nation', 18), ('purpos', 15), ('us', 13), ('wrong', 12)]\n"
     ]
    }
   ],
   "source": [
    "# james madison, 1813, war of 1812\n",
    "print(df.loc['1813']['name'])\n",
    "print(df.loc['1813']['freq_dist'].most_common(10))\n",
    "\n",
    "\n",
    "# woodrow wilson, 1917, wwi\n",
    "print(df.loc['1917']['name'])\n",
    "print(df.loc['1917']['freq_dist'].most_common(10))"
   ]
  },
  {
   "cell_type": "markdown",
   "metadata": {},
   "source": [
    "### Sentiment Analysis*\n",
    "\n",
    "Sentiment analysis is an exploratory data analysis technique that \"seeks to quantify the emotional intensity of words and phrases within a text.\" (quote from the [Programming Historian SA tutorial](https://programminghistorian.org/en/lessons/sentiment-analysis))\n",
    "\n",
    "We can use more NLTK tools to run a simple sentiment analysis on our SOTU corpus. We'll download the vader_lexicon for sentiment analysis and the Vader and Sentiment modules. Don't worry if you see a warning that we don't have the twython library. We won't be using that since we're not analyzing twitter text."
   ]
  },
  {
   "cell_type": "code",
   "execution_count": 183,
   "metadata": {},
   "outputs": [],
   "source": [
    "#nltk.download('vader_lexicon')\n",
    "from nltk.sentiment.vader import SentimentIntensityAnalyzer\n",
    "from nltk import sentiment"
   ]
  },
  {
   "cell_type": "markdown",
   "metadata": {},
   "source": [
    "Note that we could use a tokenizer that works best for sentiment analysis (see the commented out code below). Since we've already tokenized our text we'll stick with that corpus. "
   ]
  },
  {
   "cell_type": "code",
   "execution_count": 184,
   "metadata": {},
   "outputs": [],
   "source": [
    "#nltk.download('punkt')\n",
    "#tokenizer = nltk.data.load('tokenizers/punkt/english.pickle')"
   ]
  },
  {
   "cell_type": "markdown",
   "metadata": {},
   "source": [
    "Let's initialize the vader SentimentIntensityAnalyzer and save it to a variable called sid."
   ]
  },
  {
   "cell_type": "code",
   "execution_count": 186,
   "metadata": {},
   "outputs": [
    {
     "name": "stderr",
     "output_type": "stream",
     "text": [
      "[nltk_data] Downloading package vader_lexicon to\n",
      "[nltk_data]     /Users/chennesy/nltk_data...\n"
     ]
    }
   ],
   "source": [
    "nltk.download('vader_lexicon')\n",
    "sid = SentimentIntensityAnalyzer()"
   ]
  },
  {
   "cell_type": "markdown",
   "metadata": {},
   "source": [
    "Now we can use the features of the sentiment analysis tool. You can take a look at some of those features by typing sid. and then tabbing through the options."
   ]
  },
  {
   "cell_type": "code",
   "execution_count": 187,
   "metadata": {},
   "outputs": [],
   "source": [
    "#sid"
   ]
  },
  {
   "cell_type": "code",
   "execution_count": 196,
   "metadata": {},
   "outputs": [
    {
     "data": {
      "text/plain": [
       "dict"
      ]
     },
     "execution_count": 196,
     "metadata": {},
     "output_type": "execute_result"
    }
   ],
   "source": [
    "type(speeches)"
   ]
  },
  {
   "cell_type": "markdown",
   "metadata": {},
   "source": [
    "First let's look at the 'polarity_scores' for a specific speech. For Sentiment analysis we don't need the cleaned speech, so we'll go back to our original speeches list.\n",
    "\n",
    "polarity_scores will give us positive and negative scores. This feature is built into VADER and can be requested on demand."
   ]
  },
  {
   "cell_type": "code",
   "execution_count": 197,
   "metadata": {},
   "outputs": [
    {
     "data": {
      "text/plain": [
       "{'neg': 0.113, 'neu': 0.764, 'pos': 0.123, 'compound': 0.9945}"
      ]
     },
     "execution_count": 197,
     "metadata": {},
     "output_type": "execute_result"
    }
   ],
   "source": [
    "scores = sid.polarity_scores(speeches['Roosevelt_1938'])\n",
    "scores"
   ]
  },
  {
   "cell_type": "code",
   "execution_count": 71,
   "metadata": {},
   "outputs": [
    {
     "name": "stdout",
     "output_type": "stream",
     "text": [
      "compound: 1.0\n",
      "neg: 0.063\n",
      "neu: 0.783\n",
      "pos: 0.154\n"
     ]
    }
   ],
   "source": [
    "for key in sorted(scores):\n",
    "    print('{0}: {1}'.format(key, scores[key]), end='\\n')"
   ]
  },
  {
   "cell_type": "markdown",
   "metadata": {},
   "source": [
    "Now let's look at the scores for the entire speeches corpus.\n",
    "We'll create another dictionary, 'all_scores', that will use the speeches index as the key, and the scores as its value. Note that this means that the value for each item in 'all_scores' will contain *another* dictionary.\n",
    "\n",
    "This might take a few minutes to run because it has to analyze all 235 speeches."
   ]
  },
  {
   "cell_type": "code",
   "execution_count": 198,
   "metadata": {},
   "outputs": [],
   "source": [
    "all_scores = {}\n",
    "for k,v in speeches.items():\n",
    "    all_scores[k] = sid.polarity_scores(v)"
   ]
  },
  {
   "cell_type": "markdown",
   "metadata": {},
   "source": [
    "Now we can take a look at the scores for specific speeches by referencing the index/key of all_scores:"
   ]
  },
  {
   "cell_type": "code",
   "execution_count": 199,
   "metadata": {},
   "outputs": [
    {
     "data": {
      "text/plain": [
       "{'neg': 0.094, 'neu': 0.697, 'pos': 0.208, 'compound': 1.0}"
      ]
     },
     "execution_count": 199,
     "metadata": {},
     "output_type": "execute_result"
    }
   ],
   "source": [
    "all_scores['Trump_2017']"
   ]
  },
  {
   "cell_type": "markdown",
   "metadata": {},
   "source": [
    "We can look at a specific score by referencing the key within the scores dictionary. "
   ]
  },
  {
   "cell_type": "code",
   "execution_count": 200,
   "metadata": {},
   "outputs": [
    {
     "data": {
      "text/plain": [
       "0.094"
      ]
     },
     "execution_count": 200,
     "metadata": {},
     "output_type": "execute_result"
    }
   ],
   "source": [
    "all_scores['Trump_2017']['neg']"
   ]
  },
  {
   "cell_type": "markdown",
   "metadata": {},
   "source": [
    "From here, we can list all of the negative scores for the corpus. \n",
    "\n",
    "To keep it somewhat simple, let's just create a new dictionary that will only contain negative scores. We can create an empty dictionary called negative, then cycle through each key:value item in the all_scores dictionary from above. For each item, we'll assign the index number as its key and the negative score as its value."
   ]
  },
  {
   "cell_type": "code",
   "execution_count": 201,
   "metadata": {},
   "outputs": [],
   "source": [
    "negative = {}\n",
    "for score in all_scores.items():\n",
    "    negative[score[0]] =  score[1]['neg']"
   ]
  },
  {
   "cell_type": "code",
   "execution_count": null,
   "metadata": {},
   "outputs": [],
   "source": [
    "This is a weird plot"
   ]
  },
  {
   "cell_type": "code",
   "execution_count": 202,
   "metadata": {},
   "outputs": [
    {
     "data": {
      "application/vnd.plotly.v1+json": {
       "config": {
        "plotlyServerURL": "https://plot.ly"
       },
       "data": [
        {
         "hovertemplate": "x=%{x}<br>y=%{y}<extra></extra>",
         "legendgroup": "",
         "line": {
          "color": "#636efa",
          "dash": "solid"
         },
         "marker": {
          "symbol": "circle"
         },
         "mode": "lines",
         "name": "",
         "orientation": "v",
         "showlegend": false,
         "type": "scatter",
         "x": [
          "Adams_1797",
          "Adams_1798",
          "Adams_1799",
          "Adams_1800",
          "Adams_1825",
          "Adams_1826",
          "Adams_1827",
          "Adams_1828",
          "Arthur_1881",
          "Arthur_1882",
          "Arthur_1883",
          "Arthur_1884",
          "Buchanan_1857",
          "Buchanan_1858",
          "Buchanan_1859",
          "Buchanan_1860",
          "Buren_1837",
          "Buren_1838",
          "Buren_1839",
          "Buren_1840",
          "Bush_1989",
          "Bush_1990",
          "Bush_1991",
          "Bush_1992",
          "Bush_2001",
          "Bush_2002",
          "Bush_2003",
          "Bush_2004",
          "Bush_2005",
          "Bush_2006",
          "Bush_2007",
          "Bush_2008",
          "Carter_1978",
          "Carter_1979",
          "Carter_1980",
          "Carter_1981",
          "Cleveland_1885",
          "Cleveland_1886",
          "Cleveland_1887",
          "Cleveland_1888",
          "Cleveland_1893",
          "Cleveland_1894",
          "Cleveland_1895",
          "Cleveland_1896",
          "Clinton_1993",
          "Clinton_1994",
          "Clinton_1995",
          "Clinton_1996",
          "Clinton_1997",
          "Clinton_1998",
          "Clinton_1999",
          "Clinton_2000",
          "Coolidge_1923",
          "Coolidge_1924",
          "Coolidge_1925",
          "Coolidge_1926",
          "Coolidge_1927",
          "Coolidge_1928",
          "Eisenhower_1954",
          "Eisenhower_1955",
          "Eisenhower_1956",
          "Eisenhower_1957",
          "Eisenhower_1958",
          "Eisenhower_1959",
          "Eisenhower_1960",
          "Eisenhower_1961",
          "Fillmore_1850",
          "Fillmore_1851",
          "Fillmore_1852",
          "Ford_1975",
          "Ford_1976",
          "Ford_1977",
          "Grant_1869",
          "Grant_1870",
          "Grant_1871",
          "Grant_1872",
          "Grant_1873",
          "Grant_1874",
          "Grant_1875",
          "Grant_1876",
          "Harding_1921",
          "Harding_1922",
          "Harrison_1889",
          "Harrison_1890",
          "Harrison_1891",
          "Harrison_1892",
          "Hayes_1877",
          "Hayes_1878",
          "Hayes_1879",
          "Hayes_1880",
          "Hoover_1929",
          "Hoover_1930",
          "Hoover_1931",
          "Hoover_1932",
          "Jackson_1829",
          "Jackson_1830",
          "Jackson_1831",
          "Jackson_1832",
          "Jackson_1833",
          "Jackson_1834",
          "Jackson_1835",
          "Jackson_1836",
          "Jefferson_1801",
          "Jefferson_1802",
          "Jefferson_1803",
          "Jefferson_1804",
          "Jefferson_1805",
          "Jefferson_1806",
          "Jefferson_1807",
          "Jefferson_1808",
          "Johnson_1865",
          "Johnson_1866",
          "Johnson_1867",
          "Johnson_1868",
          "Johnson_1964",
          "Johnson_1965",
          "Johnson_1966",
          "Johnson_1967",
          "Johnson_1968",
          "Johnson_1969",
          "Kennedy_1962",
          "Kennedy_1963",
          "Lincoln_1861",
          "Lincoln_1862",
          "Lincoln_1863",
          "Lincoln_1864",
          "Madison_1809",
          "Madison_1810",
          "Madison_1811",
          "Madison_1812",
          "Madison_1813",
          "Madison_1814",
          "Madison_1815",
          "Madison_1816",
          "McKinley_1897",
          "McKinley_1898",
          "McKinley_1899",
          "McKinley_1900",
          "Monroe_1817",
          "Monroe_1818",
          "Monroe_1819",
          "Monroe_1820",
          "Monroe_1821",
          "Monroe_1822",
          "Monroe_1823",
          "Monroe_1824",
          "Nixon_1970",
          "Nixon_1971",
          "Nixon_1972",
          "Nixon_1973",
          "Nixon_1974",
          "Obama_2009",
          "Obama_2010",
          "Obama_2011",
          "Obama_2012",
          "Obama_2013",
          "Obama_2014",
          "Obama_2015",
          "Obama_2016",
          "Pierce_1853",
          "Pierce_1854",
          "Pierce_1855",
          "Pierce_1856",
          "Polk_1845",
          "Polk_1846",
          "Polk_1847",
          "Polk_1848",
          "Reagan_1982",
          "Reagan_1983",
          "Reagan_1984",
          "Reagan_1985",
          "Reagan_1986",
          "Reagan_1987",
          "Reagan_1988",
          "Roosevelt_1901",
          "Roosevelt_1902",
          "Roosevelt_1903",
          "Roosevelt_1904",
          "Roosevelt_1905",
          "Roosevelt_1906",
          "Roosevelt_1907",
          "Roosevelt_1908",
          "Roosevelt_1934",
          "Roosevelt_1935",
          "Roosevelt_1936",
          "Roosevelt_1937",
          "Roosevelt_1938",
          "Roosevelt_1939",
          "Roosevelt_1940",
          "Roosevelt_1941",
          "Roosevelt_1942",
          "Roosevelt_1943",
          "Roosevelt_1944",
          "Roosevelt_1945",
          "Taft_1909",
          "Taft_1910",
          "Taft_1911",
          "Taft_1912",
          "Taylor_1849",
          "Truman_1946",
          "Truman_1947",
          "Truman_1948",
          "Truman_1949",
          "Truman_1950",
          "Truman_1951",
          "Truman_1952",
          "Truman_1953",
          "Trump_2017",
          "Trump_2018",
          "Tyler_1841",
          "Tyler_1842",
          "Tyler_1843",
          "Tyler_1844",
          "Washington_1790",
          "Washington_1791",
          "Washington_1792",
          "Washington_1793",
          "Washington_1794",
          "Washington_1795",
          "Washington_1796",
          "Wilson_1913",
          "Wilson_1914",
          "Wilson_1915",
          "Wilson_1916",
          "Wilson_1917",
          "Wilson_1918",
          "Wilson_1919",
          "Wilson_1920"
         ],
         "xaxis": "x",
         "y": [
          0.079,
          0.073,
          0.056,
          0.021,
          0.039,
          0.048,
          0.048,
          0.047,
          0.051,
          0.053,
          0.053,
          0.05,
          0.08,
          0.078,
          0.08,
          0.08,
          0.057,
          0.064,
          0.077,
          0.069,
          0.078,
          0.044,
          0.093,
          0.078,
          0.07,
          0.147,
          0.16,
          0.111,
          0.096,
          0.13,
          0.128,
          0.099,
          0.094,
          0.09,
          0.088,
          0.059,
          0.064,
          0.061,
          0.065,
          0.074,
          0.063,
          0.064,
          0.075,
          0.072,
          0.082,
          0.099,
          0.079,
          0.097,
          0.071,
          0.068,
          0.069,
          0.076,
          0.072,
          0.06,
          0.062,
          0.066,
          0.065,
          0.049,
          0.053,
          0.056,
          0.063,
          0.07,
          0.087,
          0.069,
          0.085,
          0.05,
          0.058,
          0.059,
          0.063,
          0.076,
          0.098,
          0.081,
          0.058,
          0.051,
          0.053,
          0.065,
          0.055,
          0.063,
          0.059,
          0.056,
          0.095,
          0.111,
          0.063,
          0.061,
          0.066,
          0.05,
          0.066,
          0.05,
          0.047,
          0.047,
          0.059,
          0.07,
          0.081,
          0.094,
          0.065,
          0.059,
          0.055,
          0.065,
          0.055,
          0.07,
          0.061,
          0.071,
          0.058,
          0.053,
          0.071,
          0.052,
          0.064,
          0.05,
          0.082,
          0.069,
          0.067,
          0.063,
          0.091,
          0.067,
          0.092,
          0.084,
          0.112,
          0.093,
          0.079,
          0.07,
          0.08,
          0.112,
          0.057,
          0.077,
          0.071,
          0.063,
          0.064,
          0.045,
          0.061,
          0.109,
          0.127,
          0.125,
          0.047,
          0.062,
          0.078,
          0.068,
          0.048,
          0.046,
          0.043,
          0.077,
          0.051,
          0.053,
          0.048,
          0.054,
          0.053,
          0.048,
          0.09,
          0.052,
          0.082,
          0.054,
          0.065,
          0.1,
          0.109,
          0.063,
          0.086,
          0.081,
          0.077,
          0.086,
          0.102,
          0.059,
          0.082,
          0.075,
          0.075,
          0.063,
          0.086,
          0.096,
          0.065,
          0.082,
          0.081,
          0.065,
          0.067,
          0.098,
          0.081,
          0.073,
          0.085,
          0.072,
          0.065,
          0.078,
          0.085,
          0.116,
          0.09,
          0.1,
          0.079,
          0.068,
          0.091,
          0.073,
          0.113,
          0.092,
          0.106,
          0.103,
          0.152,
          0.143,
          0.135,
          0.121,
          0.044,
          0.036,
          0.057,
          0.057,
          0.049,
          0.078,
          0.085,
          0.072,
          0.061,
          0.046,
          0.087,
          0.088,
          0.102,
          0.094,
          0.113,
          0.067,
          0.071,
          0.071,
          0.072,
          0,
          0.04,
          0.06,
          0.084,
          0.099,
          0.083,
          0.066,
          0.046,
          0.056,
          0.061,
          0.068,
          0.13,
          0.084,
          0.102,
          0.066
         ],
         "yaxis": "y"
        }
       ],
       "layout": {
        "autosize": true,
        "legend": {
         "tracegroupgap": 0
        },
        "margin": {
         "t": 60
        },
        "template": {
         "data": {
          "bar": [
           {
            "error_x": {
             "color": "#2a3f5f"
            },
            "error_y": {
             "color": "#2a3f5f"
            },
            "marker": {
             "line": {
              "color": "#E5ECF6",
              "width": 0.5
             },
             "pattern": {
              "fillmode": "overlay",
              "size": 10,
              "solidity": 0.2
             }
            },
            "type": "bar"
           }
          ],
          "barpolar": [
           {
            "marker": {
             "line": {
              "color": "#E5ECF6",
              "width": 0.5
             },
             "pattern": {
              "fillmode": "overlay",
              "size": 10,
              "solidity": 0.2
             }
            },
            "type": "barpolar"
           }
          ],
          "carpet": [
           {
            "aaxis": {
             "endlinecolor": "#2a3f5f",
             "gridcolor": "white",
             "linecolor": "white",
             "minorgridcolor": "white",
             "startlinecolor": "#2a3f5f"
            },
            "baxis": {
             "endlinecolor": "#2a3f5f",
             "gridcolor": "white",
             "linecolor": "white",
             "minorgridcolor": "white",
             "startlinecolor": "#2a3f5f"
            },
            "type": "carpet"
           }
          ],
          "choropleth": [
           {
            "colorbar": {
             "outlinewidth": 0,
             "ticks": ""
            },
            "type": "choropleth"
           }
          ],
          "contour": [
           {
            "colorbar": {
             "outlinewidth": 0,
             "ticks": ""
            },
            "colorscale": [
             [
              0,
              "#0d0887"
             ],
             [
              0.1111111111111111,
              "#46039f"
             ],
             [
              0.2222222222222222,
              "#7201a8"
             ],
             [
              0.3333333333333333,
              "#9c179e"
             ],
             [
              0.4444444444444444,
              "#bd3786"
             ],
             [
              0.5555555555555556,
              "#d8576b"
             ],
             [
              0.6666666666666666,
              "#ed7953"
             ],
             [
              0.7777777777777778,
              "#fb9f3a"
             ],
             [
              0.8888888888888888,
              "#fdca26"
             ],
             [
              1,
              "#f0f921"
             ]
            ],
            "type": "contour"
           }
          ],
          "contourcarpet": [
           {
            "colorbar": {
             "outlinewidth": 0,
             "ticks": ""
            },
            "type": "contourcarpet"
           }
          ],
          "heatmap": [
           {
            "colorbar": {
             "outlinewidth": 0,
             "ticks": ""
            },
            "colorscale": [
             [
              0,
              "#0d0887"
             ],
             [
              0.1111111111111111,
              "#46039f"
             ],
             [
              0.2222222222222222,
              "#7201a8"
             ],
             [
              0.3333333333333333,
              "#9c179e"
             ],
             [
              0.4444444444444444,
              "#bd3786"
             ],
             [
              0.5555555555555556,
              "#d8576b"
             ],
             [
              0.6666666666666666,
              "#ed7953"
             ],
             [
              0.7777777777777778,
              "#fb9f3a"
             ],
             [
              0.8888888888888888,
              "#fdca26"
             ],
             [
              1,
              "#f0f921"
             ]
            ],
            "type": "heatmap"
           }
          ],
          "heatmapgl": [
           {
            "colorbar": {
             "outlinewidth": 0,
             "ticks": ""
            },
            "colorscale": [
             [
              0,
              "#0d0887"
             ],
             [
              0.1111111111111111,
              "#46039f"
             ],
             [
              0.2222222222222222,
              "#7201a8"
             ],
             [
              0.3333333333333333,
              "#9c179e"
             ],
             [
              0.4444444444444444,
              "#bd3786"
             ],
             [
              0.5555555555555556,
              "#d8576b"
             ],
             [
              0.6666666666666666,
              "#ed7953"
             ],
             [
              0.7777777777777778,
              "#fb9f3a"
             ],
             [
              0.8888888888888888,
              "#fdca26"
             ],
             [
              1,
              "#f0f921"
             ]
            ],
            "type": "heatmapgl"
           }
          ],
          "histogram": [
           {
            "marker": {
             "pattern": {
              "fillmode": "overlay",
              "size": 10,
              "solidity": 0.2
             }
            },
            "type": "histogram"
           }
          ],
          "histogram2d": [
           {
            "colorbar": {
             "outlinewidth": 0,
             "ticks": ""
            },
            "colorscale": [
             [
              0,
              "#0d0887"
             ],
             [
              0.1111111111111111,
              "#46039f"
             ],
             [
              0.2222222222222222,
              "#7201a8"
             ],
             [
              0.3333333333333333,
              "#9c179e"
             ],
             [
              0.4444444444444444,
              "#bd3786"
             ],
             [
              0.5555555555555556,
              "#d8576b"
             ],
             [
              0.6666666666666666,
              "#ed7953"
             ],
             [
              0.7777777777777778,
              "#fb9f3a"
             ],
             [
              0.8888888888888888,
              "#fdca26"
             ],
             [
              1,
              "#f0f921"
             ]
            ],
            "type": "histogram2d"
           }
          ],
          "histogram2dcontour": [
           {
            "colorbar": {
             "outlinewidth": 0,
             "ticks": ""
            },
            "colorscale": [
             [
              0,
              "#0d0887"
             ],
             [
              0.1111111111111111,
              "#46039f"
             ],
             [
              0.2222222222222222,
              "#7201a8"
             ],
             [
              0.3333333333333333,
              "#9c179e"
             ],
             [
              0.4444444444444444,
              "#bd3786"
             ],
             [
              0.5555555555555556,
              "#d8576b"
             ],
             [
              0.6666666666666666,
              "#ed7953"
             ],
             [
              0.7777777777777778,
              "#fb9f3a"
             ],
             [
              0.8888888888888888,
              "#fdca26"
             ],
             [
              1,
              "#f0f921"
             ]
            ],
            "type": "histogram2dcontour"
           }
          ],
          "mesh3d": [
           {
            "colorbar": {
             "outlinewidth": 0,
             "ticks": ""
            },
            "type": "mesh3d"
           }
          ],
          "parcoords": [
           {
            "line": {
             "colorbar": {
              "outlinewidth": 0,
              "ticks": ""
             }
            },
            "type": "parcoords"
           }
          ],
          "pie": [
           {
            "automargin": true,
            "type": "pie"
           }
          ],
          "scatter": [
           {
            "fillpattern": {
             "fillmode": "overlay",
             "size": 10,
             "solidity": 0.2
            },
            "type": "scatter"
           }
          ],
          "scatter3d": [
           {
            "line": {
             "colorbar": {
              "outlinewidth": 0,
              "ticks": ""
             }
            },
            "marker": {
             "colorbar": {
              "outlinewidth": 0,
              "ticks": ""
             }
            },
            "type": "scatter3d"
           }
          ],
          "scattercarpet": [
           {
            "marker": {
             "colorbar": {
              "outlinewidth": 0,
              "ticks": ""
             }
            },
            "type": "scattercarpet"
           }
          ],
          "scattergeo": [
           {
            "marker": {
             "colorbar": {
              "outlinewidth": 0,
              "ticks": ""
             }
            },
            "type": "scattergeo"
           }
          ],
          "scattergl": [
           {
            "marker": {
             "colorbar": {
              "outlinewidth": 0,
              "ticks": ""
             }
            },
            "type": "scattergl"
           }
          ],
          "scattermapbox": [
           {
            "marker": {
             "colorbar": {
              "outlinewidth": 0,
              "ticks": ""
             }
            },
            "type": "scattermapbox"
           }
          ],
          "scatterpolar": [
           {
            "marker": {
             "colorbar": {
              "outlinewidth": 0,
              "ticks": ""
             }
            },
            "type": "scatterpolar"
           }
          ],
          "scatterpolargl": [
           {
            "marker": {
             "colorbar": {
              "outlinewidth": 0,
              "ticks": ""
             }
            },
            "type": "scatterpolargl"
           }
          ],
          "scatterternary": [
           {
            "marker": {
             "colorbar": {
              "outlinewidth": 0,
              "ticks": ""
             }
            },
            "type": "scatterternary"
           }
          ],
          "surface": [
           {
            "colorbar": {
             "outlinewidth": 0,
             "ticks": ""
            },
            "colorscale": [
             [
              0,
              "#0d0887"
             ],
             [
              0.1111111111111111,
              "#46039f"
             ],
             [
              0.2222222222222222,
              "#7201a8"
             ],
             [
              0.3333333333333333,
              "#9c179e"
             ],
             [
              0.4444444444444444,
              "#bd3786"
             ],
             [
              0.5555555555555556,
              "#d8576b"
             ],
             [
              0.6666666666666666,
              "#ed7953"
             ],
             [
              0.7777777777777778,
              "#fb9f3a"
             ],
             [
              0.8888888888888888,
              "#fdca26"
             ],
             [
              1,
              "#f0f921"
             ]
            ],
            "type": "surface"
           }
          ],
          "table": [
           {
            "cells": {
             "fill": {
              "color": "#EBF0F8"
             },
             "line": {
              "color": "white"
             }
            },
            "header": {
             "fill": {
              "color": "#C8D4E3"
             },
             "line": {
              "color": "white"
             }
            },
            "type": "table"
           }
          ]
         },
         "layout": {
          "annotationdefaults": {
           "arrowcolor": "#2a3f5f",
           "arrowhead": 0,
           "arrowwidth": 1
          },
          "autotypenumbers": "strict",
          "coloraxis": {
           "colorbar": {
            "outlinewidth": 0,
            "ticks": ""
           }
          },
          "colorscale": {
           "diverging": [
            [
             0,
             "#8e0152"
            ],
            [
             0.1,
             "#c51b7d"
            ],
            [
             0.2,
             "#de77ae"
            ],
            [
             0.3,
             "#f1b6da"
            ],
            [
             0.4,
             "#fde0ef"
            ],
            [
             0.5,
             "#f7f7f7"
            ],
            [
             0.6,
             "#e6f5d0"
            ],
            [
             0.7,
             "#b8e186"
            ],
            [
             0.8,
             "#7fbc41"
            ],
            [
             0.9,
             "#4d9221"
            ],
            [
             1,
             "#276419"
            ]
           ],
           "sequential": [
            [
             0,
             "#0d0887"
            ],
            [
             0.1111111111111111,
             "#46039f"
            ],
            [
             0.2222222222222222,
             "#7201a8"
            ],
            [
             0.3333333333333333,
             "#9c179e"
            ],
            [
             0.4444444444444444,
             "#bd3786"
            ],
            [
             0.5555555555555556,
             "#d8576b"
            ],
            [
             0.6666666666666666,
             "#ed7953"
            ],
            [
             0.7777777777777778,
             "#fb9f3a"
            ],
            [
             0.8888888888888888,
             "#fdca26"
            ],
            [
             1,
             "#f0f921"
            ]
           ],
           "sequentialminus": [
            [
             0,
             "#0d0887"
            ],
            [
             0.1111111111111111,
             "#46039f"
            ],
            [
             0.2222222222222222,
             "#7201a8"
            ],
            [
             0.3333333333333333,
             "#9c179e"
            ],
            [
             0.4444444444444444,
             "#bd3786"
            ],
            [
             0.5555555555555556,
             "#d8576b"
            ],
            [
             0.6666666666666666,
             "#ed7953"
            ],
            [
             0.7777777777777778,
             "#fb9f3a"
            ],
            [
             0.8888888888888888,
             "#fdca26"
            ],
            [
             1,
             "#f0f921"
            ]
           ]
          },
          "colorway": [
           "#636efa",
           "#EF553B",
           "#00cc96",
           "#ab63fa",
           "#FFA15A",
           "#19d3f3",
           "#FF6692",
           "#B6E880",
           "#FF97FF",
           "#FECB52"
          ],
          "font": {
           "color": "#2a3f5f"
          },
          "geo": {
           "bgcolor": "white",
           "lakecolor": "white",
           "landcolor": "#E5ECF6",
           "showlakes": true,
           "showland": true,
           "subunitcolor": "white"
          },
          "hoverlabel": {
           "align": "left"
          },
          "hovermode": "closest",
          "mapbox": {
           "style": "light"
          },
          "paper_bgcolor": "white",
          "plot_bgcolor": "#E5ECF6",
          "polar": {
           "angularaxis": {
            "gridcolor": "white",
            "linecolor": "white",
            "ticks": ""
           },
           "bgcolor": "#E5ECF6",
           "radialaxis": {
            "gridcolor": "white",
            "linecolor": "white",
            "ticks": ""
           }
          },
          "scene": {
           "xaxis": {
            "backgroundcolor": "#E5ECF6",
            "gridcolor": "white",
            "gridwidth": 2,
            "linecolor": "white",
            "showbackground": true,
            "ticks": "",
            "zerolinecolor": "white"
           },
           "yaxis": {
            "backgroundcolor": "#E5ECF6",
            "gridcolor": "white",
            "gridwidth": 2,
            "linecolor": "white",
            "showbackground": true,
            "ticks": "",
            "zerolinecolor": "white"
           },
           "zaxis": {
            "backgroundcolor": "#E5ECF6",
            "gridcolor": "white",
            "gridwidth": 2,
            "linecolor": "white",
            "showbackground": true,
            "ticks": "",
            "zerolinecolor": "white"
           }
          },
          "shapedefaults": {
           "line": {
            "color": "#2a3f5f"
           }
          },
          "ternary": {
           "aaxis": {
            "gridcolor": "white",
            "linecolor": "white",
            "ticks": ""
           },
           "baxis": {
            "gridcolor": "white",
            "linecolor": "white",
            "ticks": ""
           },
           "bgcolor": "#E5ECF6",
           "caxis": {
            "gridcolor": "white",
            "linecolor": "white",
            "ticks": ""
           }
          },
          "title": {
           "x": 0.05
          },
          "xaxis": {
           "automargin": true,
           "gridcolor": "white",
           "linecolor": "white",
           "ticks": "",
           "title": {
            "standoff": 15
           },
           "zerolinecolor": "white",
           "zerolinewidth": 2
          },
          "yaxis": {
           "automargin": true,
           "gridcolor": "white",
           "linecolor": "white",
           "ticks": "",
           "title": {
            "standoff": 15
           },
           "zerolinecolor": "white",
           "zerolinewidth": 2
          }
         }
        },
        "xaxis": {
         "anchor": "y",
         "autorange": true,
         "domain": [
          0,
          1
         ],
         "range": [
          0,
          227
         ],
         "title": {
          "text": "Speech"
         },
         "type": "category"
        },
        "yaxis": {
         "anchor": "x",
         "autorange": true,
         "domain": [
          0,
          1
         ],
         "range": [
          -0.00888888888888889,
          0.1688888888888889
         ],
         "title": {
          "text": "Negative value"
         },
         "type": "linear"
        }
       }
      },
      "image/png": "[encoded data removed]",
      "text/html": [
       "<div>                            <div id=\"a96ae381-dff4-4af9-9c59-e7c520cab8f0\" class=\"plotly-graph-div\" style=\"height:525px; width:100%;\"></div>            <script type=\"text/javascript\">                require([\"plotly\"], function(Plotly) {                    window.PLOTLYENV=window.PLOTLYENV || {};                                    if (document.getElementById(\"a96ae381-dff4-4af9-9c59-e7c520cab8f0\")) {                    Plotly.newPlot(                        \"a96ae381-dff4-4af9-9c59-e7c520cab8f0\",                        [{\"hovertemplate\":\"x=%{x}\\u003cbr\\u003ey=%{y}\\u003cextra\\u003e\\u003c\\u002fextra\\u003e\",\"legendgroup\":\"\",\"line\":{\"color\":\"#636efa\",\"dash\":\"solid\"},\"marker\":{\"symbol\":\"circle\"},\"mode\":\"lines\",\"name\":\"\",\"orientation\":\"v\",\"showlegend\":false,\"x\":[\"Adams_1797\",\"Adams_1798\",\"Adams_1799\",\"Adams_1800\",\"Adams_1825\",\"Adams_1826\",\"Adams_1827\",\"Adams_1828\",\"Arthur_1881\",\"Arthur_1882\",\"Arthur_1883\",\"Arthur_1884\",\"Buchanan_1857\",\"Buchanan_1858\",\"Buchanan_1859\",\"Buchanan_1860\",\"Buren_1837\",\"Buren_1838\",\"Buren_1839\",\"Buren_1840\",\"Bush_1989\",\"Bush_1990\",\"Bush_1991\",\"Bush_1992\",\"Bush_2001\",\"Bush_2002\",\"Bush_2003\",\"Bush_2004\",\"Bush_2005\",\"Bush_2006\",\"Bush_2007\",\"Bush_2008\",\"Carter_1978\",\"Carter_1979\",\"Carter_1980\",\"Carter_1981\",\"Cleveland_1885\",\"Cleveland_1886\",\"Cleveland_1887\",\"Cleveland_1888\",\"Cleveland_1893\",\"Cleveland_1894\",\"Cleveland_1895\",\"Cleveland_1896\",\"Clinton_1993\",\"Clinton_1994\",\"Clinton_1995\",\"Clinton_1996\",\"Clinton_1997\",\"Clinton_1998\",\"Clinton_1999\",\"Clinton_2000\",\"Coolidge_1923\",\"Coolidge_1924\",\"Coolidge_1925\",\"Coolidge_1926\",\"Coolidge_1927\",\"Coolidge_1928\",\"Eisenhower_1954\",\"Eisenhower_1955\",\"Eisenhower_1956\",\"Eisenhower_1957\",\"Eisenhower_1958\",\"Eisenhower_1959\",\"Eisenhower_1960\",\"Eisenhower_1961\",\"Fillmore_1850\",\"Fillmore_1851\",\"Fillmore_1852\",\"Ford_1975\",\"Ford_1976\",\"Ford_1977\",\"Grant_1869\",\"Grant_1870\",\"Grant_1871\",\"Grant_1872\",\"Grant_1873\",\"Grant_1874\",\"Grant_1875\",\"Grant_1876\",\"Harding_1921\",\"Harding_1922\",\"Harrison_1889\",\"Harrison_1890\",\"Harrison_1891\",\"Harrison_1892\",\"Hayes_1877\",\"Hayes_1878\",\"Hayes_1879\",\"Hayes_1880\",\"Hoover_1929\",\"Hoover_1930\",\"Hoover_1931\",\"Hoover_1932\",\"Jackson_1829\",\"Jackson_1830\",\"Jackson_1831\",\"Jackson_1832\",\"Jackson_1833\",\"Jackson_1834\",\"Jackson_1835\",\"Jackson_1836\",\"Jefferson_1801\",\"Jefferson_1802\",\"Jefferson_1803\",\"Jefferson_1804\",\"Jefferson_1805\",\"Jefferson_1806\",\"Jefferson_1807\",\"Jefferson_1808\",\"Johnson_1865\",\"Johnson_1866\",\"Johnson_1867\",\"Johnson_1868\",\"Johnson_1964\",\"Johnson_1965\",\"Johnson_1966\",\"Johnson_1967\",\"Johnson_1968\",\"Johnson_1969\",\"Kennedy_1962\",\"Kennedy_1963\",\"Lincoln_1861\",\"Lincoln_1862\",\"Lincoln_1863\",\"Lincoln_1864\",\"Madison_1809\",\"Madison_1810\",\"Madison_1811\",\"Madison_1812\",\"Madison_1813\",\"Madison_1814\",\"Madison_1815\",\"Madison_1816\",\"McKinley_1897\",\"McKinley_1898\",\"McKinley_1899\",\"McKinley_1900\",\"Monroe_1817\",\"Monroe_1818\",\"Monroe_1819\",\"Monroe_1820\",\"Monroe_1821\",\"Monroe_1822\",\"Monroe_1823\",\"Monroe_1824\",\"Nixon_1970\",\"Nixon_1971\",\"Nixon_1972\",\"Nixon_1973\",\"Nixon_1974\",\"Obama_2009\",\"Obama_2010\",\"Obama_2011\",\"Obama_2012\",\"Obama_2013\",\"Obama_2014\",\"Obama_2015\",\"Obama_2016\",\"Pierce_1853\",\"Pierce_1854\",\"Pierce_1855\",\"Pierce_1856\",\"Polk_1845\",\"Polk_1846\",\"Polk_1847\",\"Polk_1848\",\"Reagan_1982\",\"Reagan_1983\",\"Reagan_1984\",\"Reagan_1985\",\"Reagan_1986\",\"Reagan_1987\",\"Reagan_1988\",\"Roosevelt_1901\",\"Roosevelt_1902\",\"Roosevelt_1903\",\"Roosevelt_1904\",\"Roosevelt_1905\",\"Roosevelt_1906\",\"Roosevelt_1907\",\"Roosevelt_1908\",\"Roosevelt_1934\",\"Roosevelt_1935\",\"Roosevelt_1936\",\"Roosevelt_1937\",\"Roosevelt_1938\",\"Roosevelt_1939\",\"Roosevelt_1940\",\"Roosevelt_1941\",\"Roosevelt_1942\",\"Roosevelt_1943\",\"Roosevelt_1944\",\"Roosevelt_1945\",\"Taft_1909\",\"Taft_1910\",\"Taft_1911\",\"Taft_1912\",\"Taylor_1849\",\"Truman_1946\",\"Truman_1947\",\"Truman_1948\",\"Truman_1949\",\"Truman_1950\",\"Truman_1951\",\"Truman_1952\",\"Truman_1953\",\"Trump_2017\",\"Trump_2018\",\"Tyler_1841\",\"Tyler_1842\",\"Tyler_1843\",\"Tyler_1844\",\"Washington_1790\",\"Washington_1791\",\"Washington_1792\",\"Washington_1793\",\"Washington_1794\",\"Washington_1795\",\"Washington_1796\",\"Wilson_1913\",\"Wilson_1914\",\"Wilson_1915\",\"Wilson_1916\",\"Wilson_1917\",\"Wilson_1918\",\"Wilson_1919\",\"Wilson_1920\"],\"xaxis\":\"x\",\"y\":[0.079,0.073,0.056,0.021,0.039,0.048,0.048,0.047,0.051,0.053,0.053,0.05,0.08,0.078,0.08,0.08,0.057,0.064,0.077,0.069,0.078,0.044,0.093,0.078,0.07,0.147,0.16,0.111,0.096,0.13,0.128,0.099,0.094,0.09,0.088,0.059,0.064,0.061,0.065,0.074,0.063,0.064,0.075,0.072,0.082,0.099,0.079,0.097,0.071,0.068,0.069,0.076,0.072,0.06,0.062,0.066,0.065,0.049,0.053,0.056,0.063,0.07,0.087,0.069,0.085,0.05,0.058,0.059,0.063,0.076,0.098,0.081,0.058,0.051,0.053,0.065,0.055,0.063,0.059,0.056,0.095,0.111,0.063,0.061,0.066,0.05,0.066,0.05,0.047,0.047,0.059,0.07,0.081,0.094,0.065,0.059,0.055,0.065,0.055,0.07,0.061,0.071,0.058,0.053,0.071,0.052,0.064,0.05,0.082,0.069,0.067,0.063,0.091,0.067,0.092,0.084,0.112,0.093,0.079,0.07,0.08,0.112,0.057,0.077,0.071,0.063,0.064,0.045,0.061,0.109,0.127,0.125,0.047,0.062,0.078,0.068,0.048,0.046,0.043,0.077,0.051,0.053,0.048,0.054,0.053,0.048,0.09,0.052,0.082,0.054,0.065,0.1,0.109,0.063,0.086,0.081,0.077,0.086,0.102,0.059,0.082,0.075,0.075,0.063,0.086,0.096,0.065,0.082,0.081,0.065,0.067,0.098,0.081,0.073,0.085,0.072,0.065,0.078,0.085,0.116,0.09,0.1,0.079,0.068,0.091,0.073,0.113,0.092,0.106,0.103,0.152,0.143,0.135,0.121,0.044,0.036,0.057,0.057,0.049,0.078,0.085,0.072,0.061,0.046,0.087,0.088,0.102,0.094,0.113,0.067,0.071,0.071,0.072,0.0,0.04,0.06,0.084,0.099,0.083,0.066,0.046,0.056,0.061,0.068,0.13,0.084,0.102,0.066],\"yaxis\":\"y\",\"type\":\"scatter\"}],                        {\"template\":{\"data\":{\"histogram2dcontour\":[{\"type\":\"histogram2dcontour\",\"colorbar\":{\"outlinewidth\":0,\"ticks\":\"\"},\"colorscale\":[[0.0,\"#0d0887\"],[0.1111111111111111,\"#46039f\"],[0.2222222222222222,\"#7201a8\"],[0.3333333333333333,\"#9c179e\"],[0.4444444444444444,\"#bd3786\"],[0.5555555555555556,\"#d8576b\"],[0.6666666666666666,\"#ed7953\"],[0.7777777777777778,\"#fb9f3a\"],[0.8888888888888888,\"#fdca26\"],[1.0,\"#f0f921\"]]}],\"choropleth\":[{\"type\":\"choropleth\",\"colorbar\":{\"outlinewidth\":0,\"ticks\":\"\"}}],\"histogram2d\":[{\"type\":\"histogram2d\",\"colorbar\":{\"outlinewidth\":0,\"ticks\":\"\"},\"colorscale\":[[0.0,\"#0d0887\"],[0.1111111111111111,\"#46039f\"],[0.2222222222222222,\"#7201a8\"],[0.3333333333333333,\"#9c179e\"],[0.4444444444444444,\"#bd3786\"],[0.5555555555555556,\"#d8576b\"],[0.6666666666666666,\"#ed7953\"],[0.7777777777777778,\"#fb9f3a\"],[0.8888888888888888,\"#fdca26\"],[1.0,\"#f0f921\"]]}],\"heatmap\":[{\"type\":\"heatmap\",\"colorbar\":{\"outlinewidth\":0,\"ticks\":\"\"},\"colorscale\":[[0.0,\"#0d0887\"],[0.1111111111111111,\"#46039f\"],[0.2222222222222222,\"#7201a8\"],[0.3333333333333333,\"#9c179e\"],[0.4444444444444444,\"#bd3786\"],[0.5555555555555556,\"#d8576b\"],[0.6666666666666666,\"#ed7953\"],[0.7777777777777778,\"#fb9f3a\"],[0.8888888888888888,\"#fdca26\"],[1.0,\"#f0f921\"]]}],\"heatmapgl\":[{\"type\":\"heatmapgl\",\"colorbar\":{\"outlinewidth\":0,\"ticks\":\"\"},\"colorscale\":[[0.0,\"#0d0887\"],[0.1111111111111111,\"#46039f\"],[0.2222222222222222,\"#7201a8\"],[0.3333333333333333,\"#9c179e\"],[0.4444444444444444,\"#bd3786\"],[0.5555555555555556,\"#d8576b\"],[0.6666666666666666,\"#ed7953\"],[0.7777777777777778,\"#fb9f3a\"],[0.8888888888888888,\"#fdca26\"],[1.0,\"#f0f921\"]]}],\"contourcarpet\":[{\"type\":\"contourcarpet\",\"colorbar\":{\"outlinewidth\":0,\"ticks\":\"\"}}],\"contour\":[{\"type\":\"contour\",\"colorbar\":{\"outlinewidth\":0,\"ticks\":\"\"},\"colorscale\":[[0.0,\"#0d0887\"],[0.1111111111111111,\"#46039f\"],[0.2222222222222222,\"#7201a8\"],[0.3333333333333333,\"#9c179e\"],[0.4444444444444444,\"#bd3786\"],[0.5555555555555556,\"#d8576b\"],[0.6666666666666666,\"#ed7953\"],[0.7777777777777778,\"#fb9f3a\"],[0.8888888888888888,\"#fdca26\"],[1.0,\"#f0f921\"]]}],\"surface\":[{\"type\":\"surface\",\"colorbar\":{\"outlinewidth\":0,\"ticks\":\"\"},\"colorscale\":[[0.0,\"#0d0887\"],[0.1111111111111111,\"#46039f\"],[0.2222222222222222,\"#7201a8\"],[0.3333333333333333,\"#9c179e\"],[0.4444444444444444,\"#bd3786\"],[0.5555555555555556,\"#d8576b\"],[0.6666666666666666,\"#ed7953\"],[0.7777777777777778,\"#fb9f3a\"],[0.8888888888888888,\"#fdca26\"],[1.0,\"#f0f921\"]]}],\"mesh3d\":[{\"type\":\"mesh3d\",\"colorbar\":{\"outlinewidth\":0,\"ticks\":\"\"}}],\"scatter\":[{\"fillpattern\":{\"fillmode\":\"overlay\",\"size\":10,\"solidity\":0.2},\"type\":\"scatter\"}],\"parcoords\":[{\"type\":\"parcoords\",\"line\":{\"colorbar\":{\"outlinewidth\":0,\"ticks\":\"\"}}}],\"scatterpolargl\":[{\"type\":\"scatterpolargl\",\"marker\":{\"colorbar\":{\"outlinewidth\":0,\"ticks\":\"\"}}}],\"bar\":[{\"error_x\":{\"color\":\"#2a3f5f\"},\"error_y\":{\"color\":\"#2a3f5f\"},\"marker\":{\"line\":{\"color\":\"#E5ECF6\",\"width\":0.5},\"pattern\":{\"fillmode\":\"overlay\",\"size\":10,\"solidity\":0.2}},\"type\":\"bar\"}],\"scattergeo\":[{\"type\":\"scattergeo\",\"marker\":{\"colorbar\":{\"outlinewidth\":0,\"ticks\":\"\"}}}],\"scatterpolar\":[{\"type\":\"scatterpolar\",\"marker\":{\"colorbar\":{\"outlinewidth\":0,\"ticks\":\"\"}}}],\"histogram\":[{\"marker\":{\"pattern\":{\"fillmode\":\"overlay\",\"size\":10,\"solidity\":0.2}},\"type\":\"histogram\"}],\"scattergl\":[{\"type\":\"scattergl\",\"marker\":{\"colorbar\":{\"outlinewidth\":0,\"ticks\":\"\"}}}],\"scatter3d\":[{\"type\":\"scatter3d\",\"line\":{\"colorbar\":{\"outlinewidth\":0,\"ticks\":\"\"}},\"marker\":{\"colorbar\":{\"outlinewidth\":0,\"ticks\":\"\"}}}],\"scattermapbox\":[{\"type\":\"scattermapbox\",\"marker\":{\"colorbar\":{\"outlinewidth\":0,\"ticks\":\"\"}}}],\"scatterternary\":[{\"type\":\"scatterternary\",\"marker\":{\"colorbar\":{\"outlinewidth\":0,\"ticks\":\"\"}}}],\"scattercarpet\":[{\"type\":\"scattercarpet\",\"marker\":{\"colorbar\":{\"outlinewidth\":0,\"ticks\":\"\"}}}],\"carpet\":[{\"aaxis\":{\"endlinecolor\":\"#2a3f5f\",\"gridcolor\":\"white\",\"linecolor\":\"white\",\"minorgridcolor\":\"white\",\"startlinecolor\":\"#2a3f5f\"},\"baxis\":{\"endlinecolor\":\"#2a3f5f\",\"gridcolor\":\"white\",\"linecolor\":\"white\",\"minorgridcolor\":\"white\",\"startlinecolor\":\"#2a3f5f\"},\"type\":\"carpet\"}],\"table\":[{\"cells\":{\"fill\":{\"color\":\"#EBF0F8\"},\"line\":{\"color\":\"white\"}},\"header\":{\"fill\":{\"color\":\"#C8D4E3\"},\"line\":{\"color\":\"white\"}},\"type\":\"table\"}],\"barpolar\":[{\"marker\":{\"line\":{\"color\":\"#E5ECF6\",\"width\":0.5},\"pattern\":{\"fillmode\":\"overlay\",\"size\":10,\"solidity\":0.2}},\"type\":\"barpolar\"}],\"pie\":[{\"automargin\":true,\"type\":\"pie\"}]},\"layout\":{\"autotypenumbers\":\"strict\",\"colorway\":[\"#636efa\",\"#EF553B\",\"#00cc96\",\"#ab63fa\",\"#FFA15A\",\"#19d3f3\",\"#FF6692\",\"#B6E880\",\"#FF97FF\",\"#FECB52\"],\"font\":{\"color\":\"#2a3f5f\"},\"hovermode\":\"closest\",\"hoverlabel\":{\"align\":\"left\"},\"paper_bgcolor\":\"white\",\"plot_bgcolor\":\"#E5ECF6\",\"polar\":{\"bgcolor\":\"#E5ECF6\",\"angularaxis\":{\"gridcolor\":\"white\",\"linecolor\":\"white\",\"ticks\":\"\"},\"radialaxis\":{\"gridcolor\":\"white\",\"linecolor\":\"white\",\"ticks\":\"\"}},\"ternary\":{\"bgcolor\":\"#E5ECF6\",\"aaxis\":{\"gridcolor\":\"white\",\"linecolor\":\"white\",\"ticks\":\"\"},\"baxis\":{\"gridcolor\":\"white\",\"linecolor\":\"white\",\"ticks\":\"\"},\"caxis\":{\"gridcolor\":\"white\",\"linecolor\":\"white\",\"ticks\":\"\"}},\"coloraxis\":{\"colorbar\":{\"outlinewidth\":0,\"ticks\":\"\"}},\"colorscale\":{\"sequential\":[[0.0,\"#0d0887\"],[0.1111111111111111,\"#46039f\"],[0.2222222222222222,\"#7201a8\"],[0.3333333333333333,\"#9c179e\"],[0.4444444444444444,\"#bd3786\"],[0.5555555555555556,\"#d8576b\"],[0.6666666666666666,\"#ed7953\"],[0.7777777777777778,\"#fb9f3a\"],[0.8888888888888888,\"#fdca26\"],[1.0,\"#f0f921\"]],\"sequentialminus\":[[0.0,\"#0d0887\"],[0.1111111111111111,\"#46039f\"],[0.2222222222222222,\"#7201a8\"],[0.3333333333333333,\"#9c179e\"],[0.4444444444444444,\"#bd3786\"],[0.5555555555555556,\"#d8576b\"],[0.6666666666666666,\"#ed7953\"],[0.7777777777777778,\"#fb9f3a\"],[0.8888888888888888,\"#fdca26\"],[1.0,\"#f0f921\"]],\"diverging\":[[0,\"#8e0152\"],[0.1,\"#c51b7d\"],[0.2,\"#de77ae\"],[0.3,\"#f1b6da\"],[0.4,\"#fde0ef\"],[0.5,\"#f7f7f7\"],[0.6,\"#e6f5d0\"],[0.7,\"#b8e186\"],[0.8,\"#7fbc41\"],[0.9,\"#4d9221\"],[1,\"#276419\"]]},\"xaxis\":{\"gridcolor\":\"white\",\"linecolor\":\"white\",\"ticks\":\"\",\"title\":{\"standoff\":15},\"zerolinecolor\":\"white\",\"automargin\":true,\"zerolinewidth\":2},\"yaxis\":{\"gridcolor\":\"white\",\"linecolor\":\"white\",\"ticks\":\"\",\"title\":{\"standoff\":15},\"zerolinecolor\":\"white\",\"automargin\":true,\"zerolinewidth\":2},\"scene\":{\"xaxis\":{\"backgroundcolor\":\"#E5ECF6\",\"gridcolor\":\"white\",\"linecolor\":\"white\",\"showbackground\":true,\"ticks\":\"\",\"zerolinecolor\":\"white\",\"gridwidth\":2},\"yaxis\":{\"backgroundcolor\":\"#E5ECF6\",\"gridcolor\":\"white\",\"linecolor\":\"white\",\"showbackground\":true,\"ticks\":\"\",\"zerolinecolor\":\"white\",\"gridwidth\":2},\"zaxis\":{\"backgroundcolor\":\"#E5ECF6\",\"gridcolor\":\"white\",\"linecolor\":\"white\",\"showbackground\":true,\"ticks\":\"\",\"zerolinecolor\":\"white\",\"gridwidth\":2}},\"shapedefaults\":{\"line\":{\"color\":\"#2a3f5f\"}},\"annotationdefaults\":{\"arrowcolor\":\"#2a3f5f\",\"arrowhead\":0,\"arrowwidth\":1},\"geo\":{\"bgcolor\":\"white\",\"landcolor\":\"#E5ECF6\",\"subunitcolor\":\"white\",\"showland\":true,\"showlakes\":true,\"lakecolor\":\"white\"},\"title\":{\"x\":0.05},\"mapbox\":{\"style\":\"light\"}}},\"xaxis\":{\"anchor\":\"y\",\"domain\":[0.0,1.0],\"title\":{\"text\":\"Speech\"}},\"yaxis\":{\"anchor\":\"x\",\"domain\":[0.0,1.0],\"title\":{\"text\":\"Negative value\"}},\"legend\":{\"tracegroupgap\":0},\"margin\":{\"t\":60}},                        {\"responsive\": true}                    ).then(function(){\n",
       "                            \n",
       "var gd = document.getElementById('a96ae381-dff4-4af9-9c59-e7c520cab8f0');\n",
       "var x = new MutationObserver(function (mutations, observer) {{\n",
       "        var display = window.getComputedStyle(gd).display;\n",
       "        if (!display || display === 'none') {{\n",
       "            console.log([gd, 'removed!']);\n",
       "            Plotly.purge(gd);\n",
       "            observer.disconnect();\n",
       "        }}\n",
       "}});\n",
       "\n",
       "// Listen for the removal of the full notebook cells\n",
       "var notebookContainer = gd.closest('#notebook-container');\n",
       "if (notebookContainer) {{\n",
       "    x.observe(notebookContainer, {childList: true});\n",
       "}}\n",
       "\n",
       "// Listen for the clearing of the current output cell\n",
       "var outputEl = gd.closest('.output');\n",
       "if (outputEl) {{\n",
       "    x.observe(outputEl, {childList: true});\n",
       "}}\n",
       "\n",
       "                        })                };                });            </script>        </div>"
      ]
     },
     "metadata": {},
     "output_type": "display_data"
    }
   ],
   "source": [
    "x_speech = list(negative.keys())\n",
    "y_neg = list(negative.values())\n",
    "fig = px.line(x=x_speech, y=y_neg)\n",
    "fig.update_layout(xaxis_title=\"Speech\",\n",
    "    yaxis_title=\"Negative value\")\n",
    "fig.show()"
   ]
  },
  {
   "cell_type": "markdown",
   "metadata": {},
   "source": [
    "#### Most negative speeches\n",
    "The graph gives us a nice visualization of some overall trends, and we can take a closer look at some of the most negative speeches here. We could also sort our dictionary, using the `sorted()` method, to list the speeches with the most negative scores in the corpus."
   ]
  },
  {
   "cell_type": "code",
   "execution_count": 77,
   "metadata": {},
   "outputs": [
    {
     "data": {
      "text/plain": [
       "[222, 152, 221, 153, 154]"
      ]
     },
     "execution_count": 77,
     "metadata": {},
     "output_type": "execute_result"
    }
   ],
   "source": [
    "sorted(negative, key=negative.get, reverse=True)[:5]"
   ]
  },
  {
   "cell_type": "code",
   "execution_count": 78,
   "metadata": {},
   "outputs": [
    {
     "data": {
      "text/plain": [
       "'Mr. Speaker, Vice President Cheney, Members of Congress, distinguished citizens and fellow citizens: Every year, by law and by custom, we meet here to consider the state of the Union. This year, we gather in this Chamber deeply aware of decisive days that lie ahead. \\n\\nYou and I serve our country in a time of great consequence. During this session of Congress, we have the duty to reform domestic programs vital to our country. We have the opportunity to save millions of lives abroad from a terribl'"
      ]
     },
     "execution_count": 78,
     "metadata": {},
     "output_type": "execute_result"
    }
   ],
   "source": [
    "speeches[222][0:500]"
   ]
  },
  {
   "cell_type": "markdown",
   "metadata": {},
   "source": [
    "#### Least negative speeches\n",
    "We can use the default sort (ascending values) to view the least negative speeches in the corpus."
   ]
  },
  {
   "cell_type": "code",
   "execution_count": 79,
   "metadata": {},
   "outputs": [
    {
     "data": {
      "text/plain": [
       "[11, 0, 36, 2, 28]"
      ]
     },
     "execution_count": 79,
     "metadata": {},
     "output_type": "execute_result"
    }
   ],
   "source": [
    "sorted(negative, key=negative.get)[:5]"
   ]
  },
  {
   "cell_type": "markdown",
   "metadata": {},
   "source": [
    "## Topic models"
   ]
  },
  {
   "cell_type": "code",
   "execution_count": null,
   "metadata": {},
   "outputs": [],
   "source": [
    "# had issues with gensim and recent scipy package. had to back install 1.12.0\n",
    "#scipy.__version__"
   ]
  },
  {
   "cell_type": "markdown",
   "metadata": {},
   "source": [
    "## Where to go for help\n",
    "- Contact LATISresearch@umn.edu\n",
    "- [Libaries Text Mining guide](https://libguides.umn.edu/text-mining)\n",
    "- [Join the Text as Data Practice Group email list]()"
   ]
  }
 ],
 "metadata": {
  "kernelspec": {
   "display_name": "Python 3 (ipykernel)",
   "language": "python",
   "name": "python3"
  },
  "language_info": {
   "codemirror_mode": {
    "name": "ipython",
    "version": 3
   },
   "file_extension": ".py",
   "mimetype": "text/x-python",
   "name": "python",
   "nbconvert_exporter": "python",
   "pygments_lexer": "ipython3",
   "version": "3.12.3"
  }
 },
 "nbformat": 4,
 "nbformat_minor": 4
}
