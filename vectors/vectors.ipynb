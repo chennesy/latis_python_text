{
 "cells": [
  {
   "cell_type": "markdown",
   "id": "2e1bcb47-dbd1-4d5b-ac37-ef8fa72db755",
   "metadata": {},
   "source": [
    "# Vectors & word embeddings \n",
    "A workshop by UMN LATIS and the Libraries.\n",
    "\n",
    "## What we'll cover in this session\n",
    "- Representing words as numbers\n",
    "- TF-IDF\n",
    "- Word vectors\n",
    "- What are they? \n",
    "- How they work + Benefits\n",
    "- Word Vectors with Spacy\n",
    "- Interpreting results\n",
    "- Word embeddings in 2d plots\n",
    "- Calculating distance between pairs\n",
    "- Document embedding\n",
    "- Transformers\n"
   ]
  },
  {
   "cell_type": "markdown",
   "id": "3aa34013-f237-44b5-8cf3-21640513bf2c",
   "metadata": {},
   "source": [
    "## Install required libraries\n",
    "If you're working from your own machine you can use pip install to make sure you have downloaded all of the Python packages you'll need to use today. \n",
    "\n",
    "If you're working on notebooks.latis.umn.edu, there's no need to install any of these, since they're included in the virtual environment."
   ]
  },
  {
   "cell_type": "code",
   "execution_count": null,
   "id": "5b8c54b1-2499-41f2-a6e3-4bf82bc4d00c",
   "metadata": {},
   "outputs": [],
   "source": [
    "# use !pip install to install libraries we'll use today\n",
    "!pip install spacy\n",
    "\n",
    "# This command downloads the medium-sized English language model for spaCy.\n",
    "# It uses the Python module-running option to run spaCy's download command for the \"en_core_web_md\" model.\n",
    "!python -m spacy download en_core_web_md "
   ]
  },
  {
   "cell_type": "markdown",
   "id": "78008016-7c30-410c-9896-afec9178ee5c",
   "metadata": {},
   "source": [
    "## Changing words into numbers\n",
    "- Computers require numerical representations of things like images and words to be able to store, process, and manipulate them. \n",
    "- For most text analysis methods that will allows us to work with text as data, then, it's critical to use structured formats that represent words as numbers.\n",
    "- At the base level computers already use encoding standards like Unicode to represent words as numbers, but Unicode represents specific characters in numerical form, not entire words. Since we're interested in working with the meanings of words and not characters, we'll use other methods to create numerical representations of our texts.\n",
    "- Rather than manually assigning words to specific numbers on our own, we can utilize existing vector frameworks to transform our texts to numerical formats that allow us to analyze meaning."
   ]
  },
  {
   "cell_type": "markdown",
   "id": "9666ba7a-1234-4050-bcdb-722e47e59f54",
   "metadata": {},
   "source": [
    "### TF-IDF: Term Frequency, Inverse Document Frequency\n",
    "\n",
    "- TF-IDF is a statistical measure using a matrix to evaluate how important a word is to a document or corpus. \n",
    "- In a TF-IDF matrix:\n",
    " - each row represents a document\n",
    " - each column represents a unique word\n",
    " - each cell contains a score for that word in the document\n",
    " \n",
    "The score increases relative to the number of times that a word appears in a document, offset by its frequency in the entire corpus. So words that are more common across the entire corpus will have lower scores in a particular document, which helps us account for common terms. \n",
    "\n",
    "Let's use the spacy package to transform a collection of State of the Union addresses into a TF-IDF Document Term Matrix.\n",
    "\n",
    "#### Import required libraries"
   ]
  },
  {
   "cell_type": "code",
   "execution_count": 1,
   "id": "7c44e0a7-5c52-47a9-9c3c-40eaf3957cab",
   "metadata": {},
   "outputs": [],
   "source": [
    "import spacy\n",
    "import glob\n",
    "from sklearn.feature_extraction.text import TfidfVectorizer\n",
    "import pandas as pd\n",
    "from sklearn.decomposition import PCA\n",
    "import matplotlib.pyplot as plt\n",
    "import numpy as np\n",
    "\n",
    "# Load the spaCy model\n",
    "nlp = spacy.load(\"en_core_web_md\")"
   ]
  },
  {
   "cell_type": "markdown",
   "id": "440af74d-81cf-496f-9f7b-e6572b2eeeb3",
   "metadata": {},
   "source": [
    "#### Tokenize the SOTU corpus with spacy"
   ]
  },
  {
   "cell_type": "code",
   "execution_count": 2,
   "id": "c78d8de8-a5b1-4000-aaf0-e8cc8acec230",
   "metadata": {},
   "outputs": [],
   "source": [
    "# Collect all speech file paths\n",
    "sotu = glob.glob(\"sotu_text/*.txt\")\n",
    "\n",
    "# Initialize a list to store preprocessed speeches\n",
    "processed_speeches = []\n",
    "\n",
    "# Process each speech\n",
    "for speech_path in sotu[0:5]:\n",
    "    with open(speech_path, 'r') as file:\n",
    "        text = file.read()\n",
    "        doc = nlp(text)\n",
    "        # Filter tokens and join them into a single string\n",
    "        # ignore stop words, punctuation, spaces and digits\n",
    "        tokens = [token.text.lower() for token in doc if not (token.is_stop or token.is_punct or token.is_space or token.is_digit or token.like_num)]\n",
    "        processed_text = ' '.join(tokens)\n",
    "        processed_speeches.append(processed_text)"
   ]
  },
  {
   "cell_type": "markdown",
   "id": "5689c4ad-83b6-49f6-a854-899ed0d14eb1",
   "metadata": {},
   "source": [
    "### Convert to a TF-IDF Vector\n"
   ]
  },
  {
   "cell_type": "code",
   "execution_count": 3,
   "id": "c8604db8-aea6-4bdc-9a02-67ebac2687e3",
   "metadata": {},
   "outputs": [],
   "source": [
    "# Initialize the TfidfVectorizer\n",
    "vectorizer = TfidfVectorizer()\n",
    "\n",
    "# Fit and transform the first 5 preprocessed speeches to a TF-IDF matrix\n",
    "tfidf_matrix = vectorizer.fit_transform(processed_speeches)"
   ]
  },
  {
   "cell_type": "code",
   "execution_count": 4,
   "id": "683b300a-fc27-4145-94a1-800c8d6e4b0d",
   "metadata": {},
   "outputs": [
    {
     "data": {
      "text/plain": [
       "(5, 5770)"
      ]
     },
     "execution_count": 4,
     "metadata": {},
     "output_type": "execute_result"
    }
   ],
   "source": [
    "tfidf_matrix.get_shape()"
   ]
  },
  {
   "cell_type": "markdown",
   "id": "3d8254b6-a925-4bf7-920f-24607adf954b",
   "metadata": {},
   "source": [
    "#### Use Pandas to view the matrix"
   ]
  },
  {
   "cell_type": "code",
   "execution_count": 5,
   "id": "43b4d3c2-6967-4037-9f82-b7b077deb9e9",
   "metadata": {},
   "outputs": [
    {
     "data": {
      "text/html": [
       "<div>\n",
       "<style scoped>\n",
       "    .dataframe tbody tr th:only-of-type {\n",
       "        vertical-align: middle;\n",
       "    }\n",
       "\n",
       "    .dataframe tbody tr th {\n",
       "        vertical-align: top;\n",
       "    }\n",
       "\n",
       "    .dataframe thead th {\n",
       "        text-align: right;\n",
       "    }\n",
       "</style>\n",
       "<table border=\"1\" class=\"dataframe\">\n",
       "  <thead>\n",
       "    <tr style=\"text-align: right;\">\n",
       "      <th></th>\n",
       "      <th>1791</th>\n",
       "      <th>22d</th>\n",
       "      <th>23d</th>\n",
       "      <th>2d</th>\n",
       "      <th>36</th>\n",
       "      <th>3d</th>\n",
       "      <th>abandon</th>\n",
       "      <th>abandoned</th>\n",
       "      <th>abandoning</th>\n",
       "      <th>abandonment</th>\n",
       "      <th>...</th>\n",
       "      <th>yearly</th>\n",
       "      <th>years</th>\n",
       "      <th>yield</th>\n",
       "      <th>yielded</th>\n",
       "      <th>yielding</th>\n",
       "      <th>york</th>\n",
       "      <th>yorktown</th>\n",
       "      <th>young</th>\n",
       "      <th>youth</th>\n",
       "      <th>zeal</th>\n",
       "    </tr>\n",
       "  </thead>\n",
       "  <tbody>\n",
       "    <tr>\n",
       "      <th>0</th>\n",
       "      <td>0.005131</td>\n",
       "      <td>0.000000</td>\n",
       "      <td>0.004140</td>\n",
       "      <td>0.000000</td>\n",
       "      <td>0.010263</td>\n",
       "      <td>0.005131</td>\n",
       "      <td>0.000000</td>\n",
       "      <td>0.010263</td>\n",
       "      <td>0.000000</td>\n",
       "      <td>0.000000</td>\n",
       "      <td>...</td>\n",
       "      <td>0.004140</td>\n",
       "      <td>0.046457</td>\n",
       "      <td>0.016560</td>\n",
       "      <td>0.008280</td>\n",
       "      <td>0.004140</td>\n",
       "      <td>0.023127</td>\n",
       "      <td>0.000000</td>\n",
       "      <td>0.000000</td>\n",
       "      <td>0.004140</td>\n",
       "      <td>0.000000</td>\n",
       "    </tr>\n",
       "    <tr>\n",
       "      <th>1</th>\n",
       "      <td>0.000000</td>\n",
       "      <td>0.009912</td>\n",
       "      <td>0.000000</td>\n",
       "      <td>0.000000</td>\n",
       "      <td>0.000000</td>\n",
       "      <td>0.000000</td>\n",
       "      <td>0.000000</td>\n",
       "      <td>0.000000</td>\n",
       "      <td>0.000000</td>\n",
       "      <td>0.000000</td>\n",
       "      <td>...</td>\n",
       "      <td>0.000000</td>\n",
       "      <td>0.029271</td>\n",
       "      <td>0.000000</td>\n",
       "      <td>0.000000</td>\n",
       "      <td>0.000000</td>\n",
       "      <td>0.027686</td>\n",
       "      <td>0.000000</td>\n",
       "      <td>0.000000</td>\n",
       "      <td>0.000000</td>\n",
       "      <td>0.000000</td>\n",
       "    </tr>\n",
       "    <tr>\n",
       "      <th>2</th>\n",
       "      <td>0.000000</td>\n",
       "      <td>0.000000</td>\n",
       "      <td>0.000000</td>\n",
       "      <td>0.000000</td>\n",
       "      <td>0.000000</td>\n",
       "      <td>0.000000</td>\n",
       "      <td>0.000000</td>\n",
       "      <td>0.000000</td>\n",
       "      <td>0.000000</td>\n",
       "      <td>0.000000</td>\n",
       "      <td>...</td>\n",
       "      <td>0.000000</td>\n",
       "      <td>0.012916</td>\n",
       "      <td>0.000000</td>\n",
       "      <td>0.000000</td>\n",
       "      <td>0.000000</td>\n",
       "      <td>0.015270</td>\n",
       "      <td>0.000000</td>\n",
       "      <td>0.000000</td>\n",
       "      <td>0.000000</td>\n",
       "      <td>0.009035</td>\n",
       "    </tr>\n",
       "    <tr>\n",
       "      <th>3</th>\n",
       "      <td>0.000000</td>\n",
       "      <td>0.000000</td>\n",
       "      <td>0.000000</td>\n",
       "      <td>0.000000</td>\n",
       "      <td>0.000000</td>\n",
       "      <td>0.000000</td>\n",
       "      <td>0.011486</td>\n",
       "      <td>0.000000</td>\n",
       "      <td>0.011486</td>\n",
       "      <td>0.011486</td>\n",
       "      <td>...</td>\n",
       "      <td>0.018534</td>\n",
       "      <td>0.027366</td>\n",
       "      <td>0.000000</td>\n",
       "      <td>0.000000</td>\n",
       "      <td>0.000000</td>\n",
       "      <td>0.000000</td>\n",
       "      <td>0.000000</td>\n",
       "      <td>0.034458</td>\n",
       "      <td>0.000000</td>\n",
       "      <td>0.000000</td>\n",
       "    </tr>\n",
       "    <tr>\n",
       "      <th>4</th>\n",
       "      <td>0.000000</td>\n",
       "      <td>0.007161</td>\n",
       "      <td>0.014322</td>\n",
       "      <td>0.008876</td>\n",
       "      <td>0.000000</td>\n",
       "      <td>0.000000</td>\n",
       "      <td>0.000000</td>\n",
       "      <td>0.000000</td>\n",
       "      <td>0.000000</td>\n",
       "      <td>0.000000</td>\n",
       "      <td>...</td>\n",
       "      <td>0.000000</td>\n",
       "      <td>0.042295</td>\n",
       "      <td>0.007161</td>\n",
       "      <td>0.007161</td>\n",
       "      <td>0.007161</td>\n",
       "      <td>0.010001</td>\n",
       "      <td>0.008876</td>\n",
       "      <td>0.000000</td>\n",
       "      <td>0.014322</td>\n",
       "      <td>0.000000</td>\n",
       "    </tr>\n",
       "  </tbody>\n",
       "</table>\n",
       "<p>5 rows × 5770 columns</p>\n",
       "</div>"
      ],
      "text/plain": [
       "       1791       22d       23d        2d        36        3d   abandon  \\\n",
       "0  0.005131  0.000000  0.004140  0.000000  0.010263  0.005131  0.000000   \n",
       "1  0.000000  0.009912  0.000000  0.000000  0.000000  0.000000  0.000000   \n",
       "2  0.000000  0.000000  0.000000  0.000000  0.000000  0.000000  0.000000   \n",
       "3  0.000000  0.000000  0.000000  0.000000  0.000000  0.000000  0.011486   \n",
       "4  0.000000  0.007161  0.014322  0.008876  0.000000  0.000000  0.000000   \n",
       "\n",
       "   abandoned  abandoning  abandonment  ...    yearly     years     yield  \\\n",
       "0   0.010263    0.000000     0.000000  ...  0.004140  0.046457  0.016560   \n",
       "1   0.000000    0.000000     0.000000  ...  0.000000  0.029271  0.000000   \n",
       "2   0.000000    0.000000     0.000000  ...  0.000000  0.012916  0.000000   \n",
       "3   0.000000    0.011486     0.011486  ...  0.018534  0.027366  0.000000   \n",
       "4   0.000000    0.000000     0.000000  ...  0.000000  0.042295  0.007161   \n",
       "\n",
       "    yielded  yielding      york  yorktown     young     youth      zeal  \n",
       "0  0.008280  0.004140  0.023127  0.000000  0.000000  0.004140  0.000000  \n",
       "1  0.000000  0.000000  0.027686  0.000000  0.000000  0.000000  0.000000  \n",
       "2  0.000000  0.000000  0.015270  0.000000  0.000000  0.000000  0.009035  \n",
       "3  0.000000  0.000000  0.000000  0.000000  0.034458  0.000000  0.000000  \n",
       "4  0.007161  0.007161  0.010001  0.008876  0.000000  0.014322  0.000000  \n",
       "\n",
       "[5 rows x 5770 columns]"
      ]
     },
     "execution_count": 5,
     "metadata": {},
     "output_type": "execute_result"
    }
   ],
   "source": [
    "# Create a DataFrame for better readability\n",
    "df_tfidf = pd.DataFrame(tfidf_matrix.toarray(), columns=vectorizer.get_feature_names_out())\n",
    "\n",
    "# Display the DataFrame\n",
    "df_tfidf"
   ]
  },
  {
   "cell_type": "code",
   "execution_count": 6,
   "id": "92645368-cad4-43af-ac18-8876802bb8fc",
   "metadata": {},
   "outputs": [
    {
     "name": "stdout",
     "output_type": "stream",
     "text": [
      "Document 1 top words: ['states', 'government', 'public', 'country', 'congress']\n",
      "Document 2 top words: ['states', 'emancipation', 'people', 'united', 'time']\n",
      "Document 3 top words: ['bank', 'states', 'government', 'country', 'surplus']\n",
      "Document 4 top words: ['congress', 'country', 'cable', 'conditions', 'work']\n",
      "Document 5 top words: ['government', 'people', 'year', 'states', 'public']\n"
     ]
    }
   ],
   "source": [
    "# Number of top words to extract for each document\n",
    "top_n = 5\n",
    "\n",
    "# Find the top n words for each document\n",
    "top_words_per_document = []\n",
    "for index, row in df_tfidf.iterrows():\n",
    "    top_words = row.sort_values(ascending=False).head(top_n).index.tolist()\n",
    "    top_words_per_document.append(top_words)\n",
    "\n",
    "# Print the top words for each document\n",
    "for doc_index, words in enumerate(top_words_per_document):\n",
    "    print(f\"Document {doc_index + 1} top words: {words}\")"
   ]
  },
  {
   "cell_type": "markdown",
   "id": "59715e1c-233b-4a40-abca-49c13dd9b45d",
   "metadata": {},
   "source": [
    "In TF-IDF the words are assigned numbers based on their importance to each document and the corpus, but the numbers don't actually tell us anything about a word's meaning or its relationship to other words. Words vectors give us a way to understand more about how words in a corpus relate to each other."
   ]
  },
  {
   "cell_type": "markdown",
   "id": "ef3c9a46-b75a-4f62-b9b6-81ed001f15ca",
   "metadata": {},
   "source": [
    "## Word Vectors"
   ]
  },
  {
   "cell_type": "markdown",
   "id": "23c03448-250a-4433-a52a-bbe6474c22c8",
   "metadata": {},
   "source": [
    "When people refer to word vectors, or word embeddings, they're talking about a way of representing each word as a numerical vector in a high-dimensional space, typically from 50 to 300 dimensions. \n",
    "\n",
    "Key properties of word vectors:\n",
    "\n",
    "1. Dimensionality: In TF-IDF there as many dimensions as there are words in the vocabulary. Word vectors typically have fewer dimensions (e.g., 100 or 300).\n",
    "\n",
    "2. Density: Unlike TF-IDF where a vector consists mostly of 0s, word vectors are dense, meaning most elements are non-zero.\n",
    "\n",
    "3. Learned from data: Word vectors are typically learned from large text corpora using machine learning techniques. They capture semantic and syntactic relationships between words based on their usage patterns in the text.\n",
    "\n",
    "4. Semantic relationships: Similar words have similar vectors. For example, the vectors for \"king\" and \"queen\" might be close to each other.\n",
    "\n",
    "5. Arithmetic operations: Word vectors often exhibit interesting arithmetic properties. A classic example is: vector(\"king\") - vector(\"man\") + vector(\"woman\") ≈ vector(\"queen\").\n",
    "\n",
    "## How Word Vectors Work\n",
    "\n",
    "Word vectors work on the principle of distributional semantics, which states that words that occur in similar contexts tend to have similar meanings. Machine learning models analyze large amounts of text data to learn these representations.\n",
    "\n",
    "There are different popular models out there, such as Word2Vec, developed by Google. We'll stick with spaCy, and use the vector model that comes with \"en_core_web_md\"."
   ]
  },
  {
   "cell_type": "code",
   "execution_count": 15,
   "id": "8a811c97-2bfc-48a5-9462-a169a5831436",
   "metadata": {},
   "outputs": [
    {
     "data": {
      "text/plain": [
       "array([-1.8414e+00,  7.3521e-01, -3.6929e+00,  4.5283e-01,  4.2076e+00,\n",
       "        1.6294e+00,  4.1069e+00, -1.5520e+00, -4.2906e+00, -2.5766e+00,\n",
       "        7.3838e+00,  2.4228e-01, -2.1170e+00,  1.3347e+00,  1.4605e+00,\n",
       "        3.0513e+00,  3.1540e-02, -1.6935e+00, -2.4440e+00, -2.2264e+00,\n",
       "       -4.7502e-01,  2.9309e-01, -4.8597e-01,  2.6505e-01, -8.6836e-01,\n",
       "        2.9952e+00, -2.0902e+00,  4.6390e-01, -4.4166e+00,  4.5222e+00,\n",
       "        3.2628e+00, -3.1146e+00,  3.4102e+00, -4.9460e+00,  9.1611e-01,\n",
       "        2.8881e+00,  4.3991e+00, -8.8915e-01,  8.3743e-01,  5.0004e-01,\n",
       "       -2.2199e+00,  1.5325e+00, -1.3836e-01,  4.7562e+00,  2.0264e-01,\n",
       "        2.6771e+00,  2.4195e+00, -5.0354e-01,  6.8477e-01,  1.0058e+00,\n",
       "       -2.1954e+00, -1.4514e+00, -9.1885e-01, -5.1412e+00, -6.3380e-01,\n",
       "        4.0428e-01,  1.8117e+00,  2.2756e+00,  1.0712e+00,  7.7410e-01,\n",
       "        1.9803e+00, -2.5526e+00,  6.9290e-02, -2.9640e+00,  1.8133e+00,\n",
       "        5.8488e+00, -5.2679e+00, -4.5957e+00,  1.0157e+00, -4.4683e-01,\n",
       "       -3.2169e+00, -3.7380e-01, -2.6930e-01, -7.2863e-01,  6.7234e-01,\n",
       "        3.0886e+00, -2.8338e+00,  3.7792e+00, -3.9559e+00, -2.9652e+00,\n",
       "       -1.9461e+00, -2.4938e+00,  1.7285e+00,  1.3097e+00,  2.5433e-01,\n",
       "        3.3165e+00, -4.6825e+00, -5.1863e+00,  2.9033e+00, -2.1984e+00,\n",
       "        2.2201e+00,  2.9278e-01,  4.7267e+00, -6.0633e+00,  8.5412e-02,\n",
       "        4.7925e-01, -4.1905e+00,  4.3512e-01, -4.0096e+00, -1.8388e+00,\n",
       "        3.2873e+00, -1.8661e-01,  7.1632e+00,  7.2172e+00, -4.0146e+00,\n",
       "        7.2041e-01,  1.8356e+00, -6.3995e-01, -5.8340e-03,  1.1706e+00,\n",
       "        2.6319e+00, -1.9748e+00, -3.5649e+00, -1.8602e+00,  9.2391e-01,\n",
       "        5.0079e-01, -1.3724e+00, -2.8439e+00,  2.9246e+00, -5.7493e-01,\n",
       "       -3.4805e+00, -3.7109e+00, -3.8819e+00, -2.8031e+00,  1.3333e+00,\n",
       "       -5.3015e-01,  6.1674e+00, -1.0642e+00,  1.1124e-02, -1.1820e+00,\n",
       "       -9.1357e-01,  9.4815e-01,  3.0966e+00,  8.9788e-01, -4.8749e+00,\n",
       "        5.5742e+00, -2.9881e+00,  3.1187e+00,  1.5080e+00, -4.0240e-01,\n",
       "       -2.3120e+00, -1.9675e+00,  2.2970e+00,  1.2896e+00, -2.9134e+00,\n",
       "        1.9650e+00, -3.4038e+00,  1.2317e+00,  3.5775e-01,  1.0462e+00,\n",
       "       -1.1181e+00,  4.2807e+00, -9.5315e-01,  5.1329e+00,  8.1882e-01,\n",
       "        4.9936e+00, -1.2034e+00,  1.0736e+00, -1.5849e+00, -3.4202e+00,\n",
       "       -1.5564e-01, -5.7334e+00,  9.8818e-02,  2.9179e+00, -3.5165e+00,\n",
       "       -2.9990e+00, -2.7537e+00,  1.9123e+00,  1.7797e+00, -1.6064e+00,\n",
       "        6.3722e-01, -1.1936e+00,  8.0705e-01, -3.4728e-01,  4.7641e+00,\n",
       "        6.0173e-01, -1.3480e+00,  1.8755e+00,  6.2422e-01, -4.6669e+00,\n",
       "       -1.9912e+00,  2.5908e-01,  7.0591e+00, -6.6118e-01,  3.1072e+00,\n",
       "        2.4468e+00, -1.2567e+00, -1.7046e+00,  2.9785e+00,  1.7878e+00,\n",
       "        9.5046e-01,  4.9761e-01, -9.2118e-01, -1.9214e+00, -3.0551e+00,\n",
       "       -1.3203e+00, -7.6659e+00,  2.8952e+00,  1.3950e+00,  1.5671e+00,\n",
       "       -4.5792e+00, -2.0286e+00, -3.7605e+00, -1.4204e+00, -2.3117e+00,\n",
       "       -4.7096e+00,  8.8466e-01,  9.1230e-01,  9.1592e-01, -1.7415e+00,\n",
       "        3.9296e-01,  6.7533e-02, -5.3098e+00, -1.7937e+00,  1.5631e+00,\n",
       "        4.4225e+00, -1.5777e+00, -2.1422e+00,  3.4081e-01, -1.4285e+00,\n",
       "       -9.7772e-01,  3.4099e+00,  9.6100e-01,  4.2507e-01, -2.1751e+00,\n",
       "       -3.7107e+00, -1.1582e-01,  1.5504e+00,  2.7598e+00, -1.1605e+00,\n",
       "        1.4052e+00, -2.6934e+00, -8.4998e-01, -1.8067e+00,  4.5466e-01,\n",
       "        1.2195e+00, -1.8444e+00,  4.8586e+00, -2.1899e+00, -1.6050e+00,\n",
       "        2.2916e+00,  9.3620e-01,  3.5509e+00, -3.7390e+00, -5.0112e-01,\n",
       "       -1.9608e+00, -9.0128e-01,  2.9615e+00,  2.9807e+00, -2.6248e+00,\n",
       "       -9.3430e-01, -3.3588e+00, -2.1147e+00, -3.0382e+00,  3.8461e+00,\n",
       "       -1.4944e+00,  4.9352e-01, -3.6189e+00,  1.1965e+00, -3.7063e+00,\n",
       "       -1.0321e+00,  1.0105e+00,  3.5055e+00, -3.7760e+00,  4.7257e-01,\n",
       "       -1.8635e-02, -2.4229e+00,  1.1093e-01, -2.4209e+00,  2.9007e+00,\n",
       "        7.6623e-01,  2.3216e+00, -1.9824e+00, -4.9637e+00, -1.7930e+00,\n",
       "        2.7736e-01,  4.1429e+00, -1.2355e+00, -4.3063e+00,  3.5940e+00,\n",
       "       -1.3176e+00,  2.5770e+00, -1.0044e+00, -4.4340e-01,  7.7964e-01,\n",
       "        1.7804e+00,  3.1371e-01, -3.5172e+00, -3.1010e-01,  8.4562e-01,\n",
       "        2.4597e+00, -3.0389e+00, -2.0922e+00, -1.3839e+00,  1.2613e+00,\n",
       "        5.5544e-01, -3.2498e+00, -1.3058e+00, -2.3700e+00,  1.1544e+00],\n",
       "      dtype=float32)"
      ]
     },
     "execution_count": 15,
     "metadata": {},
     "output_type": "execute_result"
    }
   ],
   "source": [
    "token = nlp(\"freedom\")\n",
    "vector = token.vector\n",
    "vector"
   ]
  },
  {
   "cell_type": "code",
   "execution_count": 20,
   "id": "4cd257fe-2298-49bc-a2e3-d09ca25bd995",
   "metadata": {},
   "outputs": [],
   "source": [
    "def compare_words(word1, word2):\n",
    "    similarity = nlp(word1).similarity(nlp(word2))\n",
    "    print(f\"Similarity between '{word1}' and '{word2}': {similarity:.4f}\")"
   ]
  },
  {
   "cell_type": "code",
   "execution_count": 21,
   "id": "547d700e-e27e-4a4a-b994-3e5675eff644",
   "metadata": {},
   "outputs": [
    {
     "name": "stdout",
     "output_type": "stream",
     "text": [
      "Similarity between 'king' and 'president': 0.3335\n",
      "Similarity between 'king' and 'pauper': 0.2276\n",
      "Similarity between 'president' and 'pauper': 0.0041\n"
     ]
    }
   ],
   "source": [
    "compare_words('king', 'president')\n",
    "compare_words('king', 'pauper')\n",
    "compare_words('president', 'pauper')"
   ]
  },
  {
   "cell_type": "markdown",
   "id": "b5bdd03b-7320-4acd-926d-bad76552cd00",
   "metadata": {},
   "source": [
    "### Show word embeddings on a 2d plot"
   ]
  },
  {
   "cell_type": "code",
   "execution_count": 44,
   "id": "380e19c4-1935-4543-977e-f51c748ed062",
   "metadata": {},
   "outputs": [],
   "source": [
    "words = ['nurse', 'doctor', 'farmer', 'athlete', 'librarian', 'teacher']\n",
    "\n",
    "vectors = [nlp(word).vector for word in words]\n",
    "\n",
    "pca = PCA(n_components = 2)\n",
    "vectors_2d = pca.fit_transform(vectors)\n"
   ]
  },
  {
   "cell_type": "code",
   "execution_count": 45,
   "id": "eb30dcc8-664c-49eb-b1ea-8d41bc936c8e",
   "metadata": {},
   "outputs": [
    {
     "data": {
      "image/png": "[encoded data removed]",
      "text/plain": [
       "<Figure size 1200x800 with 1 Axes>"
      ]
     },
     "metadata": {},
     "output_type": "display_data"
    }
   ],
   "source": [
    "# Plot the words in 2D space\n",
    "plt.figure(figsize=(12, 8))\n",
    "plt.scatter(vectors_2d[:, 0], vectors_2d[:, 1], c='b', alpha=0.7)\n",
    "\n",
    "for i, word in enumerate(words):\n",
    "    plt.annotate(word, (vectors_2d[i, 0], vectors_2d[i, 1]), xytext=(5, 2), \n",
    "                 textcoords='offset points', ha='right', va='bottom',\n",
    "                 bbox=dict(boxstyle='round,pad=0.5', fc='yellow', alpha=0.5),\n",
    "                 arrowprops=dict(arrowstyle = '->', connectionstyle='arc3,rad=0'))\n",
    "\n",
    "plt.title(\"Word Embeddings in 2D Space\")\n",
    "plt.xlabel(\"First Principal Component\")\n",
    "plt.ylabel(\"Second Principal Component\")\n",
    "plt.grid(True)\n",
    "\n",
    "# Instead of plt.show(), we'll save the plot as an SVG\n",
    "#plt.savefig('../outputs/word_embeddings_2d.svg', format='svg')\n",
    "#print(\"Plot saved as 'word_embeddings_2d.svg'\")"
   ]
  },
  {
   "cell_type": "code",
   "execution_count": 48,
   "id": "a9bbf414-9ef6-43ff-9c02-c056cbc59989",
   "metadata": {},
   "outputs": [
    {
     "name": "stdout",
     "output_type": "stream",
     "text": [
      "\n",
      "Distances between pairs:\n",
      "nurse - doctor: 5.4636\n",
      "nurse - farmer: 52.4864\n",
      "nurse - athlete: 50.1873\n",
      "nurse - librarian: 33.9012\n",
      "nurse - teacher: 28.7386\n",
      "doctor - farmer: 48.8229\n",
      "doctor - athlete: 44.9653\n",
      "doctor - librarian: 28.6502\n",
      "doctor - teacher: 23.2901\n",
      "farmer - athlete: 52.7636\n",
      "farmer - librarian: 29.1812\n",
      "farmer - teacher: 40.2579\n",
      "athlete - librarian: 27.3352\n",
      "athlete - teacher: 22.9449\n",
      "librarian - teacher: 11.3077\n"
     ]
    }
   ],
   "source": [
    "# Calculate and print the Euclidean distances between pairs\n",
    "print(\"\\nDistances between pairs:\")\n",
    "for i in range(len(words)):\n",
    "    for j in range(i+1, len(words)):\n",
    "        distance = np.linalg.norm(vectors_2d[i] - vectors_2d[j])\n",
    "        print(f\"{words[i]} - {words[j]}: {distance:.4f}\")"
   ]
  },
  {
   "cell_type": "code",
   "execution_count": null,
   "id": "50b09c94-05e5-44ca-b7cc-1358f4e026cb",
   "metadata": {},
   "outputs": [],
   "source": []
  }
 ],
 "metadata": {
  "kernelspec": {
   "display_name": "Python (myenv)",
   "language": "python",
   "name": "myenv"
  },
  "language_info": {
   "codemirror_mode": {
    "name": "ipython",
    "version": 3
   },
   "file_extension": ".py",
   "mimetype": "text/x-python",
   "name": "python",
   "nbconvert_exporter": "python",
   "pygments_lexer": "ipython3",
   "version": "3.9.19"
  }
 },
 "nbformat": 4,
 "nbformat_minor": 5
}
